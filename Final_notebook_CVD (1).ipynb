{
 "cells": [
  {
   "cell_type": "code",
   "execution_count": 1,
   "id": "16358244",
   "metadata": {},
   "outputs": [],
   "source": [
    "#importing the required packages\n",
    "import numpy as np\n",
    "import pandas as pd\n",
    "%matplotlib inline\n",
    "import matplotlib.pyplot as plt\n",
    "import seaborn as sns\n",
    "import warnings\n",
    "warnings.filterwarnings('ignore')\n",
    "from sklearn.model_selection import train_test_split\n",
    "from sklearn.linear_model import LogisticRegression\n",
    "from sklearn.metrics import precision_score,recall_score,accuracy_score,confusion_matrix\n",
    "from sklearn.preprocessing import MinMaxScaler\n",
    "from sklearn.preprocessing import StandardScaler\n",
    "from sklearn import preprocessing\n",
    "from sklearn.neighbors import KNeighborsClassifier\n",
    "from sklearn.svm import SVC\n",
    "from sklearn.tree import DecisionTreeClassifier\n",
    "from sklearn.ensemble import RandomForestClassifier\n",
    "from sklearn.model_selection import GridSearchCV"
   ]
  },
  {
   "cell_type": "code",
   "execution_count": 2,
   "id": "af97dbf0",
   "metadata": {},
   "outputs": [
    {
     "data": {
      "text/html": [
       "<div>\n",
       "<style scoped>\n",
       "    .dataframe tbody tr th:only-of-type {\n",
       "        vertical-align: middle;\n",
       "    }\n",
       "\n",
       "    .dataframe tbody tr th {\n",
       "        vertical-align: top;\n",
       "    }\n",
       "\n",
       "    .dataframe thead th {\n",
       "        text-align: right;\n",
       "    }\n",
       "</style>\n",
       "<table border=\"1\" class=\"dataframe\">\n",
       "  <thead>\n",
       "    <tr style=\"text-align: right;\">\n",
       "      <th></th>\n",
       "      <th>id</th>\n",
       "      <th>age</th>\n",
       "      <th>gender</th>\n",
       "      <th>height</th>\n",
       "      <th>weight</th>\n",
       "      <th>ap_hi</th>\n",
       "      <th>ap_lo</th>\n",
       "      <th>cholesterol</th>\n",
       "      <th>gluc</th>\n",
       "      <th>smoke</th>\n",
       "      <th>alco</th>\n",
       "      <th>active</th>\n",
       "      <th>cardio</th>\n",
       "    </tr>\n",
       "  </thead>\n",
       "  <tbody>\n",
       "    <tr>\n",
       "      <th>0</th>\n",
       "      <td>0</td>\n",
       "      <td>18393</td>\n",
       "      <td>Male</td>\n",
       "      <td>168.0</td>\n",
       "      <td>62.0</td>\n",
       "      <td>110</td>\n",
       "      <td>80</td>\n",
       "      <td>normal</td>\n",
       "      <td>normal</td>\n",
       "      <td>no</td>\n",
       "      <td>no</td>\n",
       "      <td>yes</td>\n",
       "      <td>no</td>\n",
       "    </tr>\n",
       "    <tr>\n",
       "      <th>1</th>\n",
       "      <td>1</td>\n",
       "      <td>20228</td>\n",
       "      <td>Female</td>\n",
       "      <td>156.0</td>\n",
       "      <td>85.0</td>\n",
       "      <td>140</td>\n",
       "      <td>90</td>\n",
       "      <td>well above normal</td>\n",
       "      <td>normal</td>\n",
       "      <td>no</td>\n",
       "      <td>no</td>\n",
       "      <td>yes</td>\n",
       "      <td>yes</td>\n",
       "    </tr>\n",
       "    <tr>\n",
       "      <th>2</th>\n",
       "      <td>2</td>\n",
       "      <td>18857</td>\n",
       "      <td>Female</td>\n",
       "      <td>165.0</td>\n",
       "      <td>64.0</td>\n",
       "      <td>130</td>\n",
       "      <td>70</td>\n",
       "      <td>well above normal</td>\n",
       "      <td>normal</td>\n",
       "      <td>no</td>\n",
       "      <td>no</td>\n",
       "      <td>no</td>\n",
       "      <td>yes</td>\n",
       "    </tr>\n",
       "    <tr>\n",
       "      <th>3</th>\n",
       "      <td>3</td>\n",
       "      <td>17623</td>\n",
       "      <td>Male</td>\n",
       "      <td>169.0</td>\n",
       "      <td>82.0</td>\n",
       "      <td>150</td>\n",
       "      <td>100</td>\n",
       "      <td>normal</td>\n",
       "      <td>normal</td>\n",
       "      <td>no</td>\n",
       "      <td>no</td>\n",
       "      <td>yes</td>\n",
       "      <td>yes</td>\n",
       "    </tr>\n",
       "    <tr>\n",
       "      <th>4</th>\n",
       "      <td>4</td>\n",
       "      <td>17474</td>\n",
       "      <td>Female</td>\n",
       "      <td>156.0</td>\n",
       "      <td>56.0</td>\n",
       "      <td>100</td>\n",
       "      <td>60</td>\n",
       "      <td>normal</td>\n",
       "      <td>normal</td>\n",
       "      <td>no</td>\n",
       "      <td>no</td>\n",
       "      <td>no</td>\n",
       "      <td>no</td>\n",
       "    </tr>\n",
       "  </tbody>\n",
       "</table>\n",
       "</div>"
      ],
      "text/plain": [
       "   id    age  gender  height  weight  ap_hi  ap_lo        cholesterol    gluc  \\\n",
       "0   0  18393    Male   168.0    62.0    110     80             normal  normal   \n",
       "1   1  20228  Female   156.0    85.0    140     90  well above normal  normal   \n",
       "2   2  18857  Female   165.0    64.0    130     70  well above normal  normal   \n",
       "3   3  17623    Male   169.0    82.0    150    100             normal  normal   \n",
       "4   4  17474  Female   156.0    56.0    100     60             normal  normal   \n",
       "\n",
       "  smoke alco active cardio  \n",
       "0    no   no    yes     no  \n",
       "1    no   no    yes    yes  \n",
       "2    no   no     no    yes  \n",
       "3    no   no    yes    yes  \n",
       "4    no   no     no     no  "
      ]
     },
     "execution_count": 2,
     "metadata": {},
     "output_type": "execute_result"
    }
   ],
   "source": [
    "#loading the given csv data\n",
    "data = pd.read_csv(r'C:\\Users\\Dell\\Downloads\\cardio_data1.csv')\n",
    "data.head()"
   ]
  },
  {
   "cell_type": "code",
   "execution_count": 3,
   "id": "1522a8f2",
   "metadata": {},
   "outputs": [
    {
     "data": {
      "text/plain": [
       "Index(['id', 'age', 'gender', 'height', 'weight', 'ap_hi', 'ap_lo',\n",
       "       'cholesterol', 'gluc', 'smoke', 'alco', 'active', 'cardio'],\n",
       "      dtype='object')"
      ]
     },
     "execution_count": 3,
     "metadata": {},
     "output_type": "execute_result"
    }
   ],
   "source": [
    "data.columns"
   ]
  },
  {
   "cell_type": "code",
   "execution_count": 4,
   "id": "6df9ed35",
   "metadata": {},
   "outputs": [
    {
     "data": {
      "text/plain": [
       "(70000, 13)"
      ]
     },
     "execution_count": 4,
     "metadata": {},
     "output_type": "execute_result"
    }
   ],
   "source": [
    "#finding the number of columns and rows\n",
    "data.shape"
   ]
  },
  {
   "cell_type": "code",
   "execution_count": 5,
   "id": "4c512a94",
   "metadata": {},
   "outputs": [
    {
     "data": {
      "text/html": [
       "<div>\n",
       "<style scoped>\n",
       "    .dataframe tbody tr th:only-of-type {\n",
       "        vertical-align: middle;\n",
       "    }\n",
       "\n",
       "    .dataframe tbody tr th {\n",
       "        vertical-align: top;\n",
       "    }\n",
       "\n",
       "    .dataframe thead th {\n",
       "        text-align: right;\n",
       "    }\n",
       "</style>\n",
       "<table border=\"1\" class=\"dataframe\">\n",
       "  <thead>\n",
       "    <tr style=\"text-align: right;\">\n",
       "      <th></th>\n",
       "      <th>id</th>\n",
       "      <th>age</th>\n",
       "      <th>height</th>\n",
       "      <th>weight</th>\n",
       "      <th>ap_hi</th>\n",
       "      <th>ap_lo</th>\n",
       "    </tr>\n",
       "  </thead>\n",
       "  <tbody>\n",
       "    <tr>\n",
       "      <th>count</th>\n",
       "      <td>70000.000000</td>\n",
       "      <td>70000.000000</td>\n",
       "      <td>69941.000000</td>\n",
       "      <td>70000.000000</td>\n",
       "      <td>70000.000000</td>\n",
       "      <td>70000.000000</td>\n",
       "    </tr>\n",
       "    <tr>\n",
       "      <th>mean</th>\n",
       "      <td>49972.419900</td>\n",
       "      <td>19468.865814</td>\n",
       "      <td>164.358116</td>\n",
       "      <td>74.205690</td>\n",
       "      <td>128.817286</td>\n",
       "      <td>96.630414</td>\n",
       "    </tr>\n",
       "    <tr>\n",
       "      <th>std</th>\n",
       "      <td>28851.302323</td>\n",
       "      <td>2467.251667</td>\n",
       "      <td>8.210681</td>\n",
       "      <td>14.395757</td>\n",
       "      <td>154.011419</td>\n",
       "      <td>188.472530</td>\n",
       "    </tr>\n",
       "    <tr>\n",
       "      <th>min</th>\n",
       "      <td>0.000000</td>\n",
       "      <td>10798.000000</td>\n",
       "      <td>55.000000</td>\n",
       "      <td>10.000000</td>\n",
       "      <td>-150.000000</td>\n",
       "      <td>-70.000000</td>\n",
       "    </tr>\n",
       "    <tr>\n",
       "      <th>25%</th>\n",
       "      <td>25006.750000</td>\n",
       "      <td>17664.000000</td>\n",
       "      <td>159.000000</td>\n",
       "      <td>65.000000</td>\n",
       "      <td>120.000000</td>\n",
       "      <td>80.000000</td>\n",
       "    </tr>\n",
       "    <tr>\n",
       "      <th>50%</th>\n",
       "      <td>50001.500000</td>\n",
       "      <td>19703.000000</td>\n",
       "      <td>165.000000</td>\n",
       "      <td>72.000000</td>\n",
       "      <td>120.000000</td>\n",
       "      <td>80.000000</td>\n",
       "    </tr>\n",
       "    <tr>\n",
       "      <th>75%</th>\n",
       "      <td>74889.250000</td>\n",
       "      <td>21327.000000</td>\n",
       "      <td>170.000000</td>\n",
       "      <td>82.000000</td>\n",
       "      <td>140.000000</td>\n",
       "      <td>90.000000</td>\n",
       "    </tr>\n",
       "    <tr>\n",
       "      <th>max</th>\n",
       "      <td>99999.000000</td>\n",
       "      <td>23713.000000</td>\n",
       "      <td>250.000000</td>\n",
       "      <td>200.000000</td>\n",
       "      <td>16020.000000</td>\n",
       "      <td>11000.000000</td>\n",
       "    </tr>\n",
       "  </tbody>\n",
       "</table>\n",
       "</div>"
      ],
      "text/plain": [
       "                 id           age        height        weight         ap_hi  \\\n",
       "count  70000.000000  70000.000000  69941.000000  70000.000000  70000.000000   \n",
       "mean   49972.419900  19468.865814    164.358116     74.205690    128.817286   \n",
       "std    28851.302323   2467.251667      8.210681     14.395757    154.011419   \n",
       "min        0.000000  10798.000000     55.000000     10.000000   -150.000000   \n",
       "25%    25006.750000  17664.000000    159.000000     65.000000    120.000000   \n",
       "50%    50001.500000  19703.000000    165.000000     72.000000    120.000000   \n",
       "75%    74889.250000  21327.000000    170.000000     82.000000    140.000000   \n",
       "max    99999.000000  23713.000000    250.000000    200.000000  16020.000000   \n",
       "\n",
       "              ap_lo  \n",
       "count  70000.000000  \n",
       "mean      96.630414  \n",
       "std      188.472530  \n",
       "min      -70.000000  \n",
       "25%       80.000000  \n",
       "50%       80.000000  \n",
       "75%       90.000000  \n",
       "max    11000.000000  "
      ]
     },
     "execution_count": 5,
     "metadata": {},
     "output_type": "execute_result"
    }
   ],
   "source": [
    "#Statistical summary\n",
    "data.describe()"
   ]
  },
  {
   "cell_type": "code",
   "execution_count": 6,
   "id": "a7925294",
   "metadata": {},
   "outputs": [
    {
     "name": "stdout",
     "output_type": "stream",
     "text": [
      "<class 'pandas.core.frame.DataFrame'>\n",
      "RangeIndex: 70000 entries, 0 to 69999\n",
      "Data columns (total 13 columns):\n",
      " #   Column       Non-Null Count  Dtype  \n",
      "---  ------       --------------  -----  \n",
      " 0   id           70000 non-null  int64  \n",
      " 1   age          70000 non-null  int64  \n",
      " 2   gender       69992 non-null  object \n",
      " 3   height       69941 non-null  float64\n",
      " 4   weight       70000 non-null  float64\n",
      " 5   ap_hi        70000 non-null  int64  \n",
      " 6   ap_lo        70000 non-null  int64  \n",
      " 7   cholesterol  69985 non-null  object \n",
      " 8   gluc         70000 non-null  object \n",
      " 9   smoke        70000 non-null  object \n",
      " 10  alco         69987 non-null  object \n",
      " 11  active       70000 non-null  object \n",
      " 12  cardio       70000 non-null  object \n",
      "dtypes: float64(2), int64(4), object(7)\n",
      "memory usage: 6.9+ MB\n"
     ]
    }
   ],
   "source": [
    "#finding the data information\n",
    "data.info()"
   ]
  },
  {
   "cell_type": "markdown",
   "id": "7062f15f",
   "metadata": {},
   "source": [
    "# Exploratory Data Analysis"
   ]
  },
  {
   "cell_type": "code",
   "execution_count": 7,
   "id": "251bfbb6",
   "metadata": {},
   "outputs": [
    {
     "data": {
      "image/png": "[encoded data removed]",
      "text/plain": [
       "<Figure size 432x288 with 1 Axes>"
      ]
     },
     "metadata": {
      "needs_background": "light"
     },
     "output_type": "display_data"
    }
   ],
   "source": [
    "sns.countplot(x=data[\"gender\"])\n",
    "plt.title(\"Countplot of gender\")\n",
    "plt.xlabel(\"Gender\")\n",
    "plt.ylabel(\"Count\")\n",
    "plt.show()"
   ]
  },
  {
   "cell_type": "markdown",
   "id": "b455bda2",
   "metadata": {},
   "source": [
    "In this dataset number of females is higher than males."
   ]
  },
  {
   "cell_type": "code",
   "execution_count": 8,
   "id": "cfac8366",
   "metadata": {},
   "outputs": [
    {
     "data": {
      "image/png": "[encoded data removed]",
      "text/plain": [
       "<Figure size 432x288 with 1 Axes>"
      ]
     },
     "metadata": {
      "needs_background": "light"
     },
     "output_type": "display_data"
    }
   ],
   "source": [
    "sns.countplot(x=data[\"cardio\"])\n",
    "plt.title(\"Countplot of cardio\")\n",
    "plt.xlabel(\"Gender\")\n",
    "plt.ylabel(\"Count\")\n",
    "plt.show()"
   ]
  },
  {
   "cell_type": "markdown",
   "id": "4269530f",
   "metadata": {},
   "source": [
    "The number of people with cardiovascular and without cardiovascular are almost similar"
   ]
  },
  {
   "cell_type": "code",
   "execution_count": 9,
   "id": "9bb59592",
   "metadata": {},
   "outputs": [
    {
     "data": {
      "text/plain": [
       "no     0.5003\n",
       "yes    0.4997\n",
       "Name: cardio, dtype: float64"
      ]
     },
     "execution_count": 9,
     "metadata": {},
     "output_type": "execute_result"
    }
   ],
   "source": [
    "data[\"cardio\"].value_counts(normalize=True)"
   ]
  },
  {
   "cell_type": "code",
   "execution_count": 10,
   "id": "ba87b438",
   "metadata": {},
   "outputs": [
    {
     "data": {
      "image/png": "[encoded data removed]",
      "text/plain": [
       "<Figure size 432x288 with 1 Axes>"
      ]
     },
     "metadata": {
      "needs_background": "light"
     },
     "output_type": "display_data"
    }
   ],
   "source": [
    "sns.countplot(x=data[\"smoke\"])\n",
    "plt.title(\"Countplot of smokers\")\n",
    "plt.xlabel(\"Smoker\")\n",
    "plt.ylabel(\"Count\")\n",
    "plt.show()"
   ]
  },
  {
   "cell_type": "markdown",
   "id": "e1578b41",
   "metadata": {},
   "source": [
    "The number of smokers are lesser compaired to non smokers.More than 90 % of patients are non smokers."
   ]
  },
  {
   "cell_type": "code",
   "execution_count": 11,
   "id": "1fa46509",
   "metadata": {},
   "outputs": [
    {
     "data": {
      "text/plain": [
       "no     0.911871\n",
       "yes    0.088129\n",
       "Name: smoke, dtype: float64"
      ]
     },
     "execution_count": 11,
     "metadata": {},
     "output_type": "execute_result"
    }
   ],
   "source": [
    "data[\"smoke\"].value_counts(normalize=True)"
   ]
  },
  {
   "cell_type": "code",
   "execution_count": 12,
   "id": "0fcbb26c",
   "metadata": {},
   "outputs": [
    {
     "data": {
      "image/png": "[encoded data removed]",
      "text/plain": [
       "<Figure size 432x288 with 1 Axes>"
      ]
     },
     "metadata": {},
     "output_type": "display_data"
    }
   ],
   "source": [
    "plt.pie(x=data[\"gluc\"].value_counts(),labels=['normal', 'well above normal', 'above normal'],autopct='%.2f')\n",
    "plt.title('Glucose level of patients')\n",
    "plt.legend()\n",
    "plt.show()"
   ]
  },
  {
   "cell_type": "markdown",
   "id": "0fe51849",
   "metadata": {},
   "source": [
    "84.97% of patients having glucose level in normal.7.41% of patients have above normal level of glucose and 7.62% of patients have well above normal level of glucose"
   ]
  },
  {
   "cell_type": "code",
   "execution_count": 13,
   "id": "63aed164",
   "metadata": {},
   "outputs": [
    {
     "data": {
      "image/png": "[encoded data removed]",
      "text/plain": [
       "<Figure size 432x288 with 1 Axes>"
      ]
     },
     "metadata": {},
     "output_type": "display_data"
    }
   ],
   "source": [
    "plt.pie(x=data[\"cholesterol\"].value_counts(),labels=['normal', 'well above normal', 'above normal'],autopct='%.2f')\n",
    "plt.title('Cholestrol level of patients')\n",
    "plt.legend()\n",
    "plt.show()"
   ]
  },
  {
   "cell_type": "markdown",
   "id": "53f0a19c",
   "metadata": {},
   "source": [
    "About 74.84% of them have a normal cholestrol value. 11.52% have above normal value of cholestrol and 13.64% patients has well above normal value.\n",
    "\n"
   ]
  },
  {
   "cell_type": "code",
   "execution_count": 14,
   "id": "337f2d22",
   "metadata": {},
   "outputs": [
    {
     "data": {
      "image/png": "[encoded data removed]",
      "text/plain": [
       "<Figure size 576x432 with 1 Axes>"
      ]
     },
     "metadata": {
      "needs_background": "light"
     },
     "output_type": "display_data"
    }
   ],
   "source": [
    "plt.figure(figsize=(8,6))\n",
    "sns.histplot(data[\"height\"],binwidth=5)\n",
    "plt.title(\"Distribution of height\")\n",
    "plt.show()"
   ]
  },
  {
   "cell_type": "markdown",
   "id": "728616e5",
   "metadata": {},
   "source": [
    "Most of people height in between 155 to 175.Very few pople having height lessthan 150."
   ]
  },
  {
   "cell_type": "code",
   "execution_count": 15,
   "id": "81e52393",
   "metadata": {},
   "outputs": [
    {
     "data": {
      "image/png": "[encoded data removed]",
      "text/plain": [
       "<Figure size 576x432 with 1 Axes>"
      ]
     },
     "metadata": {
      "needs_background": "light"
     },
     "output_type": "display_data"
    }
   ],
   "source": [
    "plt.figure(figsize=(8,6))\n",
    "sns.histplot(data[\"weight\"],binwidth=5)\n",
    "plt.title(\"Distribution of weight\")\n",
    "plt.show()"
   ]
  },
  {
   "cell_type": "markdown",
   "id": "bd636c4f",
   "metadata": {},
   "source": [
    "Graph is right skewed.Nearly 40000 people with weight range between 65 to 75"
   ]
  },
  {
   "cell_type": "code",
   "execution_count": 16,
   "id": "cfc6c9e2",
   "metadata": {},
   "outputs": [
    {
     "data": {
      "image/png": "[encoded data removed]",
      "text/plain": [
       "<Figure size 432x288 with 1 Axes>"
      ]
     },
     "metadata": {
      "needs_background": "light"
     },
     "output_type": "display_data"
    }
   ],
   "source": [
    "sns.lineplot(x=data['cardio'],y=data['ap_hi'],marker='o')\n",
    "plt.title('lineplot of systolic blood pressure values with respect to cardio vascular disease')\n",
    "plt.show()"
   ]
  },
  {
   "cell_type": "markdown",
   "id": "e4fc2a45",
   "metadata": {},
   "source": [
    "As the value of ap_hi increases the chances for cardio vascular disease also increases. Both are directly proportional."
   ]
  },
  {
   "cell_type": "code",
   "execution_count": 17,
   "id": "d2023274",
   "metadata": {},
   "outputs": [
    {
     "data": {
      "image/png": "[encoded data removed]",
      "text/plain": [
       "<Figure size 432x288 with 1 Axes>"
      ]
     },
     "metadata": {
      "needs_background": "light"
     },
     "output_type": "display_data"
    }
   ],
   "source": [
    "sns.lineplot(x=data['cardio'],y=data['ap_lo'],marker='o')\n",
    "plt.title('lineplot of diastolic blood pressure values with respect to cardio vascular disease')\n",
    "plt.show()"
   ]
  },
  {
   "cell_type": "markdown",
   "id": "dbfeb8ab",
   "metadata": {},
   "source": [
    "As the value of ap_lo increases the chances for cardio vascular disease also increases. Both are directly proportional."
   ]
  },
  {
   "cell_type": "code",
   "execution_count": 18,
   "id": "71d118dc",
   "metadata": {},
   "outputs": [],
   "source": [
    "#age is given in number of days.So we want to change into year\n",
    "#data[\"age\"]=np.round(data[\"age\"]/365)\n",
    "data['age']=np.round(data['age']/365)"
   ]
  },
  {
   "cell_type": "code",
   "execution_count": 19,
   "id": "fa255d94",
   "metadata": {},
   "outputs": [
    {
     "data": {
      "image/png": "[encoded data removed]",
      "text/plain": [
       "<Figure size 1440x1440 with 7 Axes>"
      ]
     },
     "metadata": {
      "needs_background": "light"
     },
     "output_type": "display_data"
    }
   ],
   "source": [
    "#setting the required plot style\n",
    "plt.style.use('bmh')\n",
    "#Defining a function graph()\n",
    "def graph(x):\n",
    "    sns.countplot(x = x,hue= 'cardio', data = data )\n",
    "    #adding labels for x and y axis\n",
    "    plt.xlabel(x, fontsize = 15)\n",
    "    plt.ylabel('Count', fontsize = 15)\n",
    "    plt.xticks(fontsize=9)\n",
    "    plt.yticks(fontsize=9)\n",
    "plt.figure(figsize=(20,20))\n",
    "#plotting subplots using the function graph()\n",
    "plt.subplot(421)\n",
    "graph('age')\n",
    "plt.subplot(422)\n",
    "graph('gender')\n",
    "plt.subplot(423)\n",
    "graph('cholesterol')\n",
    "plt.subplot(424)\n",
    "graph('gluc')\n",
    "plt.subplot(425)\n",
    "graph('smoke')\n",
    "plt.subplot(426)\n",
    "graph('alco')\n",
    "plt.subplot(427)\n",
    "graph('active')\n",
    "plt.show();"
   ]
  },
  {
   "cell_type": "markdown",
   "id": "7cb3e21f",
   "metadata": {},
   "source": [
    "> As age increases the chance of getting cardio disease increases\n",
    "\n",
    "> Cholesterol and gluc have less effect on cardio disease\n",
    "\n",
    "> Cardio diseases are more common in both males and females.Since the female data is more in the dataset, number of females having CVD disease are more than males\n",
    "\n",
    "> Consumption of alcohol and smoking habit has less effect as its similar to those who don't have these habits.\n",
    "\n",
    "> Active people can also have a chance of cardio disease"
   ]
  },
  {
   "cell_type": "code",
   "execution_count": 20,
   "id": "b722a91d",
   "metadata": {},
   "outputs": [
    {
     "data": {
      "image/png": "[encoded data removed]",
      "text/plain": [
       "<Figure size 1440x1440 with 5 Axes>"
      ]
     },
     "metadata": {
      "needs_background": "light"
     },
     "output_type": "display_data"
    }
   ],
   "source": [
    "#setting the required plot style\n",
    "plt.style.use('bmh')\n",
    "#Defining a function graph()\n",
    "def graph(y):\n",
    "    sns.boxplot(x = 'cardio', y = y , data = data)\n",
    "    plt.xlabel('cardio', fontsize = 18)\n",
    "    plt.ylabel( y, fontsize = 18)\n",
    "plt.figure(figsize=(20,20))\n",
    "#plotting subplots using the function graph()\n",
    "plt.subplot(331)\n",
    "graph('age')\n",
    "plt.subplot(332)\n",
    "graph('height')\n",
    "plt.subplot(333)\n",
    "graph('weight')\n",
    "plt.subplot(334)\n",
    "graph('ap_hi')\n",
    "plt.subplot(335)\n",
    "graph('ap_lo')\n",
    "plt.show();\n"
   ]
  },
  {
   "cell_type": "markdown",
   "id": "368d323d",
   "metadata": {},
   "source": [
    "> Cardio disease is common for people having:\n",
    "    \n",
    "• Age 50-60 years\n",
    "\n",
    "• Weight 70-80kg\n",
    "\n",
    "• Systolic pressure 120-200 mmHg\n",
    "\n",
    "• Diastolic pressure 80-120 mmHg\n",
    "\n",
    "• Outliers need to be handled"
   ]
  },
  {
   "cell_type": "markdown",
   "id": "3c17cf20",
   "metadata": {},
   "source": [
    "# Data Cleaning"
   ]
  },
  {
   "cell_type": "code",
   "execution_count": 21,
   "id": "1fd3da7f",
   "metadata": {},
   "outputs": [],
   "source": [
    "#Missing Values"
   ]
  },
  {
   "cell_type": "code",
   "execution_count": 22,
   "id": "f66278b9",
   "metadata": {},
   "outputs": [
    {
     "data": {
      "text/plain": [
       "id              0\n",
       "age             0\n",
       "gender          8\n",
       "height         59\n",
       "weight          0\n",
       "ap_hi           0\n",
       "ap_lo           0\n",
       "cholesterol    15\n",
       "gluc            0\n",
       "smoke           0\n",
       "alco           13\n",
       "active          0\n",
       "cardio          0\n",
       "dtype: int64"
      ]
     },
     "execution_count": 22,
     "metadata": {},
     "output_type": "execute_result"
    }
   ],
   "source": [
    "#Checking for null values\n",
    "data.isna().sum()"
   ]
  },
  {
   "cell_type": "code",
   "execution_count": 23,
   "id": "ae47bc02",
   "metadata": {},
   "outputs": [],
   "source": [
    "#Since the alco and chlesterol are categorical values,null values can be filled with mode."
   ]
  },
  {
   "cell_type": "code",
   "execution_count": 24,
   "id": "36d05582",
   "metadata": {},
   "outputs": [],
   "source": [
    "cols=['alco','cholesterol','gender']\n",
    "for i in cols:\n",
    "    data[i]=data[i].fillna(data[i].mode()[0])\n",
    "    "
   ]
  },
  {
   "cell_type": "code",
   "execution_count": 25,
   "id": "e6414dc9",
   "metadata": {},
   "outputs": [],
   "source": [
    "#plotting of missing values of height"
   ]
  },
  {
   "cell_type": "code",
   "execution_count": 26,
   "id": "9d3718f2",
   "metadata": {},
   "outputs": [
    {
     "data": {
      "text/plain": [
       "<function matplotlib.pyplot.show(close=None, block=None)>"
      ]
     },
     "execution_count": 26,
     "metadata": {},
     "output_type": "execute_result"
    },
    {
     "data": {
      "image/png": "[encoded data removed]",
      "text/plain": [
       "<Figure size 432x288 with 1 Axes>"
      ]
     },
     "metadata": {
      "needs_background": "light"
     },
     "output_type": "display_data"
    }
   ],
   "source": [
    "sns.histplot(data['height'],binwidth=5)\n",
    "plt.title('Distribution of height')\n",
    "plt.show"
   ]
  },
  {
   "cell_type": "code",
   "execution_count": 27,
   "id": "5cd9d158",
   "metadata": {},
   "outputs": [],
   "source": [
    "#Since the data distribution is normal,we can fill the missing values of height with mean"
   ]
  },
  {
   "cell_type": "code",
   "execution_count": 28,
   "id": "a292c912",
   "metadata": {},
   "outputs": [],
   "source": [
    "data['height']=data['height'].fillna(data['height'].mean())"
   ]
  },
  {
   "cell_type": "code",
   "execution_count": 29,
   "id": "e38ba7fa",
   "metadata": {},
   "outputs": [
    {
     "data": {
      "text/plain": [
       "id             0\n",
       "age            0\n",
       "gender         0\n",
       "height         0\n",
       "weight         0\n",
       "ap_hi          0\n",
       "ap_lo          0\n",
       "cholesterol    0\n",
       "gluc           0\n",
       "smoke          0\n",
       "alco           0\n",
       "active         0\n",
       "cardio         0\n",
       "dtype: int64"
      ]
     },
     "execution_count": 29,
     "metadata": {},
     "output_type": "execute_result"
    }
   ],
   "source": [
    "data.isna().sum()"
   ]
  },
  {
   "cell_type": "code",
   "execution_count": 30,
   "id": "2f16c6f2",
   "metadata": {},
   "outputs": [
    {
     "data": {
      "text/plain": [
       "id             70000\n",
       "age               28\n",
       "gender             2\n",
       "height           110\n",
       "weight           287\n",
       "ap_hi            153\n",
       "ap_lo            157\n",
       "cholesterol        3\n",
       "gluc               3\n",
       "smoke              2\n",
       "alco               2\n",
       "active             2\n",
       "cardio             2\n",
       "dtype: int64"
      ]
     },
     "execution_count": 30,
     "metadata": {},
     "output_type": "execute_result"
    }
   ],
   "source": [
    "#finding unique values\n",
    "data.nunique()"
   ]
  },
  {
   "cell_type": "code",
   "execution_count": 31,
   "id": "73b4b4e2",
   "metadata": {},
   "outputs": [],
   "source": [
    "#Dropping of 'id' column"
   ]
  },
  {
   "cell_type": "code",
   "execution_count": 32,
   "id": "11715161",
   "metadata": {},
   "outputs": [],
   "source": [
    "data.drop('id',axis=1,inplace=True)"
   ]
  },
  {
   "cell_type": "code",
   "execution_count": 33,
   "id": "1932b47c",
   "metadata": {},
   "outputs": [
    {
     "data": {
      "text/html": [
       "<div>\n",
       "<style scoped>\n",
       "    .dataframe tbody tr th:only-of-type {\n",
       "        vertical-align: middle;\n",
       "    }\n",
       "\n",
       "    .dataframe tbody tr th {\n",
       "        vertical-align: top;\n",
       "    }\n",
       "\n",
       "    .dataframe thead th {\n",
       "        text-align: right;\n",
       "    }\n",
       "</style>\n",
       "<table border=\"1\" class=\"dataframe\">\n",
       "  <thead>\n",
       "    <tr style=\"text-align: right;\">\n",
       "      <th></th>\n",
       "      <th>age</th>\n",
       "      <th>gender</th>\n",
       "      <th>height</th>\n",
       "      <th>weight</th>\n",
       "      <th>ap_hi</th>\n",
       "      <th>ap_lo</th>\n",
       "      <th>cholesterol</th>\n",
       "      <th>gluc</th>\n",
       "      <th>smoke</th>\n",
       "      <th>alco</th>\n",
       "      <th>active</th>\n",
       "      <th>cardio</th>\n",
       "    </tr>\n",
       "  </thead>\n",
       "  <tbody>\n",
       "    <tr>\n",
       "      <th>0</th>\n",
       "      <td>50.0</td>\n",
       "      <td>Male</td>\n",
       "      <td>168.0</td>\n",
       "      <td>62.0</td>\n",
       "      <td>110</td>\n",
       "      <td>80</td>\n",
       "      <td>normal</td>\n",
       "      <td>normal</td>\n",
       "      <td>no</td>\n",
       "      <td>no</td>\n",
       "      <td>yes</td>\n",
       "      <td>no</td>\n",
       "    </tr>\n",
       "    <tr>\n",
       "      <th>1</th>\n",
       "      <td>55.0</td>\n",
       "      <td>Female</td>\n",
       "      <td>156.0</td>\n",
       "      <td>85.0</td>\n",
       "      <td>140</td>\n",
       "      <td>90</td>\n",
       "      <td>well above normal</td>\n",
       "      <td>normal</td>\n",
       "      <td>no</td>\n",
       "      <td>no</td>\n",
       "      <td>yes</td>\n",
       "      <td>yes</td>\n",
       "    </tr>\n",
       "    <tr>\n",
       "      <th>2</th>\n",
       "      <td>52.0</td>\n",
       "      <td>Female</td>\n",
       "      <td>165.0</td>\n",
       "      <td>64.0</td>\n",
       "      <td>130</td>\n",
       "      <td>70</td>\n",
       "      <td>well above normal</td>\n",
       "      <td>normal</td>\n",
       "      <td>no</td>\n",
       "      <td>no</td>\n",
       "      <td>no</td>\n",
       "      <td>yes</td>\n",
       "    </tr>\n",
       "    <tr>\n",
       "      <th>3</th>\n",
       "      <td>48.0</td>\n",
       "      <td>Male</td>\n",
       "      <td>169.0</td>\n",
       "      <td>82.0</td>\n",
       "      <td>150</td>\n",
       "      <td>100</td>\n",
       "      <td>normal</td>\n",
       "      <td>normal</td>\n",
       "      <td>no</td>\n",
       "      <td>no</td>\n",
       "      <td>yes</td>\n",
       "      <td>yes</td>\n",
       "    </tr>\n",
       "    <tr>\n",
       "      <th>4</th>\n",
       "      <td>48.0</td>\n",
       "      <td>Female</td>\n",
       "      <td>156.0</td>\n",
       "      <td>56.0</td>\n",
       "      <td>100</td>\n",
       "      <td>60</td>\n",
       "      <td>normal</td>\n",
       "      <td>normal</td>\n",
       "      <td>no</td>\n",
       "      <td>no</td>\n",
       "      <td>no</td>\n",
       "      <td>no</td>\n",
       "    </tr>\n",
       "  </tbody>\n",
       "</table>\n",
       "</div>"
      ],
      "text/plain": [
       "    age  gender  height  weight  ap_hi  ap_lo        cholesterol    gluc  \\\n",
       "0  50.0    Male   168.0    62.0    110     80             normal  normal   \n",
       "1  55.0  Female   156.0    85.0    140     90  well above normal  normal   \n",
       "2  52.0  Female   165.0    64.0    130     70  well above normal  normal   \n",
       "3  48.0    Male   169.0    82.0    150    100             normal  normal   \n",
       "4  48.0  Female   156.0    56.0    100     60             normal  normal   \n",
       "\n",
       "  smoke alco active cardio  \n",
       "0    no   no    yes     no  \n",
       "1    no   no    yes    yes  \n",
       "2    no   no     no    yes  \n",
       "3    no   no    yes    yes  \n",
       "4    no   no     no     no  "
      ]
     },
     "execution_count": 33,
     "metadata": {},
     "output_type": "execute_result"
    }
   ],
   "source": [
    "data.head()"
   ]
  },
  {
   "cell_type": "code",
   "execution_count": 34,
   "id": "9abb57cd",
   "metadata": {},
   "outputs": [
    {
     "data": {
      "text/html": [
       "<div>\n",
       "<style scoped>\n",
       "    .dataframe tbody tr th:only-of-type {\n",
       "        vertical-align: middle;\n",
       "    }\n",
       "\n",
       "    .dataframe tbody tr th {\n",
       "        vertical-align: top;\n",
       "    }\n",
       "\n",
       "    .dataframe thead th {\n",
       "        text-align: right;\n",
       "    }\n",
       "</style>\n",
       "<table border=\"1\" class=\"dataframe\">\n",
       "  <thead>\n",
       "    <tr style=\"text-align: right;\">\n",
       "      <th></th>\n",
       "      <th>gender</th>\n",
       "      <th>cholesterol</th>\n",
       "      <th>gluc</th>\n",
       "      <th>smoke</th>\n",
       "      <th>alco</th>\n",
       "      <th>active</th>\n",
       "      <th>cardio</th>\n",
       "    </tr>\n",
       "  </thead>\n",
       "  <tbody>\n",
       "    <tr>\n",
       "      <th>0</th>\n",
       "      <td>Male</td>\n",
       "      <td>normal</td>\n",
       "      <td>normal</td>\n",
       "      <td>no</td>\n",
       "      <td>no</td>\n",
       "      <td>yes</td>\n",
       "      <td>no</td>\n",
       "    </tr>\n",
       "    <tr>\n",
       "      <th>1</th>\n",
       "      <td>Female</td>\n",
       "      <td>well above normal</td>\n",
       "      <td>normal</td>\n",
       "      <td>no</td>\n",
       "      <td>no</td>\n",
       "      <td>yes</td>\n",
       "      <td>yes</td>\n",
       "    </tr>\n",
       "    <tr>\n",
       "      <th>2</th>\n",
       "      <td>Female</td>\n",
       "      <td>well above normal</td>\n",
       "      <td>normal</td>\n",
       "      <td>no</td>\n",
       "      <td>no</td>\n",
       "      <td>no</td>\n",
       "      <td>yes</td>\n",
       "    </tr>\n",
       "    <tr>\n",
       "      <th>3</th>\n",
       "      <td>Male</td>\n",
       "      <td>normal</td>\n",
       "      <td>normal</td>\n",
       "      <td>no</td>\n",
       "      <td>no</td>\n",
       "      <td>yes</td>\n",
       "      <td>yes</td>\n",
       "    </tr>\n",
       "    <tr>\n",
       "      <th>4</th>\n",
       "      <td>Female</td>\n",
       "      <td>normal</td>\n",
       "      <td>normal</td>\n",
       "      <td>no</td>\n",
       "      <td>no</td>\n",
       "      <td>no</td>\n",
       "      <td>no</td>\n",
       "    </tr>\n",
       "  </tbody>\n",
       "</table>\n",
       "</div>"
      ],
      "text/plain": [
       "   gender        cholesterol    gluc smoke alco active cardio\n",
       "0    Male             normal  normal    no   no    yes     no\n",
       "1  Female  well above normal  normal    no   no    yes    yes\n",
       "2  Female  well above normal  normal    no   no     no    yes\n",
       "3    Male             normal  normal    no   no    yes    yes\n",
       "4  Female             normal  normal    no   no     no     no"
      ]
     },
     "execution_count": 34,
     "metadata": {},
     "output_type": "execute_result"
    }
   ],
   "source": [
    "#sorting categorical values\n",
    "categorical_features = data.select_dtypes(include=[np.object])\n",
    "categorical_features.head()"
   ]
  },
  {
   "cell_type": "code",
   "execution_count": 35,
   "id": "1b308e4b",
   "metadata": {},
   "outputs": [
    {
     "data": {
      "text/html": [
       "<div>\n",
       "<style scoped>\n",
       "    .dataframe tbody tr th:only-of-type {\n",
       "        vertical-align: middle;\n",
       "    }\n",
       "\n",
       "    .dataframe tbody tr th {\n",
       "        vertical-align: top;\n",
       "    }\n",
       "\n",
       "    .dataframe thead th {\n",
       "        text-align: right;\n",
       "    }\n",
       "</style>\n",
       "<table border=\"1\" class=\"dataframe\">\n",
       "  <thead>\n",
       "    <tr style=\"text-align: right;\">\n",
       "      <th></th>\n",
       "      <th>age</th>\n",
       "      <th>height</th>\n",
       "      <th>weight</th>\n",
       "      <th>ap_hi</th>\n",
       "      <th>ap_lo</th>\n",
       "    </tr>\n",
       "  </thead>\n",
       "  <tbody>\n",
       "    <tr>\n",
       "      <th>0</th>\n",
       "      <td>50.0</td>\n",
       "      <td>168.0</td>\n",
       "      <td>62.0</td>\n",
       "      <td>110</td>\n",
       "      <td>80</td>\n",
       "    </tr>\n",
       "    <tr>\n",
       "      <th>1</th>\n",
       "      <td>55.0</td>\n",
       "      <td>156.0</td>\n",
       "      <td>85.0</td>\n",
       "      <td>140</td>\n",
       "      <td>90</td>\n",
       "    </tr>\n",
       "    <tr>\n",
       "      <th>2</th>\n",
       "      <td>52.0</td>\n",
       "      <td>165.0</td>\n",
       "      <td>64.0</td>\n",
       "      <td>130</td>\n",
       "      <td>70</td>\n",
       "    </tr>\n",
       "    <tr>\n",
       "      <th>3</th>\n",
       "      <td>48.0</td>\n",
       "      <td>169.0</td>\n",
       "      <td>82.0</td>\n",
       "      <td>150</td>\n",
       "      <td>100</td>\n",
       "    </tr>\n",
       "    <tr>\n",
       "      <th>4</th>\n",
       "      <td>48.0</td>\n",
       "      <td>156.0</td>\n",
       "      <td>56.0</td>\n",
       "      <td>100</td>\n",
       "      <td>60</td>\n",
       "    </tr>\n",
       "  </tbody>\n",
       "</table>\n",
       "</div>"
      ],
      "text/plain": [
       "    age  height  weight  ap_hi  ap_lo\n",
       "0  50.0   168.0    62.0    110     80\n",
       "1  55.0   156.0    85.0    140     90\n",
       "2  52.0   165.0    64.0    130     70\n",
       "3  48.0   169.0    82.0    150    100\n",
       "4  48.0   156.0    56.0    100     60"
      ]
     },
     "execution_count": 35,
     "metadata": {},
     "output_type": "execute_result"
    }
   ],
   "source": [
    "#sorting numerical values\n",
    "numerical_features = data.select_dtypes(include=[np.number])\n",
    "numerical_features.head()"
   ]
  },
  {
   "cell_type": "code",
   "execution_count": 36,
   "id": "c1657b22",
   "metadata": {},
   "outputs": [
    {
     "data": {
      "text/plain": [
       "Index(['age', 'height', 'weight', 'ap_hi', 'ap_lo'], dtype='object')"
      ]
     },
     "execution_count": 36,
     "metadata": {},
     "output_type": "execute_result"
    }
   ],
   "source": [
    "numerical_features.columns"
   ]
  },
  {
   "cell_type": "markdown",
   "id": "66fd123c",
   "metadata": {},
   "source": [
    "#### Outlier detection"
   ]
  },
  {
   "cell_type": "markdown",
   "id": "28953740",
   "metadata": {},
   "source": [
    "#### age"
   ]
  },
  {
   "cell_type": "code",
   "execution_count": 37,
   "id": "899c5c33",
   "metadata": {},
   "outputs": [
    {
     "name": "stdout",
     "output_type": "stream",
     "text": [
      "33.0\n",
      "73.0\n"
     ]
    }
   ],
   "source": [
    "#Managing Outliers\n",
    "Q1 = np.percentile(data['age'],25,interpolation='midpoint')\n",
    "Q2 = np.percentile(data['age'],50,interpolation='midpoint')\n",
    "Q3 = np.percentile(data['age'],75,interpolation='midpoint')\n",
    "IQR = Q3-Q1\n",
    "low_lim = Q1 - 1.5*IQR\n",
    "up_lim = Q3 + 1.5*IQR\n",
    "print(low_lim)\n",
    "print(up_lim)"
   ]
  },
  {
   "cell_type": "code",
   "execution_count": 38,
   "id": "6eea56fd",
   "metadata": {},
   "outputs": [
    {
     "data": {
      "text/plain": [
       "[30.0, 30.0, 30.0, 30.0]"
      ]
     },
     "execution_count": 38,
     "metadata": {},
     "output_type": "execute_result"
    }
   ],
   "source": [
    "outlier = []\n",
    "for x in data ['age']:\n",
    "    if((x > up_lim) or (x < low_lim)):\n",
    "        outlier.append(x)\n",
    "outlier"
   ]
  },
  {
   "cell_type": "markdown",
   "id": "11d8ffce",
   "metadata": {},
   "source": [
    "#### height"
   ]
  },
  {
   "cell_type": "code",
   "execution_count": 39,
   "id": "f65f4b6f",
   "metadata": {},
   "outputs": [
    {
     "name": "stdout",
     "output_type": "stream",
     "text": [
      "142.5\n",
      "186.5\n"
     ]
    }
   ],
   "source": [
    "#Managing Outliers\n",
    "Q1 = np.percentile(data['height'],25,interpolation='midpoint')\n",
    "Q2 = np.percentile(data['height'],50,interpolation='midpoint')\n",
    "Q3 = np.percentile(data['height'],75,interpolation='midpoint')\n",
    "IQR = Q3-Q1\n",
    "low_lim = Q1 - 1.5*IQR\n",
    "up_lim = Q3 + 1.5*IQR\n",
    "print(low_lim)\n",
    "print(up_lim)"
   ]
  },
  {
   "cell_type": "code",
   "execution_count": 40,
   "id": "11138d41",
   "metadata": {},
   "outputs": [
    {
     "data": {
      "text/plain": [
       "519"
      ]
     },
     "execution_count": 40,
     "metadata": {},
     "output_type": "execute_result"
    }
   ],
   "source": [
    "outlier = []\n",
    "for x in data ['height']:\n",
    "    if((x > up_lim) or (x < low_lim)):\n",
    "        outlier.append(x)\n",
    "outlier\n",
    "len(outlier)"
   ]
  },
  {
   "cell_type": "code",
   "execution_count": 41,
   "id": "67a90779",
   "metadata": {},
   "outputs": [
    {
     "data": {
      "text/html": [
       "<div>\n",
       "<style scoped>\n",
       "    .dataframe tbody tr th:only-of-type {\n",
       "        vertical-align: middle;\n",
       "    }\n",
       "\n",
       "    .dataframe tbody tr th {\n",
       "        vertical-align: top;\n",
       "    }\n",
       "\n",
       "    .dataframe thead th {\n",
       "        text-align: right;\n",
       "    }\n",
       "</style>\n",
       "<table border=\"1\" class=\"dataframe\">\n",
       "  <thead>\n",
       "    <tr style=\"text-align: right;\">\n",
       "      <th></th>\n",
       "      <th>age</th>\n",
       "      <th>gender</th>\n",
       "      <th>height</th>\n",
       "      <th>weight</th>\n",
       "      <th>ap_hi</th>\n",
       "      <th>ap_lo</th>\n",
       "      <th>cholesterol</th>\n",
       "      <th>gluc</th>\n",
       "      <th>smoke</th>\n",
       "      <th>alco</th>\n",
       "      <th>active</th>\n",
       "      <th>cardio</th>\n",
       "    </tr>\n",
       "  </thead>\n",
       "  <tbody>\n",
       "    <tr>\n",
       "      <th>224</th>\n",
       "      <td>60.0</td>\n",
       "      <td>Male</td>\n",
       "      <td>76.0</td>\n",
       "      <td>55.0</td>\n",
       "      <td>120</td>\n",
       "      <td>80</td>\n",
       "      <td>normal</td>\n",
       "      <td>normal</td>\n",
       "      <td>no</td>\n",
       "      <td>no</td>\n",
       "      <td>yes</td>\n",
       "      <td>no</td>\n",
       "    </tr>\n",
       "    <tr>\n",
       "      <th>3420</th>\n",
       "      <td>40.0</td>\n",
       "      <td>Female</td>\n",
       "      <td>100.0</td>\n",
       "      <td>70.0</td>\n",
       "      <td>100</td>\n",
       "      <td>70</td>\n",
       "      <td>normal</td>\n",
       "      <td>normal</td>\n",
       "      <td>no</td>\n",
       "      <td>no</td>\n",
       "      <td>yes</td>\n",
       "      <td>no</td>\n",
       "    </tr>\n",
       "    <tr>\n",
       "      <th>3735</th>\n",
       "      <td>48.0</td>\n",
       "      <td>Female</td>\n",
       "      <td>120.0</td>\n",
       "      <td>70.0</td>\n",
       "      <td>120</td>\n",
       "      <td>70</td>\n",
       "      <td>normal</td>\n",
       "      <td>normal</td>\n",
       "      <td>no</td>\n",
       "      <td>no</td>\n",
       "      <td>yes</td>\n",
       "      <td>no</td>\n",
       "    </tr>\n",
       "    <tr>\n",
       "      <th>3752</th>\n",
       "      <td>42.0</td>\n",
       "      <td>Female</td>\n",
       "      <td>120.0</td>\n",
       "      <td>30.0</td>\n",
       "      <td>110</td>\n",
       "      <td>70</td>\n",
       "      <td>normal</td>\n",
       "      <td>normal</td>\n",
       "      <td>no</td>\n",
       "      <td>no</td>\n",
       "      <td>yes</td>\n",
       "      <td>no</td>\n",
       "    </tr>\n",
       "    <tr>\n",
       "      <th>4212</th>\n",
       "      <td>44.0</td>\n",
       "      <td>Female</td>\n",
       "      <td>120.0</td>\n",
       "      <td>80.0</td>\n",
       "      <td>120</td>\n",
       "      <td>80</td>\n",
       "      <td>normal</td>\n",
       "      <td>normal</td>\n",
       "      <td>no</td>\n",
       "      <td>no</td>\n",
       "      <td>yes</td>\n",
       "      <td>no</td>\n",
       "    </tr>\n",
       "    <tr>\n",
       "      <th>...</th>\n",
       "      <td>...</td>\n",
       "      <td>...</td>\n",
       "      <td>...</td>\n",
       "      <td>...</td>\n",
       "      <td>...</td>\n",
       "      <td>...</td>\n",
       "      <td>...</td>\n",
       "      <td>...</td>\n",
       "      <td>...</td>\n",
       "      <td>...</td>\n",
       "      <td>...</td>\n",
       "      <td>...</td>\n",
       "    </tr>\n",
       "    <tr>\n",
       "      <th>65302</th>\n",
       "      <td>51.0</td>\n",
       "      <td>Female</td>\n",
       "      <td>99.0</td>\n",
       "      <td>60.0</td>\n",
       "      <td>90</td>\n",
       "      <td>60</td>\n",
       "      <td>normal</td>\n",
       "      <td>normal</td>\n",
       "      <td>no</td>\n",
       "      <td>no</td>\n",
       "      <td>yes</td>\n",
       "      <td>no</td>\n",
       "    </tr>\n",
       "    <tr>\n",
       "      <th>66023</th>\n",
       "      <td>40.0</td>\n",
       "      <td>Female</td>\n",
       "      <td>120.0</td>\n",
       "      <td>80.0</td>\n",
       "      <td>120</td>\n",
       "      <td>70</td>\n",
       "      <td>above normal</td>\n",
       "      <td>normal</td>\n",
       "      <td>no</td>\n",
       "      <td>no</td>\n",
       "      <td>yes</td>\n",
       "      <td>no</td>\n",
       "    </tr>\n",
       "    <tr>\n",
       "      <th>66479</th>\n",
       "      <td>46.0</td>\n",
       "      <td>Male</td>\n",
       "      <td>110.0</td>\n",
       "      <td>90.0</td>\n",
       "      <td>110</td>\n",
       "      <td>90</td>\n",
       "      <td>normal</td>\n",
       "      <td>normal</td>\n",
       "      <td>no</td>\n",
       "      <td>no</td>\n",
       "      <td>yes</td>\n",
       "      <td>no</td>\n",
       "    </tr>\n",
       "    <tr>\n",
       "      <th>66643</th>\n",
       "      <td>52.0</td>\n",
       "      <td>Female</td>\n",
       "      <td>57.0</td>\n",
       "      <td>61.0</td>\n",
       "      <td>130</td>\n",
       "      <td>90</td>\n",
       "      <td>normal</td>\n",
       "      <td>normal</td>\n",
       "      <td>no</td>\n",
       "      <td>no</td>\n",
       "      <td>yes</td>\n",
       "      <td>yes</td>\n",
       "    </tr>\n",
       "    <tr>\n",
       "      <th>69052</th>\n",
       "      <td>56.0</td>\n",
       "      <td>Male</td>\n",
       "      <td>120.0</td>\n",
       "      <td>80.0</td>\n",
       "      <td>140</td>\n",
       "      <td>90</td>\n",
       "      <td>normal</td>\n",
       "      <td>above normal</td>\n",
       "      <td>no</td>\n",
       "      <td>no</td>\n",
       "      <td>yes</td>\n",
       "      <td>yes</td>\n",
       "    </tr>\n",
       "  </tbody>\n",
       "</table>\n",
       "<p>87 rows × 12 columns</p>\n",
       "</div>"
      ],
      "text/plain": [
       "        age  gender  height  weight  ap_hi  ap_lo   cholesterol          gluc  \\\n",
       "224    60.0    Male    76.0    55.0    120     80        normal        normal   \n",
       "3420   40.0  Female   100.0    70.0    100     70        normal        normal   \n",
       "3735   48.0  Female   120.0    70.0    120     70        normal        normal   \n",
       "3752   42.0  Female   120.0    30.0    110     70        normal        normal   \n",
       "4212   44.0  Female   120.0    80.0    120     80        normal        normal   \n",
       "...     ...     ...     ...     ...    ...    ...           ...           ...   \n",
       "65302  51.0  Female    99.0    60.0     90     60        normal        normal   \n",
       "66023  40.0  Female   120.0    80.0    120     70  above normal        normal   \n",
       "66479  46.0    Male   110.0    90.0    110     90        normal        normal   \n",
       "66643  52.0  Female    57.0    61.0    130     90        normal        normal   \n",
       "69052  56.0    Male   120.0    80.0    140     90        normal  above normal   \n",
       "\n",
       "      smoke alco active cardio  \n",
       "224      no   no    yes     no  \n",
       "3420     no   no    yes     no  \n",
       "3735     no   no    yes     no  \n",
       "3752     no   no    yes     no  \n",
       "4212     no   no    yes     no  \n",
       "...     ...  ...    ...    ...  \n",
       "65302    no   no    yes     no  \n",
       "66023    no   no    yes     no  \n",
       "66479    no   no    yes     no  \n",
       "66643    no   no    yes    yes  \n",
       "69052    no   no    yes    yes  \n",
       "\n",
       "[87 rows x 12 columns]"
      ]
     },
     "execution_count": 41,
     "metadata": {},
     "output_type": "execute_result"
    }
   ],
   "source": [
    "data[data['height'] < 125]"
   ]
  },
  {
   "cell_type": "code",
   "execution_count": 42,
   "id": "5f9caec8",
   "metadata": {},
   "outputs": [],
   "source": [
    "data=data[data['height']>= 125]"
   ]
  },
  {
   "cell_type": "code",
   "execution_count": 43,
   "id": "165958c2",
   "metadata": {},
   "outputs": [
    {
     "data": {
      "text/html": [
       "<div>\n",
       "<style scoped>\n",
       "    .dataframe tbody tr th:only-of-type {\n",
       "        vertical-align: middle;\n",
       "    }\n",
       "\n",
       "    .dataframe tbody tr th {\n",
       "        vertical-align: top;\n",
       "    }\n",
       "\n",
       "    .dataframe thead th {\n",
       "        text-align: right;\n",
       "    }\n",
       "</style>\n",
       "<table border=\"1\" class=\"dataframe\">\n",
       "  <thead>\n",
       "    <tr style=\"text-align: right;\">\n",
       "      <th></th>\n",
       "      <th>age</th>\n",
       "      <th>gender</th>\n",
       "      <th>height</th>\n",
       "      <th>weight</th>\n",
       "      <th>ap_hi</th>\n",
       "      <th>ap_lo</th>\n",
       "      <th>cholesterol</th>\n",
       "      <th>gluc</th>\n",
       "      <th>smoke</th>\n",
       "      <th>alco</th>\n",
       "      <th>active</th>\n",
       "      <th>cardio</th>\n",
       "    </tr>\n",
       "  </thead>\n",
       "  <tbody>\n",
       "    <tr>\n",
       "      <th>6486</th>\n",
       "      <td>58.0</td>\n",
       "      <td>Female</td>\n",
       "      <td>250.0</td>\n",
       "      <td>86.0</td>\n",
       "      <td>140</td>\n",
       "      <td>100</td>\n",
       "      <td>well above normal</td>\n",
       "      <td>normal</td>\n",
       "      <td>no</td>\n",
       "      <td>no</td>\n",
       "      <td>yes</td>\n",
       "      <td>yes</td>\n",
       "    </tr>\n",
       "    <tr>\n",
       "      <th>21628</th>\n",
       "      <td>52.0</td>\n",
       "      <td>Male</td>\n",
       "      <td>207.0</td>\n",
       "      <td>78.0</td>\n",
       "      <td>100</td>\n",
       "      <td>70</td>\n",
       "      <td>normal</td>\n",
       "      <td>normal</td>\n",
       "      <td>no</td>\n",
       "      <td>yes</td>\n",
       "      <td>yes</td>\n",
       "      <td>no</td>\n",
       "    </tr>\n",
       "  </tbody>\n",
       "</table>\n",
       "</div>"
      ],
      "text/plain": [
       "        age  gender  height  weight  ap_hi  ap_lo        cholesterol    gluc  \\\n",
       "6486   58.0  Female   250.0    86.0    140    100  well above normal  normal   \n",
       "21628  52.0    Male   207.0    78.0    100     70             normal  normal   \n",
       "\n",
       "      smoke alco active cardio  \n",
       "6486     no   no    yes    yes  \n",
       "21628    no  yes    yes     no  "
      ]
     },
     "execution_count": 43,
     "metadata": {},
     "output_type": "execute_result"
    }
   ],
   "source": [
    "data[data['height'] > 200]"
   ]
  },
  {
   "cell_type": "code",
   "execution_count": 44,
   "id": "b1116a6a",
   "metadata": {},
   "outputs": [],
   "source": [
    "data.drop(index=6486,axis=1,inplace=True)"
   ]
  },
  {
   "cell_type": "markdown",
   "id": "7a0f6c58",
   "metadata": {},
   "source": [
    "#### weight"
   ]
  },
  {
   "cell_type": "code",
   "execution_count": 45,
   "id": "b839b7fb",
   "metadata": {},
   "outputs": [
    {
     "name": "stdout",
     "output_type": "stream",
     "text": [
      "39.5\n",
      "107.5\n"
     ]
    }
   ],
   "source": [
    "#Managing Outliers\n",
    "Q1 = np.percentile(data['weight'],25,interpolation='midpoint')\n",
    "Q2 = np.percentile(data['weight'],50,interpolation='midpoint')\n",
    "Q3 = np.percentile(data['weight'],75,interpolation='midpoint')\n",
    "IQR = Q3-Q1\n",
    "low_lim = Q1 - 1.5*IQR\n",
    "up_lim = Q3 + 1.5*IQR\n",
    "print(low_lim)\n",
    "print(up_lim)"
   ]
  },
  {
   "cell_type": "code",
   "execution_count": 46,
   "id": "960aeefe",
   "metadata": {},
   "outputs": [
    {
     "data": {
      "text/plain": [
       "1810"
      ]
     },
     "execution_count": 46,
     "metadata": {},
     "output_type": "execute_result"
    }
   ],
   "source": [
    "outlier = []\n",
    "for x in data ['weight']:\n",
    "    if((x > up_lim) or (x < low_lim)):\n",
    "        outlier.append(x)\n",
    "outlier\n",
    "len(outlier)"
   ]
  },
  {
   "cell_type": "code",
   "execution_count": 47,
   "id": "8253b50f",
   "metadata": {},
   "outputs": [],
   "source": [
    "data=data[data['weight']> 40]"
   ]
  },
  {
   "cell_type": "markdown",
   "id": "d479fe3d",
   "metadata": {},
   "source": [
    "#### ap_hi"
   ]
  },
  {
   "cell_type": "code",
   "execution_count": 48,
   "id": "8aefc0a1",
   "metadata": {},
   "outputs": [
    {
     "name": "stdout",
     "output_type": "stream",
     "text": [
      "90.0\n",
      "170.0\n"
     ]
    }
   ],
   "source": [
    "#Managing Outliers\n",
    "Q1 = np.percentile(data['ap_hi'],25,interpolation='midpoint')\n",
    "Q2 = np.percentile(data['ap_hi'],50,interpolation='midpoint')\n",
    "Q3 = np.percentile(data['ap_hi'],75,interpolation='midpoint')\n",
    "IQR = Q3-Q1\n",
    "low_lim = Q1 - 1.5*IQR\n",
    "up_lim = Q3 + 1.5*IQR\n",
    "print(low_lim)\n",
    "print(up_lim)"
   ]
  },
  {
   "cell_type": "code",
   "execution_count": 49,
   "id": "8093ae52",
   "metadata": {},
   "outputs": [
    {
     "data": {
      "text/plain": [
       "1429"
      ]
     },
     "execution_count": 49,
     "metadata": {},
     "output_type": "execute_result"
    }
   ],
   "source": [
    "outlier = []\n",
    "for x in data ['ap_hi']:\n",
    "    if((x > up_lim) or (x < low_lim)):\n",
    "        outlier.append(x)\n",
    "outlier\n",
    "len(outlier)"
   ]
  },
  {
   "cell_type": "markdown",
   "id": "7bf47bf4",
   "metadata": {},
   "source": [
    "#### ap_lo"
   ]
  },
  {
   "cell_type": "code",
   "execution_count": 50,
   "id": "76f42b6c",
   "metadata": {},
   "outputs": [
    {
     "name": "stdout",
     "output_type": "stream",
     "text": [
      "65.0\n",
      "105.0\n"
     ]
    }
   ],
   "source": [
    "#Managing Outliers\n",
    "Q1 = np.percentile(data['ap_lo'],25,interpolation='midpoint')\n",
    "Q2 = np.percentile(data['ap_lo'],50,interpolation='midpoint')\n",
    "Q3 = np.percentile(data['ap_lo'],75,interpolation='midpoint')\n",
    "IQR = Q3-Q1\n",
    "low_lim = Q1 - 1.5*IQR\n",
    "up_lim = Q3 + 1.5*IQR\n",
    "print(low_lim)\n",
    "print(up_lim)"
   ]
  },
  {
   "cell_type": "code",
   "execution_count": 51,
   "id": "7394e294",
   "metadata": {},
   "outputs": [
    {
     "data": {
      "text/plain": [
       "4601"
      ]
     },
     "execution_count": 51,
     "metadata": {},
     "output_type": "execute_result"
    }
   ],
   "source": [
    "outlier = []\n",
    "for x in data ['ap_lo']:\n",
    "    if((x > up_lim) or (x < low_lim)):\n",
    "        outlier.append(x)\n",
    "outlier\n",
    "len(outlier)"
   ]
  },
  {
   "cell_type": "code",
   "execution_count": 52,
   "id": "579f1144",
   "metadata": {},
   "outputs": [
    {
     "data": {
      "text/plain": [
       "0.004110628911900772"
      ]
     },
     "execution_count": 52,
     "metadata": {},
     "output_type": "execute_result"
    }
   ],
   "source": [
    "## systolic pressure below 90 mmHg and above 180mmHg needs medical intervention\n",
    "critical_aphi = (data.ap_hi <70) | (data.ap_hi > 200)\n",
    "data[critical_aphi].ap_hi.count() / data.ap_hi.count()"
   ]
  },
  {
   "cell_type": "code",
   "execution_count": 53,
   "id": "6f46ae09",
   "metadata": {},
   "outputs": [],
   "source": [
    "#dropping 0.4% data\n",
    "data.drop(data[critical_aphi].index, inplace=True)"
   ]
  },
  {
   "cell_type": "code",
   "execution_count": 54,
   "id": "a99f50f1",
   "metadata": {},
   "outputs": [
    {
     "data": {
      "text/plain": [
       "0.014913996433296899"
      ]
     },
     "execution_count": 54,
     "metadata": {},
     "output_type": "execute_result"
    }
   ],
   "source": [
    "## diastolic pressure below 60mmHg ang above 110mmHg is dangerous\n",
    "critical_aplo = (data.ap_lo <40) | (data.ap_lo > 130)\n",
    "data[critical_aplo].ap_lo.count() / data.ap_lo.count()"
   ]
  },
  {
   "cell_type": "code",
   "execution_count": 55,
   "id": "d6025d5b",
   "metadata": {},
   "outputs": [],
   "source": [
    "#dropping 1.49% data\n",
    "data.drop(data[critical_aplo].index, inplace=True)"
   ]
  },
  {
   "cell_type": "code",
   "execution_count": 56,
   "id": "e15a1648",
   "metadata": {
    "scrolled": true
   },
   "outputs": [
    {
     "data": {
      "image/png": "[encoded data removed]",
      "text/plain": [
       "<Figure size 432x288 with 1 Axes>"
      ]
     },
     "metadata": {
      "needs_background": "light"
     },
     "output_type": "display_data"
    }
   ],
   "source": [
    "#plotting api_hi and api_lo\n",
    "plt.style.use('bmh')\n",
    "sns.scatterplot(x = 'ap_hi', y = 'ap_lo' , hue= 'cardio' , data = data,  s=40)\n",
    "plt.xticks(fontsize=11)\n",
    "plt.yticks(fontsize=11)\n",
    "plt.show()"
   ]
  },
  {
   "cell_type": "markdown",
   "id": "18203dde",
   "metadata": {},
   "source": [
    "### BMI analysis"
   ]
  },
  {
   "cell_type": "code",
   "execution_count": 57,
   "id": "7a9808cf",
   "metadata": {},
   "outputs": [],
   "source": [
    "data_bmi = data.copy()"
   ]
  },
  {
   "cell_type": "code",
   "execution_count": 58,
   "id": "beb0b9c3",
   "metadata": {},
   "outputs": [
    {
     "data": {
      "image/png": "[encoded data removed]",
      "text/plain": [
       "<Figure size 432x288 with 1 Axes>"
      ]
     },
     "metadata": {
      "needs_background": "light"
     },
     "output_type": "display_data"
    }
   ],
   "source": [
    "sns.scatterplot(x ='height', y ='weight', hue = 'cardio', data= data_bmi);"
   ]
  },
  {
   "cell_type": "code",
   "execution_count": 59,
   "id": "c76e2808",
   "metadata": {},
   "outputs": [],
   "source": [
    "#create bmi feature\n",
    "def BMI(data):\n",
    "    return round(data['weight'] / (data ['height'] /100)**2,2)\n",
    "data_bmi['BMI'] = data_bmi.apply(BMI, axis=1)"
   ]
  },
  {
   "cell_type": "code",
   "execution_count": 60,
   "id": "bf6e3b60",
   "metadata": {},
   "outputs": [
    {
     "data": {
      "text/html": [
       "<div>\n",
       "<style scoped>\n",
       "    .dataframe tbody tr th:only-of-type {\n",
       "        vertical-align: middle;\n",
       "    }\n",
       "\n",
       "    .dataframe tbody tr th {\n",
       "        vertical-align: top;\n",
       "    }\n",
       "\n",
       "    .dataframe thead th {\n",
       "        text-align: right;\n",
       "    }\n",
       "</style>\n",
       "<table border=\"1\" class=\"dataframe\">\n",
       "  <thead>\n",
       "    <tr style=\"text-align: right;\">\n",
       "      <th></th>\n",
       "      <th>count</th>\n",
       "      <th>mean</th>\n",
       "      <th>std</th>\n",
       "      <th>min</th>\n",
       "      <th>25%</th>\n",
       "      <th>50%</th>\n",
       "      <th>75%</th>\n",
       "      <th>max</th>\n",
       "    </tr>\n",
       "  </thead>\n",
       "  <tbody>\n",
       "    <tr>\n",
       "      <th>age</th>\n",
       "      <td>68495.0</td>\n",
       "      <td>53.326199</td>\n",
       "      <td>6.766890</td>\n",
       "      <td>30.00</td>\n",
       "      <td>48.00</td>\n",
       "      <td>54.00</td>\n",
       "      <td>58.00</td>\n",
       "      <td>65.00</td>\n",
       "    </tr>\n",
       "    <tr>\n",
       "      <th>height</th>\n",
       "      <td>68495.0</td>\n",
       "      <td>164.449177</td>\n",
       "      <td>7.836294</td>\n",
       "      <td>125.00</td>\n",
       "      <td>159.00</td>\n",
       "      <td>165.00</td>\n",
       "      <td>170.00</td>\n",
       "      <td>207.00</td>\n",
       "    </tr>\n",
       "    <tr>\n",
       "      <th>weight</th>\n",
       "      <td>68495.0</td>\n",
       "      <td>74.145506</td>\n",
       "      <td>14.235543</td>\n",
       "      <td>41.00</td>\n",
       "      <td>65.00</td>\n",
       "      <td>72.00</td>\n",
       "      <td>82.00</td>\n",
       "      <td>200.00</td>\n",
       "    </tr>\n",
       "    <tr>\n",
       "      <th>ap_hi</th>\n",
       "      <td>68495.0</td>\n",
       "      <td>126.567487</td>\n",
       "      <td>16.522226</td>\n",
       "      <td>70.00</td>\n",
       "      <td>120.00</td>\n",
       "      <td>120.00</td>\n",
       "      <td>140.00</td>\n",
       "      <td>200.00</td>\n",
       "    </tr>\n",
       "    <tr>\n",
       "      <th>ap_lo</th>\n",
       "      <td>68495.0</td>\n",
       "      <td>81.311030</td>\n",
       "      <td>9.403520</td>\n",
       "      <td>40.00</td>\n",
       "      <td>80.00</td>\n",
       "      <td>80.00</td>\n",
       "      <td>90.00</td>\n",
       "      <td>130.00</td>\n",
       "    </tr>\n",
       "    <tr>\n",
       "      <th>BMI</th>\n",
       "      <td>68495.0</td>\n",
       "      <td>27.453613</td>\n",
       "      <td>5.200906</td>\n",
       "      <td>14.53</td>\n",
       "      <td>23.88</td>\n",
       "      <td>26.35</td>\n",
       "      <td>30.12</td>\n",
       "      <td>106.88</td>\n",
       "    </tr>\n",
       "  </tbody>\n",
       "</table>\n",
       "</div>"
      ],
      "text/plain": [
       "          count        mean        std     min     25%     50%     75%     max\n",
       "age     68495.0   53.326199   6.766890   30.00   48.00   54.00   58.00   65.00\n",
       "height  68495.0  164.449177   7.836294  125.00  159.00  165.00  170.00  207.00\n",
       "weight  68495.0   74.145506  14.235543   41.00   65.00   72.00   82.00  200.00\n",
       "ap_hi   68495.0  126.567487  16.522226   70.00  120.00  120.00  140.00  200.00\n",
       "ap_lo   68495.0   81.311030   9.403520   40.00   80.00   80.00   90.00  130.00\n",
       "BMI     68495.0   27.453613   5.200906   14.53   23.88   26.35   30.12  106.88"
      ]
     },
     "execution_count": 60,
     "metadata": {},
     "output_type": "execute_result"
    }
   ],
   "source": [
    "data_bmi.describe().T"
   ]
  },
  {
   "cell_type": "code",
   "execution_count": 61,
   "id": "5080da22",
   "metadata": {},
   "outputs": [
    {
     "data": {
      "text/plain": [
       "Index(['age', 'height', 'weight', 'ap_hi', 'ap_lo'], dtype='object')"
      ]
     },
     "execution_count": 61,
     "metadata": {},
     "output_type": "execute_result"
    }
   ],
   "source": [
    "data_num = data.select_dtypes(include=[np.number])\n",
    "data_num.columns"
   ]
  },
  {
   "cell_type": "code",
   "execution_count": 62,
   "id": "b60f7925",
   "metadata": {},
   "outputs": [],
   "source": [
    "data.rename(columns={'ap_hi': 'systolic','ap_lo':'diastolic'},inplace=True)"
   ]
  },
  {
   "cell_type": "markdown",
   "id": "b5555c6d",
   "metadata": {},
   "source": [
    "###  Label Encoding"
   ]
  },
  {
   "cell_type": "code",
   "execution_count": 63,
   "id": "8944269e",
   "metadata": {},
   "outputs": [
    {
     "data": {
      "text/plain": [
       "Index(['gender', 'cholesterol', 'gluc', 'smoke', 'alco', 'active', 'cardio'], dtype='object')"
      ]
     },
     "execution_count": 63,
     "metadata": {},
     "output_type": "execute_result"
    }
   ],
   "source": [
    "categorical_features.columns"
   ]
  },
  {
   "cell_type": "code",
   "execution_count": 64,
   "id": "2dda7435",
   "metadata": {},
   "outputs": [
    {
     "data": {
      "text/html": [
       "<div>\n",
       "<style scoped>\n",
       "    .dataframe tbody tr th:only-of-type {\n",
       "        vertical-align: middle;\n",
       "    }\n",
       "\n",
       "    .dataframe tbody tr th {\n",
       "        vertical-align: top;\n",
       "    }\n",
       "\n",
       "    .dataframe thead th {\n",
       "        text-align: right;\n",
       "    }\n",
       "</style>\n",
       "<table border=\"1\" class=\"dataframe\">\n",
       "  <thead>\n",
       "    <tr style=\"text-align: right;\">\n",
       "      <th></th>\n",
       "      <th>age</th>\n",
       "      <th>gender</th>\n",
       "      <th>height</th>\n",
       "      <th>weight</th>\n",
       "      <th>systolic</th>\n",
       "      <th>diastolic</th>\n",
       "      <th>cholesterol</th>\n",
       "      <th>gluc</th>\n",
       "      <th>smoke</th>\n",
       "      <th>alco</th>\n",
       "      <th>active</th>\n",
       "      <th>cardio</th>\n",
       "    </tr>\n",
       "  </thead>\n",
       "  <tbody>\n",
       "    <tr>\n",
       "      <th>0</th>\n",
       "      <td>50.0</td>\n",
       "      <td>1</td>\n",
       "      <td>168.0</td>\n",
       "      <td>62.0</td>\n",
       "      <td>110</td>\n",
       "      <td>80</td>\n",
       "      <td>1</td>\n",
       "      <td>1</td>\n",
       "      <td>0</td>\n",
       "      <td>0</td>\n",
       "      <td>1</td>\n",
       "      <td>0</td>\n",
       "    </tr>\n",
       "    <tr>\n",
       "      <th>1</th>\n",
       "      <td>55.0</td>\n",
       "      <td>0</td>\n",
       "      <td>156.0</td>\n",
       "      <td>85.0</td>\n",
       "      <td>140</td>\n",
       "      <td>90</td>\n",
       "      <td>2</td>\n",
       "      <td>1</td>\n",
       "      <td>0</td>\n",
       "      <td>0</td>\n",
       "      <td>1</td>\n",
       "      <td>1</td>\n",
       "    </tr>\n",
       "    <tr>\n",
       "      <th>2</th>\n",
       "      <td>52.0</td>\n",
       "      <td>0</td>\n",
       "      <td>165.0</td>\n",
       "      <td>64.0</td>\n",
       "      <td>130</td>\n",
       "      <td>70</td>\n",
       "      <td>2</td>\n",
       "      <td>1</td>\n",
       "      <td>0</td>\n",
       "      <td>0</td>\n",
       "      <td>0</td>\n",
       "      <td>1</td>\n",
       "    </tr>\n",
       "    <tr>\n",
       "      <th>3</th>\n",
       "      <td>48.0</td>\n",
       "      <td>1</td>\n",
       "      <td>169.0</td>\n",
       "      <td>82.0</td>\n",
       "      <td>150</td>\n",
       "      <td>100</td>\n",
       "      <td>1</td>\n",
       "      <td>1</td>\n",
       "      <td>0</td>\n",
       "      <td>0</td>\n",
       "      <td>1</td>\n",
       "      <td>1</td>\n",
       "    </tr>\n",
       "    <tr>\n",
       "      <th>4</th>\n",
       "      <td>48.0</td>\n",
       "      <td>0</td>\n",
       "      <td>156.0</td>\n",
       "      <td>56.0</td>\n",
       "      <td>100</td>\n",
       "      <td>60</td>\n",
       "      <td>1</td>\n",
       "      <td>1</td>\n",
       "      <td>0</td>\n",
       "      <td>0</td>\n",
       "      <td>0</td>\n",
       "      <td>0</td>\n",
       "    </tr>\n",
       "  </tbody>\n",
       "</table>\n",
       "</div>"
      ],
      "text/plain": [
       "    age  gender  height  weight  systolic  diastolic  cholesterol  gluc  \\\n",
       "0  50.0       1   168.0    62.0       110         80            1     1   \n",
       "1  55.0       0   156.0    85.0       140         90            2     1   \n",
       "2  52.0       0   165.0    64.0       130         70            2     1   \n",
       "3  48.0       1   169.0    82.0       150        100            1     1   \n",
       "4  48.0       0   156.0    56.0       100         60            1     1   \n",
       "\n",
       "   smoke  alco  active  cardio  \n",
       "0      0     0       1       0  \n",
       "1      0     0       1       1  \n",
       "2      0     0       0       1  \n",
       "3      0     0       1       1  \n",
       "4      0     0       0       0  "
      ]
     },
     "execution_count": 64,
     "metadata": {},
     "output_type": "execute_result"
    }
   ],
   "source": [
    "#apply label encoding\n",
    "from sklearn.preprocessing import LabelEncoder\n",
    "columns =['gender', 'cholesterol', 'gluc', 'smoke', 'alco', 'active', 'cardio']\n",
    "label_encoder = LabelEncoder()\n",
    "for i in columns:\n",
    "    data[i]=label_encoder.fit_transform(data[i])\n",
    "data.head()"
   ]
  },
  {
   "cell_type": "code",
   "execution_count": 65,
   "id": "e7086c25",
   "metadata": {},
   "outputs": [
    {
     "data": {
      "image/png": "[encoded data removed]",
      "text/plain": [
       "<Figure size 1440x576 with 2 Axes>"
      ]
     },
     "metadata": {
      "needs_background": "light"
     },
     "output_type": "display_data"
    }
   ],
   "source": [
    "#plot correlation matrix\n",
    "corrmatrix = data.corr()\n",
    "plt.subplots(figsize=(20,8))\n",
    "sns.heatmap(corrmatrix,annot=True,cmap='YlGnBu');"
   ]
  },
  {
   "cell_type": "code",
   "execution_count": 66,
   "id": "f11a78d1",
   "metadata": {},
   "outputs": [
    {
     "data": {
      "text/plain": [
       "age            float64\n",
       "gender           int32\n",
       "height         float64\n",
       "weight         float64\n",
       "systolic         int64\n",
       "diastolic        int64\n",
       "cholesterol      int32\n",
       "gluc             int32\n",
       "smoke            int32\n",
       "alco             int32\n",
       "active           int32\n",
       "cardio           int32\n",
       "dtype: object"
      ]
     },
     "execution_count": 66,
     "metadata": {},
     "output_type": "execute_result"
    }
   ],
   "source": [
    "data.dtypes"
   ]
  },
  {
   "cell_type": "code",
   "execution_count": 67,
   "id": "1cb0efa1",
   "metadata": {
    "scrolled": false
   },
   "outputs": [
    {
     "data": {
      "text/plain": [
       "Index(['age', 'gender', 'height', 'weight', 'systolic', 'diastolic',\n",
       "       'cholesterol', 'gluc', 'smoke', 'alco', 'active', 'cardio'],\n",
       "      dtype='object')"
      ]
     },
     "execution_count": 67,
     "metadata": {},
     "output_type": "execute_result"
    }
   ],
   "source": [
    "data.columns"
   ]
  },
  {
   "cell_type": "code",
   "execution_count": 68,
   "id": "b1a5fb8e",
   "metadata": {},
   "outputs": [],
   "source": [
    "data_num=data[['age','height','weight','systolic', 'diastolic']]"
   ]
  },
  {
   "cell_type": "code",
   "execution_count": 69,
   "id": "efba72d4",
   "metadata": {},
   "outputs": [],
   "source": [
    "data_cat=data[['gender','cholesterol','gluc','smoke','alco','active','cardio']]"
   ]
  },
  {
   "cell_type": "code",
   "execution_count": 70,
   "id": "b9b04cd1",
   "metadata": {},
   "outputs": [
    {
     "data": {
      "text/plain": [
       "Index(['gender', 'cholesterol', 'gluc', 'smoke', 'alco', 'active', 'cardio'], dtype='object')"
      ]
     },
     "execution_count": 70,
     "metadata": {},
     "output_type": "execute_result"
    }
   ],
   "source": [
    "data_cat.columns"
   ]
  },
  {
   "cell_type": "code",
   "execution_count": 71,
   "id": "498fef35",
   "metadata": {},
   "outputs": [
    {
     "data": {
      "text/plain": [
       "Index(['age', 'height', 'weight', 'systolic', 'diastolic'], dtype='object')"
      ]
     },
     "execution_count": 71,
     "metadata": {},
     "output_type": "execute_result"
    }
   ],
   "source": [
    "data_num.columns"
   ]
  },
  {
   "cell_type": "code",
   "execution_count": 72,
   "id": "092359dd",
   "metadata": {},
   "outputs": [],
   "source": [
    "data_num.reset_index(drop=True,inplace=True)\n",
    "data_cat.reset_index(drop=True,inplace=True)"
   ]
  },
  {
   "cell_type": "code",
   "execution_count": 73,
   "id": "4c99cc1e",
   "metadata": {},
   "outputs": [
    {
     "data": {
      "text/html": [
       "<div>\n",
       "<style scoped>\n",
       "    .dataframe tbody tr th:only-of-type {\n",
       "        vertical-align: middle;\n",
       "    }\n",
       "\n",
       "    .dataframe tbody tr th {\n",
       "        vertical-align: top;\n",
       "    }\n",
       "\n",
       "    .dataframe thead th {\n",
       "        text-align: right;\n",
       "    }\n",
       "</style>\n",
       "<table border=\"1\" class=\"dataframe\">\n",
       "  <thead>\n",
       "    <tr style=\"text-align: right;\">\n",
       "      <th></th>\n",
       "      <th>age</th>\n",
       "      <th>height</th>\n",
       "      <th>weight</th>\n",
       "      <th>systolic</th>\n",
       "      <th>diastolic</th>\n",
       "      <th>gender</th>\n",
       "      <th>cholesterol</th>\n",
       "      <th>gluc</th>\n",
       "      <th>smoke</th>\n",
       "      <th>alco</th>\n",
       "      <th>active</th>\n",
       "      <th>cardio</th>\n",
       "    </tr>\n",
       "  </thead>\n",
       "  <tbody>\n",
       "    <tr>\n",
       "      <th>0</th>\n",
       "      <td>50.0</td>\n",
       "      <td>168.0</td>\n",
       "      <td>62.0</td>\n",
       "      <td>110</td>\n",
       "      <td>80</td>\n",
       "      <td>1</td>\n",
       "      <td>1</td>\n",
       "      <td>1</td>\n",
       "      <td>0</td>\n",
       "      <td>0</td>\n",
       "      <td>1</td>\n",
       "      <td>0</td>\n",
       "    </tr>\n",
       "    <tr>\n",
       "      <th>1</th>\n",
       "      <td>55.0</td>\n",
       "      <td>156.0</td>\n",
       "      <td>85.0</td>\n",
       "      <td>140</td>\n",
       "      <td>90</td>\n",
       "      <td>0</td>\n",
       "      <td>2</td>\n",
       "      <td>1</td>\n",
       "      <td>0</td>\n",
       "      <td>0</td>\n",
       "      <td>1</td>\n",
       "      <td>1</td>\n",
       "    </tr>\n",
       "    <tr>\n",
       "      <th>2</th>\n",
       "      <td>52.0</td>\n",
       "      <td>165.0</td>\n",
       "      <td>64.0</td>\n",
       "      <td>130</td>\n",
       "      <td>70</td>\n",
       "      <td>0</td>\n",
       "      <td>2</td>\n",
       "      <td>1</td>\n",
       "      <td>0</td>\n",
       "      <td>0</td>\n",
       "      <td>0</td>\n",
       "      <td>1</td>\n",
       "    </tr>\n",
       "    <tr>\n",
       "      <th>3</th>\n",
       "      <td>48.0</td>\n",
       "      <td>169.0</td>\n",
       "      <td>82.0</td>\n",
       "      <td>150</td>\n",
       "      <td>100</td>\n",
       "      <td>1</td>\n",
       "      <td>1</td>\n",
       "      <td>1</td>\n",
       "      <td>0</td>\n",
       "      <td>0</td>\n",
       "      <td>1</td>\n",
       "      <td>1</td>\n",
       "    </tr>\n",
       "    <tr>\n",
       "      <th>4</th>\n",
       "      <td>48.0</td>\n",
       "      <td>156.0</td>\n",
       "      <td>56.0</td>\n",
       "      <td>100</td>\n",
       "      <td>60</td>\n",
       "      <td>0</td>\n",
       "      <td>1</td>\n",
       "      <td>1</td>\n",
       "      <td>0</td>\n",
       "      <td>0</td>\n",
       "      <td>0</td>\n",
       "      <td>0</td>\n",
       "    </tr>\n",
       "  </tbody>\n",
       "</table>\n",
       "</div>"
      ],
      "text/plain": [
       "    age  height  weight  systolic  diastolic  gender  cholesterol  gluc  \\\n",
       "0  50.0   168.0    62.0       110         80       1            1     1   \n",
       "1  55.0   156.0    85.0       140         90       0            2     1   \n",
       "2  52.0   165.0    64.0       130         70       0            2     1   \n",
       "3  48.0   169.0    82.0       150        100       1            1     1   \n",
       "4  48.0   156.0    56.0       100         60       0            1     1   \n",
       "\n",
       "   smoke  alco  active  cardio  \n",
       "0      0     0       1       0  \n",
       "1      0     0       1       1  \n",
       "2      0     0       0       1  \n",
       "3      0     0       1       1  \n",
       "4      0     0       0       0  "
      ]
     },
     "execution_count": 73,
     "metadata": {},
     "output_type": "execute_result"
    }
   ],
   "source": [
    "#concat numerical and categorical columns\n",
    "data = pd.concat([data_num,data_cat],axis=1)\n",
    "data.head()"
   ]
  },
  {
   "cell_type": "code",
   "execution_count": null,
   "id": "21023f23",
   "metadata": {},
   "outputs": [],
   "source": []
  },
  {
   "cell_type": "code",
   "execution_count": 74,
   "id": "86c3627d",
   "metadata": {},
   "outputs": [
    {
     "data": {
      "text/plain": [
       "age            0\n",
       "height         0\n",
       "weight         0\n",
       "systolic       0\n",
       "diastolic      0\n",
       "gender         0\n",
       "cholesterol    0\n",
       "gluc           0\n",
       "smoke          0\n",
       "alco           0\n",
       "active         0\n",
       "cardio         0\n",
       "dtype: int64"
      ]
     },
     "execution_count": 74,
     "metadata": {},
     "output_type": "execute_result"
    }
   ],
   "source": [
    "data.isna().sum()"
   ]
  },
  {
   "cell_type": "markdown",
   "id": "d61b8b5d",
   "metadata": {},
   "source": [
    "# Without scaling"
   ]
  },
  {
   "cell_type": "markdown",
   "id": "1f70c43a",
   "metadata": {},
   "source": [
    "# 1.Logistic Regression"
   ]
  },
  {
   "cell_type": "code",
   "execution_count": 75,
   "id": "129aa4ce",
   "metadata": {},
   "outputs": [],
   "source": [
    "X=data.drop(['cardio',\"alco\"],axis=1)\n",
    "Y=data['cardio']"
   ]
  },
  {
   "cell_type": "code",
   "execution_count": 76,
   "id": "1ac1f773",
   "metadata": {},
   "outputs": [],
   "source": [
    "X_train,X_test,Y_train,Y_test=train_test_split(X,Y,test_size=0.2,random_state=42)"
   ]
  },
  {
   "cell_type": "code",
   "execution_count": 77,
   "id": "ba7c4d1d",
   "metadata": {},
   "outputs": [],
   "source": [
    "LR1=LogisticRegression()\n",
    "LR_model1=LR1.fit(X_train,Y_train)\n",
    "prediction1=LR_model1.predict(X_test)"
   ]
  },
  {
   "cell_type": "code",
   "execution_count": 78,
   "id": "4d54609c",
   "metadata": {},
   "outputs": [
    {
     "data": {
      "text/plain": [
       "array([1, 0, 1, ..., 1, 1, 0])"
      ]
     },
     "execution_count": 78,
     "metadata": {},
     "output_type": "execute_result"
    }
   ],
   "source": [
    "prediction1"
   ]
  },
  {
   "cell_type": "code",
   "execution_count": 79,
   "id": "7e80910e",
   "metadata": {},
   "outputs": [],
   "source": [
    "#prediction1=pd.DataFrame(prediction1)"
   ]
  },
  {
   "cell_type": "code",
   "execution_count": 80,
   "id": "e8411b57",
   "metadata": {},
   "outputs": [
    {
     "data": {
      "text/plain": [
       "array([[5178, 1741],\n",
       "       [2319, 4461]], dtype=int64)"
      ]
     },
     "execution_count": 80,
     "metadata": {},
     "output_type": "execute_result"
    }
   ],
   "source": [
    "confusion_matrix(Y_test,prediction1)"
   ]
  },
  {
   "cell_type": "code",
   "execution_count": 81,
   "id": "c88d8488",
   "metadata": {},
   "outputs": [
    {
     "name": "stdout",
     "output_type": "stream",
     "text": [
      "The precision score is\t : 0.719284101902612\n",
      "The accuracy score is\t : 0.7036280020439448\n",
      "The recall score is\t : 0.6579646017699115\n"
     ]
    }
   ],
   "source": [
    "print(\"The precision score is\\t :\",precision_score(Y_test,prediction1))\n",
    "print(\"The accuracy score is\\t :\",accuracy_score(Y_test,prediction1))\n",
    "print(\"The recall score is\\t :\",recall_score(Y_test,prediction1))"
   ]
  },
  {
   "cell_type": "markdown",
   "id": "7265ddba",
   "metadata": {},
   "source": [
    "# 2. XG boost Classifier"
   ]
  },
  {
   "cell_type": "code",
   "execution_count": 82,
   "id": "e342817d",
   "metadata": {},
   "outputs": [],
   "source": [
    "from xgboost import XGBClassifier\n",
    "xgb = XGBClassifier(learning_rate=0.02, n_estimators=600)\n",
    "xgb_m=xgb.fit(X_train, Y_train)\n",
    "y_pred_xgb = xgb_m.predict(X_test)"
   ]
  },
  {
   "cell_type": "code",
   "execution_count": 83,
   "id": "a431d7ee",
   "metadata": {},
   "outputs": [
    {
     "data": {
      "text/plain": [
       "array([[5389, 1530],\n",
       "       [2161, 4619]], dtype=int64)"
      ]
     },
     "execution_count": 83,
     "metadata": {},
     "output_type": "execute_result"
    }
   ],
   "source": [
    "confusion_matrix(Y_test,y_pred_xgb)"
   ]
  },
  {
   "cell_type": "code",
   "execution_count": 84,
   "id": "5438a6a6",
   "metadata": {},
   "outputs": [
    {
     "name": "stdout",
     "output_type": "stream",
     "text": [
      "The precision score is\t : 0.7511790535046349\n",
      "The accuracy score is\t : 0.7305642747645814\n",
      "The recall score is\t : 0.681268436578171\n"
     ]
    }
   ],
   "source": [
    "print(\"The precision score is\\t :\",precision_score(Y_test,y_pred_xgb))\n",
    "print(\"The accuracy score is\\t :\",accuracy_score(Y_test,y_pred_xgb))\n",
    "print(\"The recall score is\\t :\",recall_score(Y_test,y_pred_xgb))"
   ]
  },
  {
   "cell_type": "code",
   "execution_count": null,
   "id": "9767d2a2",
   "metadata": {},
   "outputs": [],
   "source": []
  },
  {
   "cell_type": "markdown",
   "id": "86a39ba5",
   "metadata": {},
   "source": [
    "# 3.  kNN "
   ]
  },
  {
   "cell_type": "code",
   "execution_count": 85,
   "id": "2f051f46",
   "metadata": {},
   "outputs": [],
   "source": [
    "#set number for k in the range 3 to 14.Finding the accuracy score for different values for k\n",
    "metric_k=[]\n",
    "neighbors=range(3,14)\n",
    "\n",
    "for k in neighbors:\n",
    "    classifier=KNeighborsClassifier(n_neighbors=k)\n",
    "    classifier=classifier.fit(X_train,Y_train)\n",
    "    y_pred_kNN=classifier.predict(X_test)\n",
    "    acc=accuracy_score(Y_test,y_pred_kNN)\n",
    "    metric_k.append(acc)"
   ]
  },
  {
   "cell_type": "code",
   "execution_count": 86,
   "id": "2e6ff1ac",
   "metadata": {},
   "outputs": [
    {
     "data": {
      "text/plain": [
       "[0.6638440762099423,\n",
       " 0.6686619461274546,\n",
       " 0.6829695598218848,\n",
       " 0.6861084750711731,\n",
       " 0.6930432878312286,\n",
       " 0.6959632089933572,\n",
       " 0.6968391853419957,\n",
       " 0.6984451419811665,\n",
       " 0.702314037520987,\n",
       " 0.703044017811519,\n",
       " 0.704357982334477]"
      ]
     },
     "execution_count": 86,
     "metadata": {},
     "output_type": "execute_result"
    }
   ],
   "source": [
    "#print the list\n",
    "metric_k"
   ]
  },
  {
   "cell_type": "code",
   "execution_count": 87,
   "id": "15de31de",
   "metadata": {},
   "outputs": [
    {
     "data": {
      "image/png": "[encoded data removed]",
      "text/plain": [
       "<Figure size 432x288 with 1 Axes>"
      ]
     },
     "metadata": {
      "needs_background": "light"
     },
     "output_type": "display_data"
    }
   ],
   "source": [
    "#Another method to find the accurate values.Plot graph\n",
    "plt.plot(neighbors,metric_k,'o-')\n",
    "plt.xlabel('k values')\n",
    "plt.ylabel('Accuracies')\n",
    "plt.grid()\n",
    "plt.show()"
   ]
  },
  {
   "cell_type": "code",
   "execution_count": 88,
   "id": "fe215372",
   "metadata": {},
   "outputs": [],
   "source": [
    "#Same steps above with k=13\n",
    "classifier=KNeighborsClassifier(n_neighbors=13)\n",
    "classifier=classifier.fit(X_train,Y_train)\n",
    "y_pred_kNN=classifier.predict(X_test)"
   ]
  },
  {
   "cell_type": "code",
   "execution_count": 89,
   "id": "66e41a38",
   "metadata": {},
   "outputs": [
    {
     "data": {
      "text/plain": [
       "array([[5141, 1778],\n",
       "       [2272, 4508]], dtype=int64)"
      ]
     },
     "execution_count": 89,
     "metadata": {},
     "output_type": "execute_result"
    }
   ],
   "source": [
    "confusion_matrix(Y_test,y_pred_kNN)"
   ]
  },
  {
   "cell_type": "code",
   "execution_count": 90,
   "id": "03d2c044",
   "metadata": {},
   "outputs": [
    {
     "name": "stdout",
     "output_type": "stream",
     "text": [
      "The precision score is\t : 0.7171492204899778\n",
      "The accuracy score is\t : 0.704357982334477\n",
      "The recall score is\t : 0.6648967551622419\n"
     ]
    }
   ],
   "source": [
    "print(\"The precision score is\\t :\",precision_score(Y_test,y_pred_kNN))\n",
    "print(\"The accuracy score is\\t :\",accuracy_score(Y_test,y_pred_kNN))\n",
    "print(\"The recall score is\\t :\",recall_score(Y_test,y_pred_kNN))"
   ]
  },
  {
   "cell_type": "markdown",
   "id": "8a579fac",
   "metadata": {},
   "source": [
    "# 4. SVM Model"
   ]
  },
  {
   "cell_type": "code",
   "execution_count": 91,
   "id": "1bfb4fea",
   "metadata": {},
   "outputs": [],
   "source": [
    "#with linear keranal\n",
    "#svm_clf=SVC(kernel=\"linear\")\n",
    "#svm_clf=svm_clf.fit(X_train,Y_train)\n",
    "#y_pred_svm=svm_clf.predict(X_test)"
   ]
  },
  {
   "cell_type": "code",
   "execution_count": 92,
   "id": "d4266efa",
   "metadata": {},
   "outputs": [],
   "source": [
    "#confusion_matrix(Y_test,y_pred_svm)"
   ]
  },
  {
   "cell_type": "code",
   "execution_count": 93,
   "id": "8d7f0c52",
   "metadata": {},
   "outputs": [],
   "source": [
    "#print(\"The precision score is\\t :\",precision_score(Y_test,y_pred_svm))\n",
    "#print(\"The accuracy score is\\t :\",accuracy_score(Y_test,y_pred_svm))\n",
    "#print(\"The recall score is\\t :\",recall_score(Y_test,y_pred_svm))"
   ]
  },
  {
   "cell_type": "code",
   "execution_count": null,
   "id": "fe5fb28c",
   "metadata": {},
   "outputs": [],
   "source": []
  },
  {
   "cell_type": "code",
   "execution_count": 94,
   "id": "7d3722f0",
   "metadata": {},
   "outputs": [],
   "source": [
    "#with Radial Basis Function (RBF)\n",
    "#svm_clf2=SVC(kernel=\"rbf\")\n",
    "#svm_clf2=svm_clf2.fit(X_train,Y_train)\n",
    "#y_pred_svm2=svm_clf2.predict(X_test)"
   ]
  },
  {
   "cell_type": "code",
   "execution_count": 95,
   "id": "306f0ff2",
   "metadata": {},
   "outputs": [],
   "source": [
    "#print confusion matrix\n",
    "#confusion_matrix(Y_test,y_pred_svm2)"
   ]
  },
  {
   "cell_type": "code",
   "execution_count": 96,
   "id": "11d7d985",
   "metadata": {},
   "outputs": [],
   "source": [
    "#print(\"The precision score is\\t :\",precision_score(Y_test,y_pred_svm2))\n",
    "#print(\"The accuracy score is\\t :\",accuracy_score(Y_test,y_pred_svm2))\n",
    "#print(\"The recall score is\\t :\",recall_score(Y_test,y_pred_svm2))"
   ]
  },
  {
   "cell_type": "code",
   "execution_count": null,
   "id": "0c04bc73",
   "metadata": {},
   "outputs": [],
   "source": []
  },
  {
   "cell_type": "markdown",
   "id": "22913f30",
   "metadata": {},
   "source": [
    "# 5.Decision Tree  model"
   ]
  },
  {
   "cell_type": "code",
   "execution_count": 97,
   "id": "15120811",
   "metadata": {},
   "outputs": [],
   "source": [
    "dt_clf=DecisionTreeClassifier()\n",
    "dt_clf=dt_clf.fit(X_train,Y_train)\n",
    "y_pred_dt=dt_clf.predict(X_test)"
   ]
  },
  {
   "cell_type": "code",
   "execution_count": 98,
   "id": "bae4c408",
   "metadata": {},
   "outputs": [
    {
     "data": {
      "text/plain": [
       "array([[4577, 2342],\n",
       "       [2671, 4109]], dtype=int64)"
      ]
     },
     "execution_count": 98,
     "metadata": {},
     "output_type": "execute_result"
    }
   ],
   "source": [
    "confusion_matrix(Y_test,y_pred_dt)"
   ]
  },
  {
   "cell_type": "code",
   "execution_count": 99,
   "id": "536cfb89",
   "metadata": {},
   "outputs": [
    {
     "name": "stdout",
     "output_type": "stream",
     "text": [
      "The precision score is\t : 0.6369555107735235\n",
      "The accuracy score is\t : 0.6340608803562304\n",
      "The recall score is\t : 0.6060471976401179\n"
     ]
    }
   ],
   "source": [
    "print(\"The precision score is\\t :\",precision_score(Y_test,y_pred_dt))\n",
    "print(\"The accuracy score is\\t :\",accuracy_score(Y_test,y_pred_dt))\n",
    "print(\"The recall score is\\t :\",recall_score(Y_test,y_pred_dt))"
   ]
  },
  {
   "cell_type": "markdown",
   "id": "55b3d787",
   "metadata": {},
   "source": [
    "# 6.Random Forest "
   ]
  },
  {
   "cell_type": "code",
   "execution_count": 100,
   "id": "25880401",
   "metadata": {},
   "outputs": [],
   "source": [
    "rf_clf=RandomForestClassifier()\n",
    "rf_clf=rf_clf.fit(X_train,Y_train)\n",
    "y_pred_rf=rf_clf.predict(X_test)"
   ]
  },
  {
   "cell_type": "code",
   "execution_count": 101,
   "id": "9d4756f2",
   "metadata": {},
   "outputs": [
    {
     "data": {
      "text/plain": [
       "array([[4917, 2002],\n",
       "       [2137, 4643]], dtype=int64)"
      ]
     },
     "execution_count": 101,
     "metadata": {},
     "output_type": "execute_result"
    }
   ],
   "source": [
    "confusion_matrix(Y_test,y_pred_rf)"
   ]
  },
  {
   "cell_type": "code",
   "execution_count": 102,
   "id": "4e7ac958",
   "metadata": {},
   "outputs": [
    {
     "name": "stdout",
     "output_type": "stream",
     "text": [
      "The precision score is\t : 0.6987208427389014\n",
      "The accuracy score is\t : 0.6978611577487408\n",
      "The recall score is\t : 0.6848082595870206\n"
     ]
    }
   ],
   "source": [
    "print(\"The precision score is\\t :\",precision_score(Y_test,y_pred_rf))\n",
    "print(\"The accuracy score is\\t :\",accuracy_score(Y_test,y_pred_rf))\n",
    "print(\"The recall score is\\t :\",recall_score(Y_test,y_pred_rf))"
   ]
  },
  {
   "cell_type": "markdown",
   "id": "9e6d3867",
   "metadata": {},
   "source": [
    "# 7. Naive Bayes"
   ]
  },
  {
   "cell_type": "code",
   "execution_count": 103,
   "id": "6ff00338",
   "metadata": {},
   "outputs": [],
   "source": [
    "from sklearn.naive_bayes import GaussianNB \n",
    "nb = GaussianNB() \n",
    "nb_m=nb.fit(X_train, Y_train)\n",
    "y_pred_nb = nb_m.predict(X_test)"
   ]
  },
  {
   "cell_type": "code",
   "execution_count": 104,
   "id": "b486011c",
   "metadata": {},
   "outputs": [
    {
     "data": {
      "text/plain": [
       "array([[4917, 2002],\n",
       "       [2137, 4643]], dtype=int64)"
      ]
     },
     "execution_count": 104,
     "metadata": {},
     "output_type": "execute_result"
    }
   ],
   "source": [
    "confusion_matrix(Y_test,y_pred_rf)"
   ]
  },
  {
   "cell_type": "code",
   "execution_count": 105,
   "id": "32f1fdf0",
   "metadata": {},
   "outputs": [
    {
     "name": "stdout",
     "output_type": "stream",
     "text": [
      "The precision score is\t : 0.7432814710042432\n",
      "The accuracy score is\t : 0.7059639389736477\n",
      "The recall score is\t : 0.6200589970501474\n"
     ]
    }
   ],
   "source": [
    "print(\"The precision score is\\t :\",precision_score(Y_test,y_pred_nb))\n",
    "print(\"The accuracy score is\\t :\",accuracy_score(Y_test,y_pred_nb))\n",
    "print(\"The recall score is\\t :\",recall_score(Y_test,y_pred_nb))"
   ]
  },
  {
   "cell_type": "code",
   "execution_count": null,
   "id": "c0f73cf8",
   "metadata": {},
   "outputs": [],
   "source": []
  },
  {
   "cell_type": "code",
   "execution_count": null,
   "id": "c249e458",
   "metadata": {},
   "outputs": [],
   "source": []
  },
  {
   "cell_type": "markdown",
   "id": "91414569",
   "metadata": {},
   "source": [
    "# Min Max Scaling"
   ]
  },
  {
   "cell_type": "code",
   "execution_count": 106,
   "id": "babeb986",
   "metadata": {},
   "outputs": [
    {
     "data": {
      "text/html": [
       "<div>\n",
       "<style scoped>\n",
       "    .dataframe tbody tr th:only-of-type {\n",
       "        vertical-align: middle;\n",
       "    }\n",
       "\n",
       "    .dataframe tbody tr th {\n",
       "        vertical-align: top;\n",
       "    }\n",
       "\n",
       "    .dataframe thead th {\n",
       "        text-align: right;\n",
       "    }\n",
       "</style>\n",
       "<table border=\"1\" class=\"dataframe\">\n",
       "  <thead>\n",
       "    <tr style=\"text-align: right;\">\n",
       "      <th></th>\n",
       "      <th>age</th>\n",
       "      <th>height</th>\n",
       "      <th>weight</th>\n",
       "      <th>systolic</th>\n",
       "      <th>diastolic</th>\n",
       "      <th>gender</th>\n",
       "      <th>cholesterol</th>\n",
       "      <th>gluc</th>\n",
       "      <th>smoke</th>\n",
       "      <th>alco</th>\n",
       "      <th>active</th>\n",
       "      <th>cardio</th>\n",
       "    </tr>\n",
       "  </thead>\n",
       "  <tbody>\n",
       "    <tr>\n",
       "      <th>count</th>\n",
       "      <td>68495.000000</td>\n",
       "      <td>68495.000000</td>\n",
       "      <td>68495.000000</td>\n",
       "      <td>68495.000000</td>\n",
       "      <td>68495.00000</td>\n",
       "      <td>68495.000000</td>\n",
       "      <td>68495.000000</td>\n",
       "      <td>68495.000000</td>\n",
       "      <td>68495.000000</td>\n",
       "      <td>68495.000000</td>\n",
       "      <td>68495.000000</td>\n",
       "      <td>68495.000000</td>\n",
       "    </tr>\n",
       "    <tr>\n",
       "      <th>mean</th>\n",
       "      <td>53.326199</td>\n",
       "      <td>164.449177</td>\n",
       "      <td>74.145506</td>\n",
       "      <td>126.567487</td>\n",
       "      <td>81.31103</td>\n",
       "      <td>0.348858</td>\n",
       "      <td>0.979283</td>\n",
       "      <td>1.002336</td>\n",
       "      <td>0.088036</td>\n",
       "      <td>0.053522</td>\n",
       "      <td>0.803329</td>\n",
       "      <td>0.494620</td>\n",
       "    </tr>\n",
       "    <tr>\n",
       "      <th>std</th>\n",
       "      <td>6.766890</td>\n",
       "      <td>7.836294</td>\n",
       "      <td>14.235543</td>\n",
       "      <td>16.522226</td>\n",
       "      <td>9.40352</td>\n",
       "      <td>0.476612</td>\n",
       "      <td>0.499505</td>\n",
       "      <td>0.386950</td>\n",
       "      <td>0.283349</td>\n",
       "      <td>0.225074</td>\n",
       "      <td>0.397485</td>\n",
       "      <td>0.499975</td>\n",
       "    </tr>\n",
       "    <tr>\n",
       "      <th>min</th>\n",
       "      <td>30.000000</td>\n",
       "      <td>125.000000</td>\n",
       "      <td>41.000000</td>\n",
       "      <td>70.000000</td>\n",
       "      <td>40.00000</td>\n",
       "      <td>0.000000</td>\n",
       "      <td>0.000000</td>\n",
       "      <td>0.000000</td>\n",
       "      <td>0.000000</td>\n",
       "      <td>0.000000</td>\n",
       "      <td>0.000000</td>\n",
       "      <td>0.000000</td>\n",
       "    </tr>\n",
       "    <tr>\n",
       "      <th>25%</th>\n",
       "      <td>48.000000</td>\n",
       "      <td>159.000000</td>\n",
       "      <td>65.000000</td>\n",
       "      <td>120.000000</td>\n",
       "      <td>80.00000</td>\n",
       "      <td>0.000000</td>\n",
       "      <td>1.000000</td>\n",
       "      <td>1.000000</td>\n",
       "      <td>0.000000</td>\n",
       "      <td>0.000000</td>\n",
       "      <td>1.000000</td>\n",
       "      <td>0.000000</td>\n",
       "    </tr>\n",
       "    <tr>\n",
       "      <th>50%</th>\n",
       "      <td>54.000000</td>\n",
       "      <td>165.000000</td>\n",
       "      <td>72.000000</td>\n",
       "      <td>120.000000</td>\n",
       "      <td>80.00000</td>\n",
       "      <td>0.000000</td>\n",
       "      <td>1.000000</td>\n",
       "      <td>1.000000</td>\n",
       "      <td>0.000000</td>\n",
       "      <td>0.000000</td>\n",
       "      <td>1.000000</td>\n",
       "      <td>0.000000</td>\n",
       "    </tr>\n",
       "    <tr>\n",
       "      <th>75%</th>\n",
       "      <td>58.000000</td>\n",
       "      <td>170.000000</td>\n",
       "      <td>82.000000</td>\n",
       "      <td>140.000000</td>\n",
       "      <td>90.00000</td>\n",
       "      <td>1.000000</td>\n",
       "      <td>1.000000</td>\n",
       "      <td>1.000000</td>\n",
       "      <td>0.000000</td>\n",
       "      <td>0.000000</td>\n",
       "      <td>1.000000</td>\n",
       "      <td>1.000000</td>\n",
       "    </tr>\n",
       "    <tr>\n",
       "      <th>max</th>\n",
       "      <td>65.000000</td>\n",
       "      <td>207.000000</td>\n",
       "      <td>200.000000</td>\n",
       "      <td>200.000000</td>\n",
       "      <td>130.00000</td>\n",
       "      <td>1.000000</td>\n",
       "      <td>2.000000</td>\n",
       "      <td>2.000000</td>\n",
       "      <td>1.000000</td>\n",
       "      <td>1.000000</td>\n",
       "      <td>1.000000</td>\n",
       "      <td>1.000000</td>\n",
       "    </tr>\n",
       "  </tbody>\n",
       "</table>\n",
       "</div>"
      ],
      "text/plain": [
       "                age        height        weight      systolic    diastolic  \\\n",
       "count  68495.000000  68495.000000  68495.000000  68495.000000  68495.00000   \n",
       "mean      53.326199    164.449177     74.145506    126.567487     81.31103   \n",
       "std        6.766890      7.836294     14.235543     16.522226      9.40352   \n",
       "min       30.000000    125.000000     41.000000     70.000000     40.00000   \n",
       "25%       48.000000    159.000000     65.000000    120.000000     80.00000   \n",
       "50%       54.000000    165.000000     72.000000    120.000000     80.00000   \n",
       "75%       58.000000    170.000000     82.000000    140.000000     90.00000   \n",
       "max       65.000000    207.000000    200.000000    200.000000    130.00000   \n",
       "\n",
       "             gender   cholesterol          gluc         smoke          alco  \\\n",
       "count  68495.000000  68495.000000  68495.000000  68495.000000  68495.000000   \n",
       "mean       0.348858      0.979283      1.002336      0.088036      0.053522   \n",
       "std        0.476612      0.499505      0.386950      0.283349      0.225074   \n",
       "min        0.000000      0.000000      0.000000      0.000000      0.000000   \n",
       "25%        0.000000      1.000000      1.000000      0.000000      0.000000   \n",
       "50%        0.000000      1.000000      1.000000      0.000000      0.000000   \n",
       "75%        1.000000      1.000000      1.000000      0.000000      0.000000   \n",
       "max        1.000000      2.000000      2.000000      1.000000      1.000000   \n",
       "\n",
       "             active        cardio  \n",
       "count  68495.000000  68495.000000  \n",
       "mean       0.803329      0.494620  \n",
       "std        0.397485      0.499975  \n",
       "min        0.000000      0.000000  \n",
       "25%        1.000000      0.000000  \n",
       "50%        1.000000      0.000000  \n",
       "75%        1.000000      1.000000  \n",
       "max        1.000000      1.000000  "
      ]
     },
     "execution_count": 106,
     "metadata": {},
     "output_type": "execute_result"
    }
   ],
   "source": [
    "data.describe()"
   ]
  },
  {
   "cell_type": "code",
   "execution_count": 107,
   "id": "c3b467e4",
   "metadata": {},
   "outputs": [
    {
     "data": {
      "text/plain": [
       "Index(['age', 'height', 'weight', 'systolic', 'diastolic'], dtype='object')"
      ]
     },
     "execution_count": 107,
     "metadata": {},
     "output_type": "execute_result"
    }
   ],
   "source": [
    "data_num.columns"
   ]
  },
  {
   "cell_type": "code",
   "execution_count": 108,
   "id": "862a1e30",
   "metadata": {},
   "outputs": [],
   "source": [
    "data_num_min_max=data_num"
   ]
  },
  {
   "cell_type": "code",
   "execution_count": 109,
   "id": "1a957414",
   "metadata": {},
   "outputs": [
    {
     "data": {
      "text/html": [
       "<div>\n",
       "<style scoped>\n",
       "    .dataframe tbody tr th:only-of-type {\n",
       "        vertical-align: middle;\n",
       "    }\n",
       "\n",
       "    .dataframe tbody tr th {\n",
       "        vertical-align: top;\n",
       "    }\n",
       "\n",
       "    .dataframe thead th {\n",
       "        text-align: right;\n",
       "    }\n",
       "</style>\n",
       "<table border=\"1\" class=\"dataframe\">\n",
       "  <thead>\n",
       "    <tr style=\"text-align: right;\">\n",
       "      <th></th>\n",
       "      <th>age</th>\n",
       "      <th>height</th>\n",
       "      <th>weight</th>\n",
       "      <th>systolic</th>\n",
       "      <th>diastolic</th>\n",
       "    </tr>\n",
       "  </thead>\n",
       "  <tbody>\n",
       "    <tr>\n",
       "      <th>0</th>\n",
       "      <td>50.0</td>\n",
       "      <td>168.0</td>\n",
       "      <td>62.0</td>\n",
       "      <td>110</td>\n",
       "      <td>80</td>\n",
       "    </tr>\n",
       "    <tr>\n",
       "      <th>1</th>\n",
       "      <td>55.0</td>\n",
       "      <td>156.0</td>\n",
       "      <td>85.0</td>\n",
       "      <td>140</td>\n",
       "      <td>90</td>\n",
       "    </tr>\n",
       "    <tr>\n",
       "      <th>2</th>\n",
       "      <td>52.0</td>\n",
       "      <td>165.0</td>\n",
       "      <td>64.0</td>\n",
       "      <td>130</td>\n",
       "      <td>70</td>\n",
       "    </tr>\n",
       "    <tr>\n",
       "      <th>3</th>\n",
       "      <td>48.0</td>\n",
       "      <td>169.0</td>\n",
       "      <td>82.0</td>\n",
       "      <td>150</td>\n",
       "      <td>100</td>\n",
       "    </tr>\n",
       "    <tr>\n",
       "      <th>4</th>\n",
       "      <td>48.0</td>\n",
       "      <td>156.0</td>\n",
       "      <td>56.0</td>\n",
       "      <td>100</td>\n",
       "      <td>60</td>\n",
       "    </tr>\n",
       "    <tr>\n",
       "      <th>...</th>\n",
       "      <td>...</td>\n",
       "      <td>...</td>\n",
       "      <td>...</td>\n",
       "      <td>...</td>\n",
       "      <td>...</td>\n",
       "    </tr>\n",
       "    <tr>\n",
       "      <th>68490</th>\n",
       "      <td>53.0</td>\n",
       "      <td>168.0</td>\n",
       "      <td>76.0</td>\n",
       "      <td>120</td>\n",
       "      <td>80</td>\n",
       "    </tr>\n",
       "    <tr>\n",
       "      <th>68491</th>\n",
       "      <td>62.0</td>\n",
       "      <td>158.0</td>\n",
       "      <td>126.0</td>\n",
       "      <td>140</td>\n",
       "      <td>90</td>\n",
       "    </tr>\n",
       "    <tr>\n",
       "      <th>68492</th>\n",
       "      <td>52.0</td>\n",
       "      <td>183.0</td>\n",
       "      <td>105.0</td>\n",
       "      <td>180</td>\n",
       "      <td>90</td>\n",
       "    </tr>\n",
       "    <tr>\n",
       "      <th>68493</th>\n",
       "      <td>61.0</td>\n",
       "      <td>163.0</td>\n",
       "      <td>72.0</td>\n",
       "      <td>135</td>\n",
       "      <td>80</td>\n",
       "    </tr>\n",
       "    <tr>\n",
       "      <th>68494</th>\n",
       "      <td>56.0</td>\n",
       "      <td>170.0</td>\n",
       "      <td>72.0</td>\n",
       "      <td>120</td>\n",
       "      <td>80</td>\n",
       "    </tr>\n",
       "  </tbody>\n",
       "</table>\n",
       "<p>68495 rows × 5 columns</p>\n",
       "</div>"
      ],
      "text/plain": [
       "        age  height  weight  systolic  diastolic\n",
       "0      50.0   168.0    62.0       110         80\n",
       "1      55.0   156.0    85.0       140         90\n",
       "2      52.0   165.0    64.0       130         70\n",
       "3      48.0   169.0    82.0       150        100\n",
       "4      48.0   156.0    56.0       100         60\n",
       "...     ...     ...     ...       ...        ...\n",
       "68490  53.0   168.0    76.0       120         80\n",
       "68491  62.0   158.0   126.0       140         90\n",
       "68492  52.0   183.0   105.0       180         90\n",
       "68493  61.0   163.0    72.0       135         80\n",
       "68494  56.0   170.0    72.0       120         80\n",
       "\n",
       "[68495 rows x 5 columns]"
      ]
     },
     "execution_count": 109,
     "metadata": {},
     "output_type": "execute_result"
    }
   ],
   "source": [
    "data_num_min_max"
   ]
  },
  {
   "cell_type": "code",
   "execution_count": 110,
   "id": "fea5bc84",
   "metadata": {},
   "outputs": [],
   "source": [
    "min_max_scaler=MinMaxScaler(feature_range=(0,1))\n",
    "data_num_min_max=min_max_scaler.fit_transform(data_num_min_max)"
   ]
  },
  {
   "cell_type": "code",
   "execution_count": 111,
   "id": "ec1074f4",
   "metadata": {},
   "outputs": [
    {
     "data": {
      "text/plain": [
       "numpy.ndarray"
      ]
     },
     "execution_count": 111,
     "metadata": {},
     "output_type": "execute_result"
    }
   ],
   "source": [
    "type(data_num_min_max)"
   ]
  },
  {
   "cell_type": "code",
   "execution_count": 112,
   "id": "3910cd00",
   "metadata": {},
   "outputs": [],
   "source": [
    "data_num_min_max=pd.DataFrame(data_num_min_max)"
   ]
  },
  {
   "cell_type": "code",
   "execution_count": 113,
   "id": "23b07cab",
   "metadata": {},
   "outputs": [
    {
     "data": {
      "text/html": [
       "<div>\n",
       "<style scoped>\n",
       "    .dataframe tbody tr th:only-of-type {\n",
       "        vertical-align: middle;\n",
       "    }\n",
       "\n",
       "    .dataframe tbody tr th {\n",
       "        vertical-align: top;\n",
       "    }\n",
       "\n",
       "    .dataframe thead th {\n",
       "        text-align: right;\n",
       "    }\n",
       "</style>\n",
       "<table border=\"1\" class=\"dataframe\">\n",
       "  <thead>\n",
       "    <tr style=\"text-align: right;\">\n",
       "      <th></th>\n",
       "      <th>count</th>\n",
       "      <th>mean</th>\n",
       "      <th>std</th>\n",
       "      <th>min</th>\n",
       "      <th>25%</th>\n",
       "      <th>50%</th>\n",
       "      <th>75%</th>\n",
       "      <th>max</th>\n",
       "    </tr>\n",
       "  </thead>\n",
       "  <tbody>\n",
       "    <tr>\n",
       "      <th>age</th>\n",
       "      <td>68495.0</td>\n",
       "      <td>0.666463</td>\n",
       "      <td>0.193340</td>\n",
       "      <td>0.0</td>\n",
       "      <td>0.514286</td>\n",
       "      <td>0.685714</td>\n",
       "      <td>0.800000</td>\n",
       "      <td>1.0</td>\n",
       "    </tr>\n",
       "    <tr>\n",
       "      <th>height</th>\n",
       "      <td>68495.0</td>\n",
       "      <td>0.481088</td>\n",
       "      <td>0.095565</td>\n",
       "      <td>0.0</td>\n",
       "      <td>0.414634</td>\n",
       "      <td>0.487805</td>\n",
       "      <td>0.548780</td>\n",
       "      <td>1.0</td>\n",
       "    </tr>\n",
       "    <tr>\n",
       "      <th>weight</th>\n",
       "      <td>68495.0</td>\n",
       "      <td>0.208462</td>\n",
       "      <td>0.089532</td>\n",
       "      <td>0.0</td>\n",
       "      <td>0.150943</td>\n",
       "      <td>0.194969</td>\n",
       "      <td>0.257862</td>\n",
       "      <td>1.0</td>\n",
       "    </tr>\n",
       "    <tr>\n",
       "      <th>systolic</th>\n",
       "      <td>68495.0</td>\n",
       "      <td>0.435135</td>\n",
       "      <td>0.127094</td>\n",
       "      <td>0.0</td>\n",
       "      <td>0.384615</td>\n",
       "      <td>0.384615</td>\n",
       "      <td>0.538462</td>\n",
       "      <td>1.0</td>\n",
       "    </tr>\n",
       "    <tr>\n",
       "      <th>diastolic</th>\n",
       "      <td>68495.0</td>\n",
       "      <td>0.459011</td>\n",
       "      <td>0.104484</td>\n",
       "      <td>0.0</td>\n",
       "      <td>0.444444</td>\n",
       "      <td>0.444444</td>\n",
       "      <td>0.555556</td>\n",
       "      <td>1.0</td>\n",
       "    </tr>\n",
       "  </tbody>\n",
       "</table>\n",
       "</div>"
      ],
      "text/plain": [
       "             count      mean       std  min       25%       50%       75%  max\n",
       "age        68495.0  0.666463  0.193340  0.0  0.514286  0.685714  0.800000  1.0\n",
       "height     68495.0  0.481088  0.095565  0.0  0.414634  0.487805  0.548780  1.0\n",
       "weight     68495.0  0.208462  0.089532  0.0  0.150943  0.194969  0.257862  1.0\n",
       "systolic   68495.0  0.435135  0.127094  0.0  0.384615  0.384615  0.538462  1.0\n",
       "diastolic  68495.0  0.459011  0.104484  0.0  0.444444  0.444444  0.555556  1.0"
      ]
     },
     "execution_count": 113,
     "metadata": {},
     "output_type": "execute_result"
    }
   ],
   "source": [
    "data_num_min_max.columns=['age', 'height', 'weight', 'systolic', 'diastolic']\n",
    "data_num_min_max.describe().T"
   ]
  },
  {
   "cell_type": "code",
   "execution_count": 114,
   "id": "48187d22",
   "metadata": {},
   "outputs": [
    {
     "data": {
      "text/html": [
       "<div>\n",
       "<style scoped>\n",
       "    .dataframe tbody tr th:only-of-type {\n",
       "        vertical-align: middle;\n",
       "    }\n",
       "\n",
       "    .dataframe tbody tr th {\n",
       "        vertical-align: top;\n",
       "    }\n",
       "\n",
       "    .dataframe thead th {\n",
       "        text-align: right;\n",
       "    }\n",
       "</style>\n",
       "<table border=\"1\" class=\"dataframe\">\n",
       "  <thead>\n",
       "    <tr style=\"text-align: right;\">\n",
       "      <th></th>\n",
       "      <th>age</th>\n",
       "      <th>height</th>\n",
       "      <th>weight</th>\n",
       "      <th>systolic</th>\n",
       "      <th>diastolic</th>\n",
       "      <th>gender</th>\n",
       "      <th>cholesterol</th>\n",
       "      <th>gluc</th>\n",
       "      <th>smoke</th>\n",
       "      <th>alco</th>\n",
       "      <th>active</th>\n",
       "      <th>cardio</th>\n",
       "    </tr>\n",
       "  </thead>\n",
       "  <tbody>\n",
       "    <tr>\n",
       "      <th>0</th>\n",
       "      <td>0.571429</td>\n",
       "      <td>0.524390</td>\n",
       "      <td>0.132075</td>\n",
       "      <td>0.307692</td>\n",
       "      <td>0.444444</td>\n",
       "      <td>1</td>\n",
       "      <td>1</td>\n",
       "      <td>1</td>\n",
       "      <td>0</td>\n",
       "      <td>0</td>\n",
       "      <td>1</td>\n",
       "      <td>0</td>\n",
       "    </tr>\n",
       "    <tr>\n",
       "      <th>1</th>\n",
       "      <td>0.714286</td>\n",
       "      <td>0.378049</td>\n",
       "      <td>0.276730</td>\n",
       "      <td>0.538462</td>\n",
       "      <td>0.555556</td>\n",
       "      <td>0</td>\n",
       "      <td>2</td>\n",
       "      <td>1</td>\n",
       "      <td>0</td>\n",
       "      <td>0</td>\n",
       "      <td>1</td>\n",
       "      <td>1</td>\n",
       "    </tr>\n",
       "    <tr>\n",
       "      <th>2</th>\n",
       "      <td>0.628571</td>\n",
       "      <td>0.487805</td>\n",
       "      <td>0.144654</td>\n",
       "      <td>0.461538</td>\n",
       "      <td>0.333333</td>\n",
       "      <td>0</td>\n",
       "      <td>2</td>\n",
       "      <td>1</td>\n",
       "      <td>0</td>\n",
       "      <td>0</td>\n",
       "      <td>0</td>\n",
       "      <td>1</td>\n",
       "    </tr>\n",
       "    <tr>\n",
       "      <th>3</th>\n",
       "      <td>0.514286</td>\n",
       "      <td>0.536585</td>\n",
       "      <td>0.257862</td>\n",
       "      <td>0.615385</td>\n",
       "      <td>0.666667</td>\n",
       "      <td>1</td>\n",
       "      <td>1</td>\n",
       "      <td>1</td>\n",
       "      <td>0</td>\n",
       "      <td>0</td>\n",
       "      <td>1</td>\n",
       "      <td>1</td>\n",
       "    </tr>\n",
       "    <tr>\n",
       "      <th>4</th>\n",
       "      <td>0.514286</td>\n",
       "      <td>0.378049</td>\n",
       "      <td>0.094340</td>\n",
       "      <td>0.230769</td>\n",
       "      <td>0.222222</td>\n",
       "      <td>0</td>\n",
       "      <td>1</td>\n",
       "      <td>1</td>\n",
       "      <td>0</td>\n",
       "      <td>0</td>\n",
       "      <td>0</td>\n",
       "      <td>0</td>\n",
       "    </tr>\n",
       "  </tbody>\n",
       "</table>\n",
       "</div>"
      ],
      "text/plain": [
       "        age    height    weight  systolic  diastolic  gender  cholesterol  \\\n",
       "0  0.571429  0.524390  0.132075  0.307692   0.444444       1            1   \n",
       "1  0.714286  0.378049  0.276730  0.538462   0.555556       0            2   \n",
       "2  0.628571  0.487805  0.144654  0.461538   0.333333       0            2   \n",
       "3  0.514286  0.536585  0.257862  0.615385   0.666667       1            1   \n",
       "4  0.514286  0.378049  0.094340  0.230769   0.222222       0            1   \n",
       "\n",
       "   gluc  smoke  alco  active  cardio  \n",
       "0     1      0     0       1       0  \n",
       "1     1      0     0       1       1  \n",
       "2     1      0     0       0       1  \n",
       "3     1      0     0       1       1  \n",
       "4     1      0     0       0       0  "
      ]
     },
     "execution_count": 114,
     "metadata": {},
     "output_type": "execute_result"
    }
   ],
   "source": [
    "#concat numerical and categorical columns\n",
    "data1 = pd.concat([data_num_min_max,data_cat],axis=1)\n",
    "data1.head()"
   ]
  },
  {
   "cell_type": "markdown",
   "id": "6c1b0e89",
   "metadata": {},
   "source": [
    "# 8. Logistic Regression with Min Max scaling"
   ]
  },
  {
   "cell_type": "code",
   "execution_count": 115,
   "id": "9b91c1ea",
   "metadata": {},
   "outputs": [],
   "source": [
    "X=data1.drop(['cardio',\"alco\"],axis=1)\n",
    "Y=data1['cardio']"
   ]
  },
  {
   "cell_type": "code",
   "execution_count": 116,
   "id": "14103051",
   "metadata": {},
   "outputs": [],
   "source": [
    "X_train,X_test,Y_train,Y_test=train_test_split(X,Y,test_size=0.2,random_state=42)"
   ]
  },
  {
   "cell_type": "code",
   "execution_count": 117,
   "id": "7fa7c98a",
   "metadata": {},
   "outputs": [],
   "source": [
    "LR2=LogisticRegression()\n",
    "LR_model2=LR2.fit(X_train,Y_train)\n",
    "prediction2=LR_model2.predict(X_test)"
   ]
  },
  {
   "cell_type": "code",
   "execution_count": 118,
   "id": "d1cb3413",
   "metadata": {},
   "outputs": [
    {
     "data": {
      "text/plain": [
       "array([1, 0, 1, ..., 1, 1, 0])"
      ]
     },
     "execution_count": 118,
     "metadata": {},
     "output_type": "execute_result"
    }
   ],
   "source": [
    "prediction2"
   ]
  },
  {
   "cell_type": "code",
   "execution_count": 119,
   "id": "e2af5066",
   "metadata": {},
   "outputs": [],
   "source": [
    "#prediction2=pd.DataFrame(prediction2)"
   ]
  },
  {
   "cell_type": "code",
   "execution_count": 120,
   "id": "fb77913f",
   "metadata": {},
   "outputs": [
    {
     "data": {
      "text/plain": [
       "array([[5349, 1570],\n",
       "       [2299, 4481]], dtype=int64)"
      ]
     },
     "execution_count": 120,
     "metadata": {},
     "output_type": "execute_result"
    }
   ],
   "source": [
    "confusion_matrix(Y_test,prediction2)"
   ]
  },
  {
   "cell_type": "code",
   "execution_count": 121,
   "id": "913c7936",
   "metadata": {},
   "outputs": [
    {
     "name": "stdout",
     "output_type": "stream",
     "text": [
      "The precision score is\t : 0.740538753924971\n",
      "The accuracy score is\t : 0.717570625593109\n",
      "The recall score is\t : 0.6609144542772861\n"
     ]
    }
   ],
   "source": [
    "print(\"The precision score is\\t :\",precision_score(Y_test,prediction2))\n",
    "print(\"The accuracy score is\\t :\",accuracy_score(Y_test,prediction2))\n",
    "print(\"The recall score is\\t :\",recall_score(Y_test,prediction2))"
   ]
  },
  {
   "cell_type": "markdown",
   "id": "833874c8",
   "metadata": {},
   "source": [
    "# 9. kNN -Min Max"
   ]
  },
  {
   "cell_type": "code",
   "execution_count": 122,
   "id": "0df76049",
   "metadata": {},
   "outputs": [],
   "source": [
    "#set number for k in the range 3 to 14.Finding the accuracy score for different values for k\n",
    "metric_k=[]\n",
    "neighbors=range(3,15)\n",
    "\n",
    "for k in neighbors:\n",
    "    classifier=KNeighborsClassifier(n_neighbors=k)\n",
    "    classifier=classifier.fit(X_train,Y_train)\n",
    "    y_pred_kNN=classifier.predict(X_test)\n",
    "    acc=accuracy_score(Y_test,y_pred_kNN)\n",
    "    metric_k.append(acc)"
   ]
  },
  {
   "cell_type": "code",
   "execution_count": 123,
   "id": "a202649c",
   "metadata": {},
   "outputs": [
    {
     "data": {
      "text/plain": [
       "[0.6740638002773925,\n",
       " 0.6788816701949048,\n",
       " 0.6946492444703993,\n",
       " 0.6982991459230601,\n",
       " 0.7026060296371998,\n",
       " 0.7057449448864881,\n",
       " 0.7059639389736477,\n",
       " 0.7096138404263085,\n",
       " 0.7088108621067232,\n",
       " 0.7123147675012774,\n",
       " 0.711803781297905,\n",
       " 0.7150886926052996]"
      ]
     },
     "execution_count": 123,
     "metadata": {},
     "output_type": "execute_result"
    }
   ],
   "source": [
    "#print the list\n",
    "metric_k"
   ]
  },
  {
   "cell_type": "code",
   "execution_count": 124,
   "id": "31d89d03",
   "metadata": {},
   "outputs": [
    {
     "data": {
      "image/png": "[encoded data removed]",
      "text/plain": [
       "<Figure size 432x288 with 1 Axes>"
      ]
     },
     "metadata": {
      "needs_background": "light"
     },
     "output_type": "display_data"
    }
   ],
   "source": [
    "#Another method to find the accurate values.Plot graph\n",
    "plt.plot(neighbors,metric_k,'o-')\n",
    "plt.xlabel('k values')\n",
    "plt.ylabel('Accuracies')\n",
    "plt.grid()\n",
    "plt.show()"
   ]
  },
  {
   "cell_type": "code",
   "execution_count": 125,
   "id": "cbc04738",
   "metadata": {},
   "outputs": [],
   "source": [
    "#Same steps above with k=12\n",
    "classifier=KNeighborsClassifier(n_neighbors=12)\n",
    "classifier=classifier.fit(X_train,Y_train)\n",
    "y_pred_kNN=classifier.predict(X_test)"
   ]
  },
  {
   "cell_type": "code",
   "execution_count": 126,
   "id": "bee5e4ac",
   "metadata": {},
   "outputs": [
    {
     "data": {
      "text/plain": [
       "array([[5374, 1545],\n",
       "       [2396, 4384]], dtype=int64)"
      ]
     },
     "execution_count": 126,
     "metadata": {},
     "output_type": "execute_result"
    }
   ],
   "source": [
    "confusion_matrix(Y_test,y_pred_kNN)"
   ]
  },
  {
   "cell_type": "code",
   "execution_count": 127,
   "id": "36194572",
   "metadata": {},
   "outputs": [
    {
     "name": "stdout",
     "output_type": "stream",
     "text": [
      "The precision score is\t : 0.739416427728116\n",
      "The accuracy score is\t : 0.7123147675012774\n",
      "The recall score is\t : 0.6466076696165192\n"
     ]
    }
   ],
   "source": [
    "print(\"The precision score is\\t :\",precision_score(Y_test,y_pred_kNN))\n",
    "print(\"The accuracy score is\\t :\",accuracy_score(Y_test,y_pred_kNN))\n",
    "print(\"The recall score is\\t :\",recall_score(Y_test,y_pred_kNN))"
   ]
  },
  {
   "cell_type": "markdown",
   "id": "eb0f347d",
   "metadata": {},
   "source": [
    "# 10. SVM-Linear_Min Max"
   ]
  },
  {
   "cell_type": "code",
   "execution_count": 128,
   "id": "65af5827",
   "metadata": {},
   "outputs": [],
   "source": [
    "#with linear keranal\n",
    "#svm_clf=SVC(kernel=\"linear\")\n",
    "#svm_clf=svm_clf.fit(X_train,Y_train)\n",
    "#y_pred_svm=svm_clf.predict(X_test)"
   ]
  },
  {
   "cell_type": "code",
   "execution_count": 129,
   "id": "74ad666f",
   "metadata": {},
   "outputs": [],
   "source": [
    "#confusion_matrix(Y_test,y_pred_svm)"
   ]
  },
  {
   "cell_type": "code",
   "execution_count": 130,
   "id": "0f91553c",
   "metadata": {},
   "outputs": [],
   "source": [
    "#print(\"The precision score is\\t :\",precision_score(Y_test,y_pred_svm))\n",
    "#print(\"The accuracy score is\\t :\",accuracy_score(Y_test,y_pred_svm))\n",
    "#print(\"The recall score is\\t :\",recall_score(Y_test,y_pred_svm))"
   ]
  },
  {
   "cell_type": "code",
   "execution_count": 131,
   "id": "251b33e3",
   "metadata": {},
   "outputs": [],
   "source": [
    "# SVM-RBF-Min Max"
   ]
  },
  {
   "cell_type": "code",
   "execution_count": 132,
   "id": "2e2e0b45",
   "metadata": {},
   "outputs": [],
   "source": [
    "#with Radial Basis Function (RBF)\n",
    "#svm_clf2=SVC(kernel=\"rbf\")\n",
    "#svm_clf2=svm_clf2.fit(X_train,Y_train)\n",
    "#y_pred_svm2=svm_clf2.predict(X_test)"
   ]
  },
  {
   "cell_type": "code",
   "execution_count": 133,
   "id": "c5a56968",
   "metadata": {},
   "outputs": [],
   "source": [
    "#print confusion matrix\n",
    "#confusion_matrix(Y_test,y_pred_svm2)"
   ]
  },
  {
   "cell_type": "code",
   "execution_count": 134,
   "id": "2d2749e6",
   "metadata": {},
   "outputs": [],
   "source": [
    "#print(\"The precision score is\\t :\",precision_score(Y_test,y_pred_svm2))\n",
    "#print(\"The accuracy score is\\t :\",accuracy_score(Y_test,y_pred_svm2))\n",
    "#print(\"The recall score is\\t :\",recall_score(Y_test,y_pred_svm2))"
   ]
  },
  {
   "cell_type": "markdown",
   "id": "696edda9",
   "metadata": {},
   "source": [
    "# 11. Decision Tree-Min Max"
   ]
  },
  {
   "cell_type": "code",
   "execution_count": 135,
   "id": "bc6a96b4",
   "metadata": {},
   "outputs": [],
   "source": [
    "dt_clf=DecisionTreeClassifier()\n",
    "dt_clf=dt_clf.fit(X_train,Y_train)\n",
    "y_pred_dt=dt_clf.predict(X_test)"
   ]
  },
  {
   "cell_type": "code",
   "execution_count": 136,
   "id": "1e22f026",
   "metadata": {},
   "outputs": [
    {
     "data": {
      "text/plain": [
       "array([[4569, 2350],\n",
       "       [2652, 4128]], dtype=int64)"
      ]
     },
     "execution_count": 136,
     "metadata": {},
     "output_type": "execute_result"
    }
   ],
   "source": [
    "confusion_matrix(Y_test,y_pred_dt)"
   ]
  },
  {
   "cell_type": "code",
   "execution_count": 137,
   "id": "c119292f",
   "metadata": {},
   "outputs": [
    {
     "name": "stdout",
     "output_type": "stream",
     "text": [
      "The precision score is\t : 0.637233714109293\n",
      "The accuracy score is\t : 0.6348638586758157\n",
      "The recall score is\t : 0.6088495575221239\n"
     ]
    }
   ],
   "source": [
    "print(\"The precision score is\\t :\",precision_score(Y_test,y_pred_dt))\n",
    "print(\"The accuracy score is\\t :\",accuracy_score(Y_test,y_pred_dt))\n",
    "print(\"The recall score is\\t :\",recall_score(Y_test,y_pred_dt))"
   ]
  },
  {
   "cell_type": "markdown",
   "id": "c98197ed",
   "metadata": {},
   "source": [
    "# 12. Random Forest-Min Max"
   ]
  },
  {
   "cell_type": "code",
   "execution_count": 138,
   "id": "a81a30bc",
   "metadata": {},
   "outputs": [],
   "source": [
    "rf_clf=RandomForestClassifier()\n",
    "rf_clf=rf_clf.fit(X_train,Y_train)\n",
    "y_pred_rf=rf_clf.predict(X_test)"
   ]
  },
  {
   "cell_type": "code",
   "execution_count": 139,
   "id": "26b1cab9",
   "metadata": {},
   "outputs": [
    {
     "data": {
      "text/plain": [
       "array([[4926, 1993],\n",
       "       [2129, 4651]], dtype=int64)"
      ]
     },
     "execution_count": 139,
     "metadata": {},
     "output_type": "execute_result"
    }
   ],
   "source": [
    "confusion_matrix(Y_test,y_pred_rf)"
   ]
  },
  {
   "cell_type": "code",
   "execution_count": 140,
   "id": "a961d175",
   "metadata": {},
   "outputs": [
    {
     "name": "stdout",
     "output_type": "stream",
     "text": [
      "The precision score is\t : 0.7000301023479831\n",
      "The accuracy score is\t : 0.6991021242426454\n",
      "The recall score is\t : 0.6859882005899705\n"
     ]
    }
   ],
   "source": [
    "print(\"The precision score is\\t :\",precision_score(Y_test,y_pred_rf))\n",
    "print(\"The accuracy score is\\t :\",accuracy_score(Y_test,y_pred_rf))\n",
    "print(\"The recall score is\\t :\",recall_score(Y_test,y_pred_rf))"
   ]
  },
  {
   "cell_type": "markdown",
   "id": "d2eb8bd4",
   "metadata": {},
   "source": [
    "# 13. XG Boost Classifier-Min Max"
   ]
  },
  {
   "cell_type": "code",
   "execution_count": 141,
   "id": "0de70585",
   "metadata": {},
   "outputs": [],
   "source": [
    "from xgboost import XGBClassifier\n",
    "xgb = XGBClassifier(learning_rate=0.02, n_estimators=600)\n",
    "xgb_m=xgb.fit(X_train, Y_train)\n",
    "y_pred_xgb = xgb_m.predict(X_test)"
   ]
  },
  {
   "cell_type": "code",
   "execution_count": 142,
   "id": "a9af1ce6",
   "metadata": {},
   "outputs": [
    {
     "data": {
      "text/plain": [
       "array([[5389, 1530],\n",
       "       [2161, 4619]], dtype=int64)"
      ]
     },
     "execution_count": 142,
     "metadata": {},
     "output_type": "execute_result"
    }
   ],
   "source": [
    "confusion_matrix(Y_test,y_pred_xgb)"
   ]
  },
  {
   "cell_type": "code",
   "execution_count": 143,
   "id": "182066d3",
   "metadata": {},
   "outputs": [
    {
     "name": "stdout",
     "output_type": "stream",
     "text": [
      "The precision score is\t : 0.7511790535046349\n",
      "The accuracy score is\t : 0.7305642747645814\n",
      "The recall score is\t : 0.681268436578171\n"
     ]
    }
   ],
   "source": [
    "print(\"The precision score is\\t :\",precision_score(Y_test,y_pred_xgb))\n",
    "print(\"The accuracy score is\\t :\",accuracy_score(Y_test,y_pred_xgb))\n",
    "print(\"The recall score is\\t :\",recall_score(Y_test,y_pred_xgb))"
   ]
  },
  {
   "cell_type": "markdown",
   "id": "b5d3f05a",
   "metadata": {},
   "source": [
    "# 14. Naive Bayes- Min Max"
   ]
  },
  {
   "cell_type": "code",
   "execution_count": 144,
   "id": "ec21fd3d",
   "metadata": {},
   "outputs": [],
   "source": [
    "from sklearn.naive_bayes import GaussianNB \n",
    "nb = GaussianNB() \n",
    "nb_m=nb.fit(X_train, Y_train)\n",
    "y_pred_nb = nb_m.predict(X_test)"
   ]
  },
  {
   "cell_type": "code",
   "execution_count": 145,
   "id": "4471f727",
   "metadata": {},
   "outputs": [
    {
     "data": {
      "text/plain": [
       "array([[5467, 1452],\n",
       "       [2576, 4204]], dtype=int64)"
      ]
     },
     "execution_count": 145,
     "metadata": {},
     "output_type": "execute_result"
    }
   ],
   "source": [
    "confusion_matrix(Y_test,y_pred_nb)"
   ]
  },
  {
   "cell_type": "code",
   "execution_count": 146,
   "id": "bbfd34b6",
   "metadata": {},
   "outputs": [
    {
     "name": "stdout",
     "output_type": "stream",
     "text": [
      "The precision score is\t : 0.7432814710042432\n",
      "The accuracy score is\t : 0.7059639389736477\n",
      "The recall score is\t : 0.6200589970501474\n"
     ]
    }
   ],
   "source": [
    "print(\"The precision score is\\t :\",precision_score(Y_test,y_pred_nb))\n",
    "print(\"The accuracy score is\\t :\",accuracy_score(Y_test,y_pred_nb))\n",
    "print(\"The recall score is\\t :\",recall_score(Y_test,y_pred_nb))"
   ]
  },
  {
   "cell_type": "markdown",
   "id": "610cdbf8",
   "metadata": {},
   "source": [
    "# Standardisation"
   ]
  },
  {
   "cell_type": "code",
   "execution_count": 147,
   "id": "e67fed84",
   "metadata": {},
   "outputs": [],
   "source": [
    "std_sclr=StandardScaler()"
   ]
  },
  {
   "cell_type": "code",
   "execution_count": 148,
   "id": "afd6e149",
   "metadata": {},
   "outputs": [],
   "source": [
    "data_num_std=data_num"
   ]
  },
  {
   "cell_type": "code",
   "execution_count": 149,
   "id": "b8d860d8",
   "metadata": {},
   "outputs": [],
   "source": [
    "data_num_std=std_sclr.fit_transform(data_num_std)"
   ]
  },
  {
   "cell_type": "code",
   "execution_count": 150,
   "id": "b74ced2a",
   "metadata": {},
   "outputs": [
    {
     "data": {
      "text/plain": [
       "numpy.ndarray"
      ]
     },
     "execution_count": 150,
     "metadata": {},
     "output_type": "execute_result"
    }
   ],
   "source": [
    "type(data_num_std)"
   ]
  },
  {
   "cell_type": "code",
   "execution_count": 151,
   "id": "13b5d568",
   "metadata": {},
   "outputs": [],
   "source": [
    "data_num_std=pd.DataFrame(data_num_std)"
   ]
  },
  {
   "cell_type": "code",
   "execution_count": 152,
   "id": "ec82d610",
   "metadata": {},
   "outputs": [
    {
     "data": {
      "text/html": [
       "<div>\n",
       "<style scoped>\n",
       "    .dataframe tbody tr th:only-of-type {\n",
       "        vertical-align: middle;\n",
       "    }\n",
       "\n",
       "    .dataframe tbody tr th {\n",
       "        vertical-align: top;\n",
       "    }\n",
       "\n",
       "    .dataframe thead th {\n",
       "        text-align: right;\n",
       "    }\n",
       "</style>\n",
       "<table border=\"1\" class=\"dataframe\">\n",
       "  <thead>\n",
       "    <tr style=\"text-align: right;\">\n",
       "      <th></th>\n",
       "      <th>count</th>\n",
       "      <th>mean</th>\n",
       "      <th>std</th>\n",
       "      <th>min</th>\n",
       "      <th>25%</th>\n",
       "      <th>50%</th>\n",
       "      <th>75%</th>\n",
       "      <th>max</th>\n",
       "    </tr>\n",
       "  </thead>\n",
       "  <tbody>\n",
       "    <tr>\n",
       "      <th>age</th>\n",
       "      <td>68495.0</td>\n",
       "      <td>2.674747e-16</td>\n",
       "      <td>1.000007</td>\n",
       "      <td>-3.447133</td>\n",
       "      <td>-0.787103</td>\n",
       "      <td>0.099574</td>\n",
       "      <td>0.690692</td>\n",
       "      <td>1.725148</td>\n",
       "    </tr>\n",
       "    <tr>\n",
       "      <th>height</th>\n",
       "      <td>68495.0</td>\n",
       "      <td>1.825149e-15</td>\n",
       "      <td>1.000007</td>\n",
       "      <td>-5.034199</td>\n",
       "      <td>-0.695382</td>\n",
       "      <td>0.070292</td>\n",
       "      <td>0.708353</td>\n",
       "      <td>5.430007</td>\n",
       "    </tr>\n",
       "    <tr>\n",
       "      <th>weight</th>\n",
       "      <td>68495.0</td>\n",
       "      <td>-4.805185e-16</td>\n",
       "      <td>1.000007</td>\n",
       "      <td>-2.328380</td>\n",
       "      <td>-0.642446</td>\n",
       "      <td>-0.150716</td>\n",
       "      <td>0.551756</td>\n",
       "      <td>8.840928</td>\n",
       "    </tr>\n",
       "    <tr>\n",
       "      <th>systolic</th>\n",
       "      <td>68495.0</td>\n",
       "      <td>2.951229e-16</td>\n",
       "      <td>1.000007</td>\n",
       "      <td>-3.423746</td>\n",
       "      <td>-0.397497</td>\n",
       "      <td>-0.397497</td>\n",
       "      <td>0.813003</td>\n",
       "      <td>4.444501</td>\n",
       "    </tr>\n",
       "    <tr>\n",
       "      <th>diastolic</th>\n",
       "      <td>68495.0</td>\n",
       "      <td>-7.509189e-16</td>\n",
       "      <td>1.000007</td>\n",
       "      <td>-4.393177</td>\n",
       "      <td>-0.139420</td>\n",
       "      <td>-0.139420</td>\n",
       "      <td>0.924019</td>\n",
       "      <td>5.177776</td>\n",
       "    </tr>\n",
       "  </tbody>\n",
       "</table>\n",
       "</div>"
      ],
      "text/plain": [
       "             count          mean       std       min       25%       50%  \\\n",
       "age        68495.0  2.674747e-16  1.000007 -3.447133 -0.787103  0.099574   \n",
       "height     68495.0  1.825149e-15  1.000007 -5.034199 -0.695382  0.070292   \n",
       "weight     68495.0 -4.805185e-16  1.000007 -2.328380 -0.642446 -0.150716   \n",
       "systolic   68495.0  2.951229e-16  1.000007 -3.423746 -0.397497 -0.397497   \n",
       "diastolic  68495.0 -7.509189e-16  1.000007 -4.393177 -0.139420 -0.139420   \n",
       "\n",
       "                75%       max  \n",
       "age        0.690692  1.725148  \n",
       "height     0.708353  5.430007  \n",
       "weight     0.551756  8.840928  \n",
       "systolic   0.813003  4.444501  \n",
       "diastolic  0.924019  5.177776  "
      ]
     },
     "execution_count": 152,
     "metadata": {},
     "output_type": "execute_result"
    }
   ],
   "source": [
    "data_num_std.columns=['age', 'height', 'weight', 'systolic', 'diastolic']\n",
    "data_num_std.describe().T"
   ]
  },
  {
   "cell_type": "code",
   "execution_count": 153,
   "id": "b2a79266",
   "metadata": {},
   "outputs": [
    {
     "data": {
      "text/html": [
       "<div>\n",
       "<style scoped>\n",
       "    .dataframe tbody tr th:only-of-type {\n",
       "        vertical-align: middle;\n",
       "    }\n",
       "\n",
       "    .dataframe tbody tr th {\n",
       "        vertical-align: top;\n",
       "    }\n",
       "\n",
       "    .dataframe thead th {\n",
       "        text-align: right;\n",
       "    }\n",
       "</style>\n",
       "<table border=\"1\" class=\"dataframe\">\n",
       "  <thead>\n",
       "    <tr style=\"text-align: right;\">\n",
       "      <th></th>\n",
       "      <th>age</th>\n",
       "      <th>height</th>\n",
       "      <th>weight</th>\n",
       "      <th>systolic</th>\n",
       "      <th>diastolic</th>\n",
       "      <th>gender</th>\n",
       "      <th>cholesterol</th>\n",
       "      <th>gluc</th>\n",
       "      <th>smoke</th>\n",
       "      <th>alco</th>\n",
       "      <th>active</th>\n",
       "      <th>cardio</th>\n",
       "    </tr>\n",
       "  </thead>\n",
       "  <tbody>\n",
       "    <tr>\n",
       "      <th>0</th>\n",
       "      <td>-0.491544</td>\n",
       "      <td>0.453129</td>\n",
       "      <td>-0.853188</td>\n",
       "      <td>-1.002747</td>\n",
       "      <td>-0.139420</td>\n",
       "      <td>1</td>\n",
       "      <td>1</td>\n",
       "      <td>1</td>\n",
       "      <td>0</td>\n",
       "      <td>0</td>\n",
       "      <td>1</td>\n",
       "      <td>0</td>\n",
       "    </tr>\n",
       "    <tr>\n",
       "      <th>1</th>\n",
       "      <td>0.247353</td>\n",
       "      <td>-1.078219</td>\n",
       "      <td>0.762498</td>\n",
       "      <td>0.813003</td>\n",
       "      <td>0.924019</td>\n",
       "      <td>0</td>\n",
       "      <td>2</td>\n",
       "      <td>1</td>\n",
       "      <td>0</td>\n",
       "      <td>0</td>\n",
       "      <td>1</td>\n",
       "      <td>1</td>\n",
       "    </tr>\n",
       "    <tr>\n",
       "      <th>2</th>\n",
       "      <td>-0.195985</td>\n",
       "      <td>0.070292</td>\n",
       "      <td>-0.712694</td>\n",
       "      <td>0.207753</td>\n",
       "      <td>-1.202859</td>\n",
       "      <td>0</td>\n",
       "      <td>2</td>\n",
       "      <td>1</td>\n",
       "      <td>0</td>\n",
       "      <td>0</td>\n",
       "      <td>0</td>\n",
       "      <td>1</td>\n",
       "    </tr>\n",
       "    <tr>\n",
       "      <th>3</th>\n",
       "      <td>-0.787103</td>\n",
       "      <td>0.580741</td>\n",
       "      <td>0.551756</td>\n",
       "      <td>1.418252</td>\n",
       "      <td>1.987458</td>\n",
       "      <td>1</td>\n",
       "      <td>1</td>\n",
       "      <td>1</td>\n",
       "      <td>0</td>\n",
       "      <td>0</td>\n",
       "      <td>1</td>\n",
       "      <td>1</td>\n",
       "    </tr>\n",
       "    <tr>\n",
       "      <th>4</th>\n",
       "      <td>-0.787103</td>\n",
       "      <td>-1.078219</td>\n",
       "      <td>-1.274671</td>\n",
       "      <td>-1.607996</td>\n",
       "      <td>-2.266299</td>\n",
       "      <td>0</td>\n",
       "      <td>1</td>\n",
       "      <td>1</td>\n",
       "      <td>0</td>\n",
       "      <td>0</td>\n",
       "      <td>0</td>\n",
       "      <td>0</td>\n",
       "    </tr>\n",
       "  </tbody>\n",
       "</table>\n",
       "</div>"
      ],
      "text/plain": [
       "        age    height    weight  systolic  diastolic  gender  cholesterol  \\\n",
       "0 -0.491544  0.453129 -0.853188 -1.002747  -0.139420       1            1   \n",
       "1  0.247353 -1.078219  0.762498  0.813003   0.924019       0            2   \n",
       "2 -0.195985  0.070292 -0.712694  0.207753  -1.202859       0            2   \n",
       "3 -0.787103  0.580741  0.551756  1.418252   1.987458       1            1   \n",
       "4 -0.787103 -1.078219 -1.274671 -1.607996  -2.266299       0            1   \n",
       "\n",
       "   gluc  smoke  alco  active  cardio  \n",
       "0     1      0     0       1       0  \n",
       "1     1      0     0       1       1  \n",
       "2     1      0     0       0       1  \n",
       "3     1      0     0       1       1  \n",
       "4     1      0     0       0       0  "
      ]
     },
     "execution_count": 153,
     "metadata": {},
     "output_type": "execute_result"
    }
   ],
   "source": [
    "#concat numerical and categorical columns\n",
    "data2 = pd.concat([data_num_std,data_cat],axis=1)\n",
    "data2.head()"
   ]
  },
  {
   "cell_type": "markdown",
   "id": "56c12a94",
   "metadata": {},
   "source": [
    "# 15. Logistic Regression after Standard scaling"
   ]
  },
  {
   "cell_type": "code",
   "execution_count": 154,
   "id": "6d60c10c",
   "metadata": {},
   "outputs": [],
   "source": [
    "X=data2.drop(['cardio',\"alco\"],axis=1)\n",
    "Y=data2['cardio']"
   ]
  },
  {
   "cell_type": "code",
   "execution_count": 155,
   "id": "61e04f87",
   "metadata": {},
   "outputs": [],
   "source": [
    "X_train,X_test,Y_train,Y_test=train_test_split(X,Y,test_size=0.2,random_state=42)"
   ]
  },
  {
   "cell_type": "code",
   "execution_count": 156,
   "id": "9b11f29c",
   "metadata": {},
   "outputs": [],
   "source": [
    "LR3=LogisticRegression()\n",
    "LR_model3=LR3.fit(X_train,Y_train)\n",
    "prediction3=LR_model3.predict(X_test)"
   ]
  },
  {
   "cell_type": "code",
   "execution_count": 157,
   "id": "22c95417",
   "metadata": {},
   "outputs": [
    {
     "data": {
      "text/plain": [
       "array([1, 0, 1, ..., 1, 1, 0])"
      ]
     },
     "execution_count": 157,
     "metadata": {},
     "output_type": "execute_result"
    }
   ],
   "source": [
    "prediction3"
   ]
  },
  {
   "cell_type": "code",
   "execution_count": 158,
   "id": "1f5909e4",
   "metadata": {},
   "outputs": [],
   "source": [
    "Log_reg_score=LR_model3.score(X_test,Y_test)"
   ]
  },
  {
   "cell_type": "code",
   "execution_count": 159,
   "id": "cc8b7d3c",
   "metadata": {},
   "outputs": [
    {
     "data": {
      "text/plain": [
       "0.7177896196802687"
      ]
     },
     "execution_count": 159,
     "metadata": {},
     "output_type": "execute_result"
    }
   ],
   "source": [
    "Log_reg_score"
   ]
  },
  {
   "cell_type": "code",
   "execution_count": 160,
   "id": "fc8f09a6",
   "metadata": {},
   "outputs": [
    {
     "data": {
      "text/plain": [
       "array([[5351, 1568],\n",
       "       [2298, 4482]], dtype=int64)"
      ]
     },
     "execution_count": 160,
     "metadata": {},
     "output_type": "execute_result"
    }
   ],
   "source": [
    "confusion_matrix(Y_test,prediction3)"
   ]
  },
  {
   "cell_type": "code",
   "execution_count": 161,
   "id": "452cd269",
   "metadata": {},
   "outputs": [
    {
     "name": "stdout",
     "output_type": "stream",
     "text": [
      "The precision score is\t : 0.7408264462809917\n",
      "The accuracy score is\t : 0.7177896196802687\n",
      "The recall score is\t : 0.6610619469026549\n"
     ]
    }
   ],
   "source": [
    "print(\"The precision score is\\t :\",precision_score(Y_test,prediction3))\n",
    "print(\"The accuracy score is\\t :\",accuracy_score(Y_test,prediction3))\n",
    "print(\"The recall score is\\t :\",recall_score(Y_test,prediction3))"
   ]
  },
  {
   "cell_type": "code",
   "execution_count": 162,
   "id": "2d3671e1",
   "metadata": {},
   "outputs": [],
   "source": [
    "#Applying Stratified k-Fold Cross Validation\n",
    "from sklearn.model_selection import StratifiedKFold,cross_val_score\n",
    "skf = StratifiedKFold(n_splits=10, shuffle=True, random_state=42)\n",
    "accuracies_log_reg = cross_val_score(estimator=LR_model3, X=X_train, y=Y_train, cv=skf)"
   ]
  },
  {
   "cell_type": "code",
   "execution_count": 163,
   "id": "3ec44afd",
   "metadata": {},
   "outputs": [
    {
     "data": {
      "text/plain": [
       "array([0.72427007, 0.72956204, 0.73047445, 0.71642336, 0.72080292,\n",
       "       0.72992701, 0.72677496, 0.72713999, 0.72348969, 0.71929184])"
      ]
     },
     "execution_count": 163,
     "metadata": {},
     "output_type": "execute_result"
    }
   ],
   "source": [
    "accuracies_log_reg"
   ]
  },
  {
   "cell_type": "code",
   "execution_count": 164,
   "id": "0cd51f49",
   "metadata": {},
   "outputs": [
    {
     "data": {
      "text/plain": [
       "0.7248156331473989"
      ]
     },
     "execution_count": 164,
     "metadata": {},
     "output_type": "execute_result"
    }
   ],
   "source": [
    "accuracies_log_reg.mean()"
   ]
  },
  {
   "cell_type": "markdown",
   "id": "6b75781a",
   "metadata": {},
   "source": [
    "# 16. kNN-SS"
   ]
  },
  {
   "cell_type": "code",
   "execution_count": 165,
   "id": "ff1470f7",
   "metadata": {},
   "outputs": [],
   "source": [
    "#set number for k in the range 3 to 14.Finding the accuracy score for different values for k\n",
    "metric_k=[]\n",
    "neighbors=range(3,15)\n",
    "\n",
    "for k in neighbors:\n",
    "    classifier=KNeighborsClassifier(n_neighbors=k)\n",
    "    classifier=classifier.fit(X_train,Y_train)\n",
    "    y_pred_kNN=classifier.predict(X_test)\n",
    "    acc=accuracy_score(Y_test,y_pred_kNN)\n",
    "    metric_k.append(acc)"
   ]
  },
  {
   "cell_type": "code",
   "execution_count": 166,
   "id": "c3c37b57",
   "metadata": {},
   "outputs": [
    {
     "data": {
      "text/plain": [
       "[0.6741367983064457,\n",
       " 0.6782246879334258,\n",
       " 0.6925323016278561,\n",
       " 0.6966201912548361,\n",
       " 0.7038469961311045,\n",
       " 0.7077888896999781,\n",
       " 0.7085188699905103,\n",
       " 0.7108548069202132,\n",
       " 0.7124607635593839,\n",
       " 0.715891670924885,\n",
       " 0.7171326374187897,\n",
       " 0.717935615738375]"
      ]
     },
     "execution_count": 166,
     "metadata": {},
     "output_type": "execute_result"
    }
   ],
   "source": [
    "#print the list\n",
    "metric_k"
   ]
  },
  {
   "cell_type": "code",
   "execution_count": 167,
   "id": "ae425f85",
   "metadata": {},
   "outputs": [
    {
     "data": {
      "image/png": "[encoded data removed]",
      "text/plain": [
       "<Figure size 432x288 with 1 Axes>"
      ]
     },
     "metadata": {
      "needs_background": "light"
     },
     "output_type": "display_data"
    }
   ],
   "source": [
    "#Another method to find the accurate values.Plot graph\n",
    "plt.plot(neighbors,metric_k,'o-')\n",
    "plt.xlabel('k values')\n",
    "plt.ylabel('Accuracies')\n",
    "plt.grid()\n",
    "plt.show()"
   ]
  },
  {
   "cell_type": "code",
   "execution_count": 168,
   "id": "d17acefd",
   "metadata": {},
   "outputs": [],
   "source": [
    "#Same steps above with k=14\n",
    "classifier=KNeighborsClassifier(n_neighbors=14)\n",
    "classifier=classifier.fit(X_train,Y_train)\n",
    "y_pred_kNN=classifier.predict(X_test)"
   ]
  },
  {
   "cell_type": "code",
   "execution_count": 169,
   "id": "faa8abd8",
   "metadata": {},
   "outputs": [],
   "source": [
    "KNN_score=classifier.score(X_test,Y_test)"
   ]
  },
  {
   "cell_type": "code",
   "execution_count": 170,
   "id": "c0ebde9c",
   "metadata": {},
   "outputs": [
    {
     "data": {
      "text/plain": [
       "array([[5422, 1497],\n",
       "       [2367, 4413]], dtype=int64)"
      ]
     },
     "execution_count": 170,
     "metadata": {},
     "output_type": "execute_result"
    }
   ],
   "source": [
    "confusion_matrix(Y_test,y_pred_kNN)"
   ]
  },
  {
   "cell_type": "code",
   "execution_count": 171,
   "id": "bc752272",
   "metadata": {},
   "outputs": [
    {
     "data": {
      "text/plain": [
       "0.717935615738375"
      ]
     },
     "execution_count": 171,
     "metadata": {},
     "output_type": "execute_result"
    }
   ],
   "source": [
    "KNN_score"
   ]
  },
  {
   "cell_type": "code",
   "execution_count": 172,
   "id": "abd332ad",
   "metadata": {},
   "outputs": [
    {
     "name": "stdout",
     "output_type": "stream",
     "text": [
      "The precision score is\t : 0.7467005076142132\n",
      "The accuracy score is\t : 0.717935615738375\n",
      "The recall score is\t : 0.6508849557522124\n"
     ]
    }
   ],
   "source": [
    "print(\"The precision score is\\t :\",precision_score(Y_test,y_pred_kNN))\n",
    "print(\"The accuracy score is\\t :\",accuracy_score(Y_test,y_pred_kNN))\n",
    "print(\"The recall score is\\t :\",recall_score(Y_test,y_pred_kNN))"
   ]
  },
  {
   "cell_type": "markdown",
   "id": "9b15caec",
   "metadata": {},
   "source": [
    "# Stratified Kfold validation"
   ]
  },
  {
   "cell_type": "code",
   "execution_count": 173,
   "id": "0f64e09a",
   "metadata": {},
   "outputs": [],
   "source": [
    "#Applying k-Fold Cross Validation\n",
    "from sklearn.model_selection import cross_val_score\n",
    "skf = StratifiedKFold(n_splits=10, shuffle=True, random_state=42)\n",
    "accuracies_classifier = cross_val_score(estimator=classifier, X=X_train, y=Y_train, cv=skf)"
   ]
  },
  {
   "cell_type": "code",
   "execution_count": 174,
   "id": "e8e160af",
   "metadata": {},
   "outputs": [
    {
     "data": {
      "text/plain": [
       "array([0.72208029, 0.71532847, 0.72080292, 0.71551095, 0.72007299,\n",
       "       0.72627737, 0.72531484, 0.71691915, 0.72111699, 0.72020442])"
      ]
     },
     "execution_count": 174,
     "metadata": {},
     "output_type": "execute_result"
    }
   ],
   "source": [
    "accuracies_classifier"
   ]
  },
  {
   "cell_type": "code",
   "execution_count": 175,
   "id": "49540ce0",
   "metadata": {},
   "outputs": [
    {
     "data": {
      "text/plain": [
       "0.7203628386020678"
      ]
     },
     "execution_count": 175,
     "metadata": {},
     "output_type": "execute_result"
    }
   ],
   "source": [
    "accuracies_classifier.mean()"
   ]
  },
  {
   "cell_type": "markdown",
   "id": "a73cf12d",
   "metadata": {},
   "source": [
    "# 17. SVM-Linear_SS"
   ]
  },
  {
   "cell_type": "code",
   "execution_count": 176,
   "id": "7b0080bd",
   "metadata": {},
   "outputs": [],
   "source": [
    "#with linear keranal\n",
    "#svm_clf=SVC(kernel=\"linear\")\n",
    "#svm_clf=svm_clf.fit(X_train,Y_train)\n",
    "#y_pred_svm=svm_clf.predict(X_test)"
   ]
  },
  {
   "cell_type": "code",
   "execution_count": 177,
   "id": "6d69cdaf",
   "metadata": {},
   "outputs": [],
   "source": [
    "#confusion_matrix(Y_test,y_pred_svm)"
   ]
  },
  {
   "cell_type": "code",
   "execution_count": 178,
   "id": "fba2d8ca",
   "metadata": {},
   "outputs": [],
   "source": [
    "#print(\"The precision score is\\t :\",precision_score(Y_test,y_pred_svm))\n",
    "#print(\"The accuracy score is\\t :\",accuracy_score(Y_test,y_pred_svm))\n",
    "#print(\"The recall score is\\t :\",recall_score(Y_test,y_pred_svm))"
   ]
  },
  {
   "cell_type": "code",
   "execution_count": 179,
   "id": "96fa3d7f",
   "metadata": {},
   "outputs": [],
   "source": [
    "# SVM -RBF-SS"
   ]
  },
  {
   "cell_type": "code",
   "execution_count": 180,
   "id": "98abcd68",
   "metadata": {},
   "outputs": [],
   "source": [
    "#with Radial Basis Function (RBF)\n",
    "#svm_clf2=SVC(kernel=\"rbf\")\n",
    "#svm_clf2=svm_clf2.fit(X_train,Y_train)\n",
    "#y_pred_svm2=svm_clf2.predict(X_test)"
   ]
  },
  {
   "cell_type": "code",
   "execution_count": 181,
   "id": "d393299d",
   "metadata": {},
   "outputs": [],
   "source": [
    "#print confusion matrix\n",
    "#confusion_matrix(Y_test,y_pred_svm2)"
   ]
  },
  {
   "cell_type": "code",
   "execution_count": 182,
   "id": "bcdfd1b8",
   "metadata": {},
   "outputs": [],
   "source": [
    "#print(\"The precision score is\\t :\",precision_score(Y_test,y_pred_svm2))\n",
    "#print(\"The accuracy score is\\t :\",accuracy_score(Y_test,y_pred_svm2))\n",
    "#print(\"The recall score is\\t :\",recall_score(Y_test,y_pred_svm2))"
   ]
  },
  {
   "cell_type": "markdown",
   "id": "ed35f837",
   "metadata": {},
   "source": [
    "# 18. Decision Tree-SS"
   ]
  },
  {
   "cell_type": "code",
   "execution_count": 183,
   "id": "e70d0bf0",
   "metadata": {},
   "outputs": [],
   "source": [
    "dt_clf=DecisionTreeClassifier()\n",
    "dt_clf=dt_clf.fit(X_train,Y_train)\n",
    "y_pred_dt=dt_clf.predict(X_test)"
   ]
  },
  {
   "cell_type": "code",
   "execution_count": 184,
   "id": "4e865e24",
   "metadata": {},
   "outputs": [],
   "source": [
    "Dec_score=dt_clf.score(X_test,Y_test)"
   ]
  },
  {
   "cell_type": "code",
   "execution_count": 185,
   "id": "6e83fef3",
   "metadata": {},
   "outputs": [
    {
     "data": {
      "text/plain": [
       "0.635301846850135"
      ]
     },
     "execution_count": 185,
     "metadata": {},
     "output_type": "execute_result"
    }
   ],
   "source": [
    "Dec_score"
   ]
  },
  {
   "cell_type": "code",
   "execution_count": 186,
   "id": "f21d2b39",
   "metadata": {},
   "outputs": [
    {
     "data": {
      "text/plain": [
       "array([[4562, 2357],\n",
       "       [2639, 4141]], dtype=int64)"
      ]
     },
     "execution_count": 186,
     "metadata": {},
     "output_type": "execute_result"
    }
   ],
   "source": [
    "confusion_matrix(Y_test,y_pred_dt)"
   ]
  },
  {
   "cell_type": "code",
   "execution_count": 187,
   "id": "bbcb47a3",
   "metadata": {},
   "outputs": [
    {
     "name": "stdout",
     "output_type": "stream",
     "text": [
      "The precision score is\t : 0.6372730070791013\n",
      "The accuracy score is\t : 0.635301846850135\n",
      "The recall score is\t : 0.6107669616519174\n"
     ]
    }
   ],
   "source": [
    "print(\"The precision score is\\t :\",precision_score(Y_test,y_pred_dt))\n",
    "print(\"The accuracy score is\\t :\",accuracy_score(Y_test,y_pred_dt))\n",
    "print(\"The recall score is\\t :\",recall_score(Y_test,y_pred_dt))"
   ]
  },
  {
   "cell_type": "markdown",
   "id": "4fb87791",
   "metadata": {},
   "source": [
    "# Stratified Kfold validation"
   ]
  },
  {
   "cell_type": "code",
   "execution_count": 188,
   "id": "984c5aac",
   "metadata": {},
   "outputs": [],
   "source": [
    "#Applying k-Fold Cross Validation\n",
    "from sklearn.model_selection import cross_val_score\n",
    "skf = StratifiedKFold(n_splits=10, shuffle=True, random_state=42)\n",
    "accuracies_dt_clf = cross_val_score(estimator=dt_clf, X=X_train, y=Y_train, cv=skf)"
   ]
  },
  {
   "cell_type": "code",
   "execution_count": 189,
   "id": "11c8ad11",
   "metadata": {},
   "outputs": [
    {
     "data": {
      "text/plain": [
       "array([0.6370438 , 0.62791971, 0.62828467, 0.6350365 , 0.6379562 ,\n",
       "       0.64215328, 0.63953276, 0.63296222, 0.63716007, 0.63478737])"
      ]
     },
     "execution_count": 189,
     "metadata": {},
     "output_type": "execute_result"
    }
   ],
   "source": [
    "accuracies_dt_clf"
   ]
  },
  {
   "cell_type": "code",
   "execution_count": 190,
   "id": "bc283b1b",
   "metadata": {},
   "outputs": [
    {
     "data": {
      "text/plain": [
       "0.6352836577083304"
      ]
     },
     "execution_count": 190,
     "metadata": {},
     "output_type": "execute_result"
    }
   ],
   "source": [
    "accuracies_dt_clf.mean()"
   ]
  },
  {
   "cell_type": "markdown",
   "id": "7c2f5dbd",
   "metadata": {},
   "source": [
    "# 19. Random forest-SS"
   ]
  },
  {
   "cell_type": "code",
   "execution_count": 191,
   "id": "1cedcc64",
   "metadata": {},
   "outputs": [],
   "source": [
    "rf_clf=RandomForestClassifier()\n",
    "rf_clf=rf_clf.fit(X_train,Y_train)\n",
    "y_pred_rf=rf_clf.predict(X_test)"
   ]
  },
  {
   "cell_type": "code",
   "execution_count": 192,
   "id": "aa86e92a",
   "metadata": {},
   "outputs": [],
   "source": [
    "Rf_score=rf_clf.score(X_test,Y_test)"
   ]
  },
  {
   "cell_type": "code",
   "execution_count": 193,
   "id": "f17d38df",
   "metadata": {},
   "outputs": [
    {
     "data": {
      "text/plain": [
       "0.6976421636615812"
      ]
     },
     "execution_count": 193,
     "metadata": {},
     "output_type": "execute_result"
    }
   ],
   "source": [
    "Rf_score"
   ]
  },
  {
   "cell_type": "code",
   "execution_count": 194,
   "id": "59b7b098",
   "metadata": {},
   "outputs": [
    {
     "data": {
      "text/plain": [
       "array([[4913, 2006],\n",
       "       [2136, 4644]], dtype=int64)"
      ]
     },
     "execution_count": 194,
     "metadata": {},
     "output_type": "execute_result"
    }
   ],
   "source": [
    "confusion_matrix(Y_test,y_pred_rf)"
   ]
  },
  {
   "cell_type": "code",
   "execution_count": 195,
   "id": "06e57c73",
   "metadata": {},
   "outputs": [
    {
     "name": "stdout",
     "output_type": "stream",
     "text": [
      "The precision score is\t : 0.6983458646616542\n",
      "The accuracy score is\t : 0.6976421636615812\n",
      "The recall score is\t : 0.6849557522123894\n"
     ]
    }
   ],
   "source": [
    "print(\"The precision score is\\t :\",precision_score(Y_test,y_pred_rf))\n",
    "print(\"The accuracy score is\\t :\",accuracy_score(Y_test,y_pred_rf))\n",
    "print(\"The recall score is\\t :\",recall_score(Y_test,y_pred_rf))"
   ]
  },
  {
   "cell_type": "markdown",
   "id": "8f11f635",
   "metadata": {},
   "source": [
    "# Stratified Kfold"
   ]
  },
  {
   "cell_type": "code",
   "execution_count": 196,
   "id": "ff3add7b",
   "metadata": {},
   "outputs": [],
   "source": [
    "##Applying k-Fold Cross Validation\n",
    "from sklearn.model_selection import cross_val_score\n",
    "skf = StratifiedKFold(n_splits=10, shuffle=True, random_state=42)\n",
    "accuracies_rf_clf = cross_val_score(estimator=rf_clf, X=X_train, y=Y_train, cv=skf)"
   ]
  },
  {
   "cell_type": "code",
   "execution_count": 197,
   "id": "56b40d89",
   "metadata": {},
   "outputs": [
    {
     "data": {
      "text/plain": [
       "array([0.69470803, 0.70328467, 0.70072993, 0.69872263, 0.70237226,\n",
       "       0.70766423, 0.70615076, 0.70943603, 0.70980106, 0.70012776])"
      ]
     },
     "execution_count": 197,
     "metadata": {},
     "output_type": "execute_result"
    }
   ],
   "source": [
    "accuracies_rf_clf"
   ]
  },
  {
   "cell_type": "code",
   "execution_count": 198,
   "id": "e46e7099",
   "metadata": {},
   "outputs": [
    {
     "data": {
      "text/plain": [
       "0.7032997356862233"
      ]
     },
     "execution_count": 198,
     "metadata": {},
     "output_type": "execute_result"
    }
   ],
   "source": [
    "accuracies_rf_clf.mean()"
   ]
  },
  {
   "cell_type": "code",
   "execution_count": null,
   "id": "6f67c99c",
   "metadata": {},
   "outputs": [],
   "source": []
  },
  {
   "cell_type": "code",
   "execution_count": null,
   "id": "22f92a8e",
   "metadata": {},
   "outputs": [],
   "source": []
  },
  {
   "cell_type": "markdown",
   "id": "d925879e",
   "metadata": {},
   "source": [
    "# 20. XG Boost Classifier- SS"
   ]
  },
  {
   "cell_type": "code",
   "execution_count": 199,
   "id": "262fa543",
   "metadata": {},
   "outputs": [],
   "source": [
    "from xgboost import XGBClassifier\n",
    "xgb = XGBClassifier(learning_rate=0.02, n_estimators=600)\n",
    "xgb_m=xgb.fit(X_train, Y_train)\n",
    "y_pred_xgb = xgb_m.predict(X_test)\n"
   ]
  },
  {
   "cell_type": "code",
   "execution_count": 200,
   "id": "80758bc8",
   "metadata": {},
   "outputs": [
    {
     "data": {
      "text/plain": [
       "0.7305642747645814"
      ]
     },
     "execution_count": 200,
     "metadata": {},
     "output_type": "execute_result"
    }
   ],
   "source": [
    "XG_score=xgb_m.score(X_test,Y_test)\n",
    "XG_score"
   ]
  },
  {
   "cell_type": "code",
   "execution_count": 201,
   "id": "86d93459",
   "metadata": {},
   "outputs": [
    {
     "data": {
      "text/plain": [
       "array([[5389, 1530],\n",
       "       [2161, 4619]], dtype=int64)"
      ]
     },
     "execution_count": 201,
     "metadata": {},
     "output_type": "execute_result"
    }
   ],
   "source": [
    "confusion_matrix(Y_test,y_pred_xgb)"
   ]
  },
  {
   "cell_type": "code",
   "execution_count": 202,
   "id": "e5f92d16",
   "metadata": {},
   "outputs": [
    {
     "name": "stdout",
     "output_type": "stream",
     "text": [
      "The precision score is\t : 0.7511790535046349\n",
      "The accuracy score is\t : 0.7305642747645814\n",
      "The recall score is\t : 0.681268436578171\n"
     ]
    }
   ],
   "source": [
    "print(\"The precision score is\\t :\",precision_score(Y_test,y_pred_xgb))\n",
    "print(\"The accuracy score is\\t :\",accuracy_score(Y_test,y_pred_xgb))\n",
    "print(\"The recall score is\\t :\",recall_score(Y_test,y_pred_xgb))"
   ]
  },
  {
   "cell_type": "markdown",
   "id": "8d5a85b0",
   "metadata": {},
   "source": [
    "# Stratified Kfold"
   ]
  },
  {
   "cell_type": "code",
   "execution_count": 203,
   "id": "64202b85",
   "metadata": {},
   "outputs": [],
   "source": [
    "##Applying k-Fold Cross Validation\n",
    "from sklearn.model_selection import cross_val_score\n",
    "skf = StratifiedKFold(n_splits=10, shuffle=True, random_state=42)\n",
    "accuracies_xgb = cross_val_score(estimator=xgb_m, X=X_train, y=Y_train, cv=skf)"
   ]
  },
  {
   "cell_type": "code",
   "execution_count": 204,
   "id": "6ac16179",
   "metadata": {},
   "outputs": [
    {
     "data": {
      "text/plain": [
       "array([0.7350365 , 0.74051095, 0.73521898, 0.72755474, 0.73375912,\n",
       "       0.73832117, 0.74082862, 0.73644826, 0.7369958 , 0.72805256])"
      ]
     },
     "execution_count": 204,
     "metadata": {},
     "output_type": "execute_result"
    }
   ],
   "source": [
    "accuracies_xgb"
   ]
  },
  {
   "cell_type": "code",
   "execution_count": 205,
   "id": "47dad640",
   "metadata": {},
   "outputs": [
    {
     "data": {
      "text/plain": [
       "0.7352726701686466"
      ]
     },
     "execution_count": 205,
     "metadata": {},
     "output_type": "execute_result"
    }
   ],
   "source": [
    "accuracies_xgb.mean()"
   ]
  },
  {
   "cell_type": "markdown",
   "id": "629141a9",
   "metadata": {},
   "source": [
    "# 21. Naive bayes-SS"
   ]
  },
  {
   "cell_type": "code",
   "execution_count": 206,
   "id": "65aee43b",
   "metadata": {},
   "outputs": [],
   "source": [
    "from sklearn.naive_bayes import GaussianNB \n",
    "nb = GaussianNB() \n",
    "nb_m=nb.fit(X_train, Y_train)\n",
    "y_pred_nb = nb_m.predict(X_test)"
   ]
  },
  {
   "cell_type": "code",
   "execution_count": 207,
   "id": "8e717587",
   "metadata": {},
   "outputs": [
    {
     "data": {
      "text/plain": [
       "0.7059639389736477"
      ]
     },
     "execution_count": 207,
     "metadata": {},
     "output_type": "execute_result"
    }
   ],
   "source": [
    "NB_score=nb_m.score(X_test,Y_test)\n",
    "NB_score"
   ]
  },
  {
   "cell_type": "code",
   "execution_count": 208,
   "id": "a8791462",
   "metadata": {},
   "outputs": [
    {
     "data": {
      "text/plain": [
       "array([[5467, 1452],\n",
       "       [2576, 4204]], dtype=int64)"
      ]
     },
     "execution_count": 208,
     "metadata": {},
     "output_type": "execute_result"
    }
   ],
   "source": [
    "confusion_matrix(Y_test,y_pred_nb)"
   ]
  },
  {
   "cell_type": "code",
   "execution_count": 209,
   "id": "3edd367d",
   "metadata": {},
   "outputs": [
    {
     "name": "stdout",
     "output_type": "stream",
     "text": [
      "The precision score is\t : 0.7432814710042432\n",
      "The accuracy score is\t : 0.7059639389736477\n",
      "The recall score is\t : 0.6200589970501474\n"
     ]
    }
   ],
   "source": [
    "print(\"The precision score is\\t :\",precision_score(Y_test,y_pred_nb))\n",
    "print(\"The accuracy score is\\t :\",accuracy_score(Y_test,y_pred_nb))\n",
    "print(\"The recall score is\\t :\",recall_score(Y_test,y_pred_nb))"
   ]
  },
  {
   "cell_type": "markdown",
   "id": "ba815b41",
   "metadata": {},
   "source": [
    "# Stratified Kfold validation of Naive Bayes"
   ]
  },
  {
   "cell_type": "code",
   "execution_count": 210,
   "id": "cf65f1bd",
   "metadata": {},
   "outputs": [],
   "source": [
    "##Applying k-Fold Cross Validation\n",
    "from sklearn.model_selection import cross_val_score\n",
    "skf = StratifiedKFold(n_splits=10, shuffle=True, random_state=42)\n",
    "accuracies_nb = cross_val_score(estimator=nb_m, X=X_train, y=Y_train, cv=skf)"
   ]
  },
  {
   "cell_type": "code",
   "execution_count": 211,
   "id": "64908c1e",
   "metadata": {},
   "outputs": [
    {
     "data": {
      "text/plain": [
       "array([0.71131387, 0.71478102, 0.71806569, 0.70656934, 0.71277372,\n",
       "       0.70565693, 0.72385472, 0.71326884, 0.71326884, 0.71691915])"
      ]
     },
     "execution_count": 211,
     "metadata": {},
     "output_type": "execute_result"
    }
   ],
   "source": [
    "accuracies_nb"
   ]
  },
  {
   "cell_type": "code",
   "execution_count": 212,
   "id": "c37b09f6",
   "metadata": {},
   "outputs": [
    {
     "data": {
      "text/plain": [
       "0.7136472137144747"
      ]
     },
     "execution_count": 212,
     "metadata": {},
     "output_type": "execute_result"
    }
   ],
   "source": [
    "accuracies_nb.mean()"
   ]
  },
  {
   "cell_type": "markdown",
   "id": "1f720f96",
   "metadata": {},
   "source": [
    "# Normalization"
   ]
  },
  {
   "cell_type": "code",
   "execution_count": 213,
   "id": "b2c21af0",
   "metadata": {},
   "outputs": [],
   "source": [
    "data_num_normal=data_num"
   ]
  },
  {
   "cell_type": "code",
   "execution_count": 214,
   "id": "bcfe1679",
   "metadata": {},
   "outputs": [
    {
     "data": {
      "text/html": [
       "<div>\n",
       "<style scoped>\n",
       "    .dataframe tbody tr th:only-of-type {\n",
       "        vertical-align: middle;\n",
       "    }\n",
       "\n",
       "    .dataframe tbody tr th {\n",
       "        vertical-align: top;\n",
       "    }\n",
       "\n",
       "    .dataframe thead th {\n",
       "        text-align: right;\n",
       "    }\n",
       "</style>\n",
       "<table border=\"1\" class=\"dataframe\">\n",
       "  <thead>\n",
       "    <tr style=\"text-align: right;\">\n",
       "      <th></th>\n",
       "      <th>age</th>\n",
       "      <th>height</th>\n",
       "      <th>weight</th>\n",
       "      <th>systolic</th>\n",
       "      <th>diastolic</th>\n",
       "    </tr>\n",
       "  </thead>\n",
       "  <tbody>\n",
       "    <tr>\n",
       "      <th>0</th>\n",
       "      <td>50.0</td>\n",
       "      <td>168.0</td>\n",
       "      <td>62.0</td>\n",
       "      <td>110</td>\n",
       "      <td>80</td>\n",
       "    </tr>\n",
       "    <tr>\n",
       "      <th>1</th>\n",
       "      <td>55.0</td>\n",
       "      <td>156.0</td>\n",
       "      <td>85.0</td>\n",
       "      <td>140</td>\n",
       "      <td>90</td>\n",
       "    </tr>\n",
       "    <tr>\n",
       "      <th>2</th>\n",
       "      <td>52.0</td>\n",
       "      <td>165.0</td>\n",
       "      <td>64.0</td>\n",
       "      <td>130</td>\n",
       "      <td>70</td>\n",
       "    </tr>\n",
       "    <tr>\n",
       "      <th>3</th>\n",
       "      <td>48.0</td>\n",
       "      <td>169.0</td>\n",
       "      <td>82.0</td>\n",
       "      <td>150</td>\n",
       "      <td>100</td>\n",
       "    </tr>\n",
       "    <tr>\n",
       "      <th>4</th>\n",
       "      <td>48.0</td>\n",
       "      <td>156.0</td>\n",
       "      <td>56.0</td>\n",
       "      <td>100</td>\n",
       "      <td>60</td>\n",
       "    </tr>\n",
       "    <tr>\n",
       "      <th>...</th>\n",
       "      <td>...</td>\n",
       "      <td>...</td>\n",
       "      <td>...</td>\n",
       "      <td>...</td>\n",
       "      <td>...</td>\n",
       "    </tr>\n",
       "    <tr>\n",
       "      <th>68490</th>\n",
       "      <td>53.0</td>\n",
       "      <td>168.0</td>\n",
       "      <td>76.0</td>\n",
       "      <td>120</td>\n",
       "      <td>80</td>\n",
       "    </tr>\n",
       "    <tr>\n",
       "      <th>68491</th>\n",
       "      <td>62.0</td>\n",
       "      <td>158.0</td>\n",
       "      <td>126.0</td>\n",
       "      <td>140</td>\n",
       "      <td>90</td>\n",
       "    </tr>\n",
       "    <tr>\n",
       "      <th>68492</th>\n",
       "      <td>52.0</td>\n",
       "      <td>183.0</td>\n",
       "      <td>105.0</td>\n",
       "      <td>180</td>\n",
       "      <td>90</td>\n",
       "    </tr>\n",
       "    <tr>\n",
       "      <th>68493</th>\n",
       "      <td>61.0</td>\n",
       "      <td>163.0</td>\n",
       "      <td>72.0</td>\n",
       "      <td>135</td>\n",
       "      <td>80</td>\n",
       "    </tr>\n",
       "    <tr>\n",
       "      <th>68494</th>\n",
       "      <td>56.0</td>\n",
       "      <td>170.0</td>\n",
       "      <td>72.0</td>\n",
       "      <td>120</td>\n",
       "      <td>80</td>\n",
       "    </tr>\n",
       "  </tbody>\n",
       "</table>\n",
       "<p>68495 rows × 5 columns</p>\n",
       "</div>"
      ],
      "text/plain": [
       "        age  height  weight  systolic  diastolic\n",
       "0      50.0   168.0    62.0       110         80\n",
       "1      55.0   156.0    85.0       140         90\n",
       "2      52.0   165.0    64.0       130         70\n",
       "3      48.0   169.0    82.0       150        100\n",
       "4      48.0   156.0    56.0       100         60\n",
       "...     ...     ...     ...       ...        ...\n",
       "68490  53.0   168.0    76.0       120         80\n",
       "68491  62.0   158.0   126.0       140         90\n",
       "68492  52.0   183.0   105.0       180         90\n",
       "68493  61.0   163.0    72.0       135         80\n",
       "68494  56.0   170.0    72.0       120         80\n",
       "\n",
       "[68495 rows x 5 columns]"
      ]
     },
     "execution_count": 214,
     "metadata": {},
     "output_type": "execute_result"
    }
   ],
   "source": [
    "data_num_normal"
   ]
  },
  {
   "cell_type": "code",
   "execution_count": 215,
   "id": "dea57750",
   "metadata": {},
   "outputs": [],
   "source": [
    "data_num_normal=preprocessing.normalize(data_num_normal)"
   ]
  },
  {
   "cell_type": "code",
   "execution_count": 216,
   "id": "a11e0889",
   "metadata": {},
   "outputs": [
    {
     "data": {
      "text/plain": [
       "numpy.ndarray"
      ]
     },
     "execution_count": 216,
     "metadata": {},
     "output_type": "execute_result"
    }
   ],
   "source": [
    "type(data_num_normal)"
   ]
  },
  {
   "cell_type": "code",
   "execution_count": 217,
   "id": "3e408a01",
   "metadata": {},
   "outputs": [],
   "source": [
    "data_num_normal=pd.DataFrame(data_num_normal)"
   ]
  },
  {
   "cell_type": "code",
   "execution_count": 218,
   "id": "4e5bde6b",
   "metadata": {},
   "outputs": [
    {
     "data": {
      "text/html": [
       "<div>\n",
       "<style scoped>\n",
       "    .dataframe tbody tr th:only-of-type {\n",
       "        vertical-align: middle;\n",
       "    }\n",
       "\n",
       "    .dataframe tbody tr th {\n",
       "        vertical-align: top;\n",
       "    }\n",
       "\n",
       "    .dataframe thead th {\n",
       "        text-align: right;\n",
       "    }\n",
       "</style>\n",
       "<table border=\"1\" class=\"dataframe\">\n",
       "  <thead>\n",
       "    <tr style=\"text-align: right;\">\n",
       "      <th></th>\n",
       "      <th>count</th>\n",
       "      <th>mean</th>\n",
       "      <th>std</th>\n",
       "      <th>min</th>\n",
       "      <th>25%</th>\n",
       "      <th>50%</th>\n",
       "      <th>75%</th>\n",
       "      <th>max</th>\n",
       "    </tr>\n",
       "  </thead>\n",
       "  <tbody>\n",
       "    <tr>\n",
       "      <th>age</th>\n",
       "      <td>68495.0</td>\n",
       "      <td>0.221015</td>\n",
       "      <td>0.028262</td>\n",
       "      <td>0.126721</td>\n",
       "      <td>0.200764</td>\n",
       "      <td>0.222678</td>\n",
       "      <td>0.241906</td>\n",
       "      <td>0.315654</td>\n",
       "    </tr>\n",
       "    <tr>\n",
       "      <th>height</th>\n",
       "      <td>68495.0</td>\n",
       "      <td>0.681968</td>\n",
       "      <td>0.039918</td>\n",
       "      <td>0.425461</td>\n",
       "      <td>0.656610</td>\n",
       "      <td>0.688040</td>\n",
       "      <td>0.708739</td>\n",
       "      <td>0.839322</td>\n",
       "    </tr>\n",
       "    <tr>\n",
       "      <th>weight</th>\n",
       "      <td>68495.0</td>\n",
       "      <td>0.305608</td>\n",
       "      <td>0.047963</td>\n",
       "      <td>0.158713</td>\n",
       "      <td>0.272991</td>\n",
       "      <td>0.299266</td>\n",
       "      <td>0.333109</td>\n",
       "      <td>0.637214</td>\n",
       "    </tr>\n",
       "    <tr>\n",
       "      <th>ap_hi</th>\n",
       "      <td>68495.0</td>\n",
       "      <td>0.522041</td>\n",
       "      <td>0.043232</td>\n",
       "      <td>0.294667</td>\n",
       "      <td>0.495789</td>\n",
       "      <td>0.515366</td>\n",
       "      <td>0.547234</td>\n",
       "      <td>0.713882</td>\n",
       "    </tr>\n",
       "    <tr>\n",
       "      <th>ap_lo</th>\n",
       "      <td>68495.0</td>\n",
       "      <td>0.335890</td>\n",
       "      <td>0.027667</td>\n",
       "      <td>0.146944</td>\n",
       "      <td>0.321053</td>\n",
       "      <td>0.337205</td>\n",
       "      <td>0.351446</td>\n",
       "      <td>0.558732</td>\n",
       "    </tr>\n",
       "  </tbody>\n",
       "</table>\n",
       "</div>"
      ],
      "text/plain": [
       "          count      mean       std       min       25%       50%       75%  \\\n",
       "age     68495.0  0.221015  0.028262  0.126721  0.200764  0.222678  0.241906   \n",
       "height  68495.0  0.681968  0.039918  0.425461  0.656610  0.688040  0.708739   \n",
       "weight  68495.0  0.305608  0.047963  0.158713  0.272991  0.299266  0.333109   \n",
       "ap_hi   68495.0  0.522041  0.043232  0.294667  0.495789  0.515366  0.547234   \n",
       "ap_lo   68495.0  0.335890  0.027667  0.146944  0.321053  0.337205  0.351446   \n",
       "\n",
       "             max  \n",
       "age     0.315654  \n",
       "height  0.839322  \n",
       "weight  0.637214  \n",
       "ap_hi   0.713882  \n",
       "ap_lo   0.558732  "
      ]
     },
     "execution_count": 218,
     "metadata": {},
     "output_type": "execute_result"
    }
   ],
   "source": [
    "data_num_normal.columns=['age', 'height', 'weight', 'ap_hi', 'ap_lo']\n",
    "data_num_normal.describe().T"
   ]
  },
  {
   "cell_type": "code",
   "execution_count": 219,
   "id": "cff05f87",
   "metadata": {},
   "outputs": [
    {
     "data": {
      "text/html": [
       "<div>\n",
       "<style scoped>\n",
       "    .dataframe tbody tr th:only-of-type {\n",
       "        vertical-align: middle;\n",
       "    }\n",
       "\n",
       "    .dataframe tbody tr th {\n",
       "        vertical-align: top;\n",
       "    }\n",
       "\n",
       "    .dataframe thead th {\n",
       "        text-align: right;\n",
       "    }\n",
       "</style>\n",
       "<table border=\"1\" class=\"dataframe\">\n",
       "  <thead>\n",
       "    <tr style=\"text-align: right;\">\n",
       "      <th></th>\n",
       "      <th>age</th>\n",
       "      <th>height</th>\n",
       "      <th>weight</th>\n",
       "      <th>ap_hi</th>\n",
       "      <th>ap_lo</th>\n",
       "      <th>gender</th>\n",
       "      <th>cholesterol</th>\n",
       "      <th>gluc</th>\n",
       "      <th>smoke</th>\n",
       "      <th>alco</th>\n",
       "      <th>active</th>\n",
       "      <th>cardio</th>\n",
       "    </tr>\n",
       "  </thead>\n",
       "  <tbody>\n",
       "    <tr>\n",
       "      <th>0</th>\n",
       "      <td>0.217047</td>\n",
       "      <td>0.729278</td>\n",
       "      <td>0.269138</td>\n",
       "      <td>0.477503</td>\n",
       "      <td>0.347275</td>\n",
       "      <td>1</td>\n",
       "      <td>1</td>\n",
       "      <td>1</td>\n",
       "      <td>0</td>\n",
       "      <td>0</td>\n",
       "      <td>1</td>\n",
       "      <td>0</td>\n",
       "    </tr>\n",
       "    <tr>\n",
       "      <th>1</th>\n",
       "      <td>0.220378</td>\n",
       "      <td>0.625071</td>\n",
       "      <td>0.340584</td>\n",
       "      <td>0.560961</td>\n",
       "      <td>0.360618</td>\n",
       "      <td>0</td>\n",
       "      <td>2</td>\n",
       "      <td>1</td>\n",
       "      <td>0</td>\n",
       "      <td>0</td>\n",
       "      <td>1</td>\n",
       "      <td>1</td>\n",
       "    </tr>\n",
       "    <tr>\n",
       "      <th>2</th>\n",
       "      <td>0.220084</td>\n",
       "      <td>0.698344</td>\n",
       "      <td>0.270873</td>\n",
       "      <td>0.550211</td>\n",
       "      <td>0.296267</td>\n",
       "      <td>0</td>\n",
       "      <td>2</td>\n",
       "      <td>1</td>\n",
       "      <td>0</td>\n",
       "      <td>0</td>\n",
       "      <td>0</td>\n",
       "      <td>1</td>\n",
       "    </tr>\n",
       "    <tr>\n",
       "      <th>3</th>\n",
       "      <td>0.181308</td>\n",
       "      <td>0.638354</td>\n",
       "      <td>0.309734</td>\n",
       "      <td>0.566587</td>\n",
       "      <td>0.377724</td>\n",
       "      <td>1</td>\n",
       "      <td>1</td>\n",
       "      <td>1</td>\n",
       "      <td>0</td>\n",
       "      <td>0</td>\n",
       "      <td>1</td>\n",
       "      <td>1</td>\n",
       "    </tr>\n",
       "    <tr>\n",
       "      <th>4</th>\n",
       "      <td>0.230471</td>\n",
       "      <td>0.749031</td>\n",
       "      <td>0.268883</td>\n",
       "      <td>0.480148</td>\n",
       "      <td>0.288089</td>\n",
       "      <td>0</td>\n",
       "      <td>1</td>\n",
       "      <td>1</td>\n",
       "      <td>0</td>\n",
       "      <td>0</td>\n",
       "      <td>0</td>\n",
       "      <td>0</td>\n",
       "    </tr>\n",
       "  </tbody>\n",
       "</table>\n",
       "</div>"
      ],
      "text/plain": [
       "        age    height    weight     ap_hi     ap_lo  gender  cholesterol  \\\n",
       "0  0.217047  0.729278  0.269138  0.477503  0.347275       1            1   \n",
       "1  0.220378  0.625071  0.340584  0.560961  0.360618       0            2   \n",
       "2  0.220084  0.698344  0.270873  0.550211  0.296267       0            2   \n",
       "3  0.181308  0.638354  0.309734  0.566587  0.377724       1            1   \n",
       "4  0.230471  0.749031  0.268883  0.480148  0.288089       0            1   \n",
       "\n",
       "   gluc  smoke  alco  active  cardio  \n",
       "0     1      0     0       1       0  \n",
       "1     1      0     0       1       1  \n",
       "2     1      0     0       0       1  \n",
       "3     1      0     0       1       1  \n",
       "4     1      0     0       0       0  "
      ]
     },
     "execution_count": 219,
     "metadata": {},
     "output_type": "execute_result"
    }
   ],
   "source": [
    "#concat numerical and categorical columns\n",
    "data3 = pd.concat([data_num_normal,data_cat],axis=1)\n",
    "data3.head()"
   ]
  },
  {
   "cell_type": "markdown",
   "id": "844253b1",
   "metadata": {},
   "source": [
    "# 22. Logistic Regression with normalized data"
   ]
  },
  {
   "cell_type": "code",
   "execution_count": 220,
   "id": "b92e3304",
   "metadata": {},
   "outputs": [],
   "source": [
    "X=data3.drop(['cardio',\"alco\"],axis=1)\n",
    "Y=data3['cardio']"
   ]
  },
  {
   "cell_type": "code",
   "execution_count": 221,
   "id": "e25126c3",
   "metadata": {},
   "outputs": [],
   "source": [
    "X_train,X_test,Y_train,Y_test=train_test_split(X,Y,test_size=0.2,random_state=42)"
   ]
  },
  {
   "cell_type": "code",
   "execution_count": 222,
   "id": "173b2db9",
   "metadata": {},
   "outputs": [],
   "source": [
    "LR4=LogisticRegression()\n",
    "LR_model4=LR4.fit(X_train,Y_train)\n",
    "prediction4=LR_model4.predict(X_test)"
   ]
  },
  {
   "cell_type": "code",
   "execution_count": 223,
   "id": "310f8a8c",
   "metadata": {},
   "outputs": [
    {
     "data": {
      "text/plain": [
       "array([1, 0, 1, ..., 1, 1, 0])"
      ]
     },
     "execution_count": 223,
     "metadata": {},
     "output_type": "execute_result"
    }
   ],
   "source": [
    "prediction4"
   ]
  },
  {
   "cell_type": "code",
   "execution_count": 224,
   "id": "8facec4a",
   "metadata": {},
   "outputs": [
    {
     "data": {
      "text/plain": [
       "array([[5155, 1764],\n",
       "       [2300, 4480]], dtype=int64)"
      ]
     },
     "execution_count": 224,
     "metadata": {},
     "output_type": "execute_result"
    }
   ],
   "source": [
    "confusion_matrix(Y_test,prediction4)"
   ]
  },
  {
   "cell_type": "code",
   "execution_count": 225,
   "id": "4e5143c4",
   "metadata": {},
   "outputs": [
    {
     "name": "stdout",
     "output_type": "stream",
     "text": [
      "The precision score is\t : 0.7174887892376681\n",
      "The accuracy score is\t : 0.7033360099277319\n",
      "The recall score is\t : 0.6607669616519174\n"
     ]
    }
   ],
   "source": [
    "print(\"The precision score is\\t :\",precision_score(Y_test,prediction4))\n",
    "print(\"The accuracy score is\\t :\",accuracy_score(Y_test,prediction4))\n",
    "print(\"The recall score is\\t :\",recall_score(Y_test,prediction4))"
   ]
  },
  {
   "cell_type": "markdown",
   "id": "1830ba57",
   "metadata": {},
   "source": [
    "# 23. kNN-Normalization"
   ]
  },
  {
   "cell_type": "code",
   "execution_count": 226,
   "id": "208d5f22",
   "metadata": {},
   "outputs": [],
   "source": [
    "#set number for k in the range 3 to 14.Finding the accuracy score for different values for k\n",
    "metric_k=[]\n",
    "neighbors=range(3,15)\n",
    "\n",
    "for k in neighbors:\n",
    "    classifier=KNeighborsClassifier(n_neighbors=k)\n",
    "    classifier=classifier.fit(X_train,Y_train)\n",
    "    y_pred_kNN=classifier.predict(X_test)\n",
    "    acc=accuracy_score(Y_test,y_pred_kNN)\n",
    "    metric_k.append(acc)"
   ]
  },
  {
   "cell_type": "code",
   "execution_count": 227,
   "id": "93716bad",
   "metadata": {},
   "outputs": [
    {
     "data": {
      "text/plain": [
       "[0.6685889480984013,\n",
       " 0.6731878239287539,\n",
       " 0.6878604277684502,\n",
       " 0.6913643331630046,\n",
       " 0.6967661873129426,\n",
       " 0.6998321045331776,\n",
       " 0.7013650631432952,\n",
       " 0.7053069567121688,\n",
       " 0.7066209212351267,\n",
       " 0.7075698956128185,\n",
       " 0.7090298561938828,\n",
       " 0.7090298561938828]"
      ]
     },
     "execution_count": 227,
     "metadata": {},
     "output_type": "execute_result"
    }
   ],
   "source": [
    "#print the list\n",
    "metric_k"
   ]
  },
  {
   "cell_type": "code",
   "execution_count": 228,
   "id": "c10e1888",
   "metadata": {},
   "outputs": [
    {
     "data": {
      "image/png": "[encoded data removed]",
      "text/plain": [
       "<Figure size 432x288 with 1 Axes>"
      ]
     },
     "metadata": {
      "needs_background": "light"
     },
     "output_type": "display_data"
    }
   ],
   "source": [
    "#Another method to find the accurate values.Plot graph\n",
    "plt.plot(neighbors,metric_k,'o-')\n",
    "plt.xlabel('k values')\n",
    "plt.ylabel('Accuracies')\n",
    "plt.grid()\n",
    "plt.show()"
   ]
  },
  {
   "cell_type": "code",
   "execution_count": null,
   "id": "f97842fd",
   "metadata": {},
   "outputs": [],
   "source": []
  },
  {
   "cell_type": "code",
   "execution_count": 229,
   "id": "1d77bbc6",
   "metadata": {},
   "outputs": [],
   "source": [
    "#Same steps above with k=14\n",
    "classifier=KNeighborsClassifier(n_neighbors=14)\n",
    "classifier=classifier.fit(X_train,Y_train)\n",
    "y_pred_kNN=classifier.predict(X_test)"
   ]
  },
  {
   "cell_type": "code",
   "execution_count": 230,
   "id": "3b115757",
   "metadata": {},
   "outputs": [
    {
     "data": {
      "text/plain": [
       "array([[5361, 1558],\n",
       "       [2428, 4352]], dtype=int64)"
      ]
     },
     "execution_count": 230,
     "metadata": {},
     "output_type": "execute_result"
    }
   ],
   "source": [
    "confusion_matrix(Y_test,y_pred_kNN)"
   ]
  },
  {
   "cell_type": "code",
   "execution_count": 231,
   "id": "3d1393d4",
   "metadata": {},
   "outputs": [
    {
     "name": "stdout",
     "output_type": "stream",
     "text": [
      "The precision score is\t : 0.7363790186125212\n",
      "The accuracy score is\t : 0.7090298561938828\n",
      "The recall score is\t : 0.6418879056047198\n"
     ]
    }
   ],
   "source": [
    "print(\"The precision score is\\t :\",precision_score(Y_test,y_pred_kNN))\n",
    "print(\"The accuracy score is\\t :\",accuracy_score(Y_test,y_pred_kNN))\n",
    "print(\"The recall score is\\t :\",recall_score(Y_test,y_pred_kNN))"
   ]
  },
  {
   "cell_type": "markdown",
   "id": "bd89662d",
   "metadata": {},
   "source": [
    "# 24. SVM-Linear"
   ]
  },
  {
   "cell_type": "code",
   "execution_count": 232,
   "id": "88228981",
   "metadata": {},
   "outputs": [],
   "source": [
    "#with linear keranal\n",
    "#svm_clf=SVC(kernel=\"linear\")\n",
    "#svm_clf=svm_clf.fit(X_train,Y_train)\n",
    "#y_pred_svm=svm_clf.predict(X_test)"
   ]
  },
  {
   "cell_type": "code",
   "execution_count": 233,
   "id": "fe989d02",
   "metadata": {},
   "outputs": [],
   "source": [
    "#confusion_matrix(Y_test,y_pred_svm)"
   ]
  },
  {
   "cell_type": "code",
   "execution_count": 234,
   "id": "f52af22d",
   "metadata": {},
   "outputs": [],
   "source": [
    "#print(\"The precision score is\\t :\",precision_score(Y_test,y_pred_svm))\n",
    "#print(\"The accuracy score is\\t :\",accuracy_score(Y_test,y_pred_svm))\n",
    "#print(\"The recall score is\\t :\",recall_score(Y_test,y_pred_svm))"
   ]
  },
  {
   "cell_type": "code",
   "execution_count": 235,
   "id": "ac1be4d7",
   "metadata": {},
   "outputs": [],
   "source": [
    "# SVM-Rbf"
   ]
  },
  {
   "cell_type": "code",
   "execution_count": 236,
   "id": "e3633691",
   "metadata": {},
   "outputs": [],
   "source": [
    "#with Radial Basis Function (RBF)\n",
    "#svm_clf2=SVC(kernel=\"rbf\")\n",
    "#svm_clf2=svm_clf2.fit(X_train,Y_train)\n",
    "#y_pred_svm2=svm_clf2.predict(X_test)"
   ]
  },
  {
   "cell_type": "code",
   "execution_count": 237,
   "id": "6fef904e",
   "metadata": {},
   "outputs": [],
   "source": [
    "#print confusion matrix\n",
    "#confusion_matrix(Y_test,y_pred_svm2)"
   ]
  },
  {
   "cell_type": "code",
   "execution_count": 238,
   "id": "2904811a",
   "metadata": {},
   "outputs": [],
   "source": [
    "#print(\"The precision score is\\t :\",precision_score(Y_test,y_pred_svm2))\n",
    "#print(\"The accuracy score is\\t :\",accuracy_score(Y_test,y_pred_svm2))\n",
    "#print(\"The recall score is\\t :\",recall_score(Y_test,y_pred_svm2))"
   ]
  },
  {
   "cell_type": "markdown",
   "id": "01550a1d",
   "metadata": {},
   "source": [
    "# 25. Decision Tree-Normalization"
   ]
  },
  {
   "cell_type": "code",
   "execution_count": 239,
   "id": "31fe9f4e",
   "metadata": {},
   "outputs": [],
   "source": [
    "dt_clf=DecisionTreeClassifier()\n",
    "dt_clf=dt_clf.fit(X_train,Y_train)\n",
    "y_pred_dt=dt_clf.predict(X_test)"
   ]
  },
  {
   "cell_type": "code",
   "execution_count": 240,
   "id": "8f33a924",
   "metadata": {},
   "outputs": [
    {
     "data": {
      "text/plain": [
       "array([[4488, 2431],\n",
       "       [2671, 4109]], dtype=int64)"
      ]
     },
     "execution_count": 240,
     "metadata": {},
     "output_type": "execute_result"
    }
   ],
   "source": [
    "confusion_matrix(Y_test,y_pred_dt)"
   ]
  },
  {
   "cell_type": "code",
   "execution_count": 241,
   "id": "8ea29fea",
   "metadata": {},
   "outputs": [
    {
     "name": "stdout",
     "output_type": "stream",
     "text": [
      "The precision score is\t : 0.6282874617737003\n",
      "The accuracy score is\t : 0.6275640557704942\n",
      "The recall score is\t : 0.6060471976401179\n"
     ]
    }
   ],
   "source": [
    "print(\"The precision score is\\t :\",precision_score(Y_test,y_pred_dt))\n",
    "print(\"The accuracy score is\\t :\",accuracy_score(Y_test,y_pred_dt))\n",
    "print(\"The recall score is\\t :\",recall_score(Y_test,y_pred_dt))"
   ]
  },
  {
   "cell_type": "markdown",
   "id": "d89ac6ae",
   "metadata": {},
   "source": [
    "# 26. Random Forest-Normalization"
   ]
  },
  {
   "cell_type": "code",
   "execution_count": 242,
   "id": "f4f13edf",
   "metadata": {},
   "outputs": [],
   "source": [
    "rf_clf=RandomForestClassifier()\n",
    "rf_clf=rf_clf.fit(X_train,Y_train)\n",
    "y_pred_rf=rf_clf.predict(X_test)"
   ]
  },
  {
   "cell_type": "code",
   "execution_count": 243,
   "id": "a048869c",
   "metadata": {},
   "outputs": [
    {
     "data": {
      "text/plain": [
       "array([[5002, 1917],\n",
       "       [2147, 4633]], dtype=int64)"
      ]
     },
     "execution_count": 243,
     "metadata": {},
     "output_type": "execute_result"
    }
   ],
   "source": [
    "confusion_matrix(Y_test,y_pred_rf)"
   ]
  },
  {
   "cell_type": "code",
   "execution_count": 244,
   "id": "d75fab15",
   "metadata": {},
   "outputs": [
    {
     "name": "stdout",
     "output_type": "stream",
     "text": [
      "The precision score is\t : 0.7073282442748091\n",
      "The accuracy score is\t : 0.7033360099277319\n",
      "The recall score is\t : 0.6833333333333333\n"
     ]
    }
   ],
   "source": [
    "print(\"The precision score is\\t :\",precision_score(Y_test,y_pred_rf))\n",
    "print(\"The accuracy score is\\t :\",accuracy_score(Y_test,y_pred_rf))\n",
    "print(\"The recall score is\\t :\",recall_score(Y_test,y_pred_rf))"
   ]
  },
  {
   "cell_type": "markdown",
   "id": "1e6e2314",
   "metadata": {},
   "source": [
    "# 27. XG Boost Classifier-Normalization"
   ]
  },
  {
   "cell_type": "code",
   "execution_count": 245,
   "id": "4fee3f3d",
   "metadata": {},
   "outputs": [],
   "source": [
    "from xgboost import XGBClassifier\n",
    "xgb = XGBClassifier(learning_rate=0.02, n_estimators=600)\n",
    "xgb_m=xgb.fit(X_train, Y_train)\n",
    "y_pred_xgb = xgb_m.predict(X_test)"
   ]
  },
  {
   "cell_type": "code",
   "execution_count": 246,
   "id": "233ae129",
   "metadata": {},
   "outputs": [
    {
     "data": {
      "text/plain": [
       "array([[5370, 1549],\n",
       "       [2284, 4496]], dtype=int64)"
      ]
     },
     "execution_count": 246,
     "metadata": {},
     "output_type": "execute_result"
    }
   ],
   "source": [
    "confusion_matrix(Y_test,y_pred_xgb)"
   ]
  },
  {
   "cell_type": "code",
   "execution_count": 247,
   "id": "7126b6eb",
   "metadata": {},
   "outputs": [
    {
     "name": "stdout",
     "output_type": "stream",
     "text": [
      "The precision score is\t : 0.7437551695616211\n",
      "The accuracy score is\t : 0.7201985546390247\n",
      "The recall score is\t : 0.6631268436578172\n"
     ]
    }
   ],
   "source": [
    "print(\"The precision score is\\t :\",precision_score(Y_test,y_pred_xgb))\n",
    "print(\"The accuracy score is\\t :\",accuracy_score(Y_test,y_pred_xgb))\n",
    "print(\"The recall score is\\t :\",recall_score(Y_test,y_pred_xgb))"
   ]
  },
  {
   "cell_type": "markdown",
   "id": "bbe83d3e",
   "metadata": {},
   "source": [
    "# 28.Naive bayes-Normalization"
   ]
  },
  {
   "cell_type": "code",
   "execution_count": 248,
   "id": "b4decf0e",
   "metadata": {},
   "outputs": [],
   "source": [
    "from sklearn.naive_bayes import GaussianNB \n",
    "nb = GaussianNB() \n",
    "nb_m=nb.fit(X_train, Y_train)\n",
    "y_pred_nb = nb_m.predict(X_test)"
   ]
  },
  {
   "cell_type": "code",
   "execution_count": 249,
   "id": "5184b919",
   "metadata": {},
   "outputs": [
    {
     "name": "stdout",
     "output_type": "stream",
     "text": [
      "The precision score is\t : 0.7244755244755244\n",
      "The accuracy score is\t : 0.6925323016278561\n",
      "The recall score is\t : 0.6112094395280236\n"
     ]
    }
   ],
   "source": [
    "print(\"The precision score is\\t :\",precision_score(Y_test,y_pred_nb))\n",
    "print(\"The accuracy score is\\t :\",accuracy_score(Y_test,y_pred_nb))\n",
    "print(\"The recall score is\\t :\",recall_score(Y_test,y_pred_nb))"
   ]
  },
  {
   "cell_type": "code",
   "execution_count": 250,
   "id": "ca25555f",
   "metadata": {},
   "outputs": [
    {
     "data": {
      "text/plain": [
       "array([[5343, 1576],\n",
       "       [2636, 4144]], dtype=int64)"
      ]
     },
     "execution_count": 250,
     "metadata": {},
     "output_type": "execute_result"
    }
   ],
   "source": [
    "confusion_matrix(Y_test,y_pred_nb)"
   ]
  },
  {
   "cell_type": "markdown",
   "id": "f8f52118",
   "metadata": {},
   "source": [
    "# Best accuracy scores of Models "
   ]
  },
  {
   "cell_type": "code",
   "execution_count": 251,
   "id": "3bf3e0d1",
   "metadata": {},
   "outputs": [
    {
     "data": {
      "text/html": [
       "<div>\n",
       "<style scoped>\n",
       "    .dataframe tbody tr th:only-of-type {\n",
       "        vertical-align: middle;\n",
       "    }\n",
       "\n",
       "    .dataframe tbody tr th {\n",
       "        vertical-align: top;\n",
       "    }\n",
       "\n",
       "    .dataframe thead th {\n",
       "        text-align: right;\n",
       "    }\n",
       "</style>\n",
       "<table border=\"1\" class=\"dataframe\">\n",
       "  <thead>\n",
       "    <tr style=\"text-align: right;\">\n",
       "      <th></th>\n",
       "      <th>Accuracy Score</th>\n",
       "    </tr>\n",
       "  </thead>\n",
       "  <tbody>\n",
       "    <tr>\n",
       "      <th>XGBoost</th>\n",
       "      <td>73.056427</td>\n",
       "    </tr>\n",
       "    <tr>\n",
       "      <th>KNN</th>\n",
       "      <td>71.793562</td>\n",
       "    </tr>\n",
       "    <tr>\n",
       "      <th>Logistic Regression</th>\n",
       "      <td>71.778962</td>\n",
       "    </tr>\n",
       "    <tr>\n",
       "      <th>Naive Bayes</th>\n",
       "      <td>70.596394</td>\n",
       "    </tr>\n",
       "    <tr>\n",
       "      <th>Random Forest</th>\n",
       "      <td>69.764216</td>\n",
       "    </tr>\n",
       "    <tr>\n",
       "      <th>Decision Tree</th>\n",
       "      <td>63.530185</td>\n",
       "    </tr>\n",
       "  </tbody>\n",
       "</table>\n",
       "</div>"
      ],
      "text/plain": [
       "                     Accuracy Score\n",
       "XGBoost                   73.056427\n",
       "KNN                       71.793562\n",
       "Logistic Regression       71.778962\n",
       "Naive Bayes               70.596394\n",
       "Random Forest             69.764216\n",
       "Decision Tree             63.530185"
      ]
     },
     "execution_count": 251,
     "metadata": {},
     "output_type": "execute_result"
    }
   ],
   "source": [
    "models = [ 'Logistic Regression','KNN','Decision Tree','Random Forest', 'XGBoost','Naive Bayes']\n",
    "data = [ Log_reg_score*100,KNN_score*100,Dec_score*100,Rf_score*100, XG_score*100,NB_score*100]\n",
    "cols = ['Accuracy Score']\n",
    "pd.DataFrame(data=data , index= models , columns= cols).sort_values(by=['Accuracy Score'], ascending= False)"
   ]
  },
  {
   "cell_type": "markdown",
   "id": "a83b7b16",
   "metadata": {},
   "source": [
    "# Mean accuracy scores of models after applying the KFold cross validation"
   ]
  },
  {
   "cell_type": "code",
   "execution_count": 252,
   "id": "3b17580b",
   "metadata": {},
   "outputs": [
    {
     "data": {
      "text/html": [
       "<div>\n",
       "<style scoped>\n",
       "    .dataframe tbody tr th:only-of-type {\n",
       "        vertical-align: middle;\n",
       "    }\n",
       "\n",
       "    .dataframe tbody tr th {\n",
       "        vertical-align: top;\n",
       "    }\n",
       "\n",
       "    .dataframe thead th {\n",
       "        text-align: right;\n",
       "    }\n",
       "</style>\n",
       "<table border=\"1\" class=\"dataframe\">\n",
       "  <thead>\n",
       "    <tr style=\"text-align: right;\">\n",
       "      <th></th>\n",
       "      <th>Mean Accuracy</th>\n",
       "    </tr>\n",
       "  </thead>\n",
       "  <tbody>\n",
       "    <tr>\n",
       "      <th>XGBoost</th>\n",
       "      <td>73.527267</td>\n",
       "    </tr>\n",
       "    <tr>\n",
       "      <th>Logistic Regression</th>\n",
       "      <td>72.481563</td>\n",
       "    </tr>\n",
       "    <tr>\n",
       "      <th>KNN</th>\n",
       "      <td>72.036284</td>\n",
       "    </tr>\n",
       "    <tr>\n",
       "      <th>Naive Bayes</th>\n",
       "      <td>71.364721</td>\n",
       "    </tr>\n",
       "    <tr>\n",
       "      <th>Random Forest</th>\n",
       "      <td>70.329974</td>\n",
       "    </tr>\n",
       "    <tr>\n",
       "      <th>Decision Tree</th>\n",
       "      <td>63.528366</td>\n",
       "    </tr>\n",
       "  </tbody>\n",
       "</table>\n",
       "</div>"
      ],
      "text/plain": [
       "                     Mean Accuracy\n",
       "XGBoost                  73.527267\n",
       "Logistic Regression      72.481563\n",
       "KNN                      72.036284\n",
       "Naive Bayes              71.364721\n",
       "Random Forest            70.329974\n",
       "Decision Tree            63.528366"
      ]
     },
     "execution_count": 252,
     "metadata": {},
     "output_type": "execute_result"
    }
   ],
   "source": [
    "model = ['Random Forest', 'Decision Tree', 'KNN', 'Naive Bayes', 'XGBoost','Logistic Regression']\n",
    "scores = [accuracies_rf_clf.mean()*100,accuracies_dt_clf.mean()*100,accuracies_classifier.mean()*100,accuracies_nb.mean()*100,accuracies_xgb.mean()*100,accuracies_log_reg.mean()*100]\n",
    "\n",
    "summary = pd.DataFrame(data=scores, index=model, columns=['Mean Accuracy'])\n",
    "summary.sort_values(by=['Mean Accuracy'], ascending=False)"
   ]
  },
  {
   "cell_type": "markdown",
   "id": "a6783e60",
   "metadata": {},
   "source": []
  },
  {
   "cell_type": "markdown",
   "id": "a6a3c3f7",
   "metadata": {},
   "source": [
    "# Conclusion"
   ]
  },
  {
   "cell_type": "markdown",
   "id": "b306d91b",
   "metadata": {},
   "source": [
    "\n",
    ">The XGBoost model was the best performer out of proposed models giving us a mean accuracy score of 73.52%.\n",
    "\n",
    ">K-Fold cross validation was used to ensure no overfitting was done.\n",
    "\n",
    ">Hyperparameter Tuning was further performed on the models; but for some models it took much time to run..\n",
    "\n",
    ">So we took the second best model Logistic Regression after Stratified KFold for better prediction which gives mean accuracy score of 72.48% "
   ]
  },
  {
   "cell_type": "markdown",
   "id": "ef3fc963",
   "metadata": {},
   "source": [
    "# Fine Tuning"
   ]
  },
  {
   "cell_type": "markdown",
   "id": "0c79a6c6",
   "metadata": {},
   "source": [
    "# XG Boost"
   ]
  },
  {
   "cell_type": "code",
   "execution_count": 253,
   "id": "f9c997bc",
   "metadata": {},
   "outputs": [],
   "source": [
    "### Applying Grid Search to find the best model and best parameters \n",
    "#from sklearn.model_selection import GridSearchCV\n",
    "#create xgboost classifier\n",
    "#xgb=XGBClassifier()\n",
    "\n",
    "#define set of parameters that will be investigated by Grid Search\n",
    "#parameters = {\n",
    "           # 'learning_rate': [0.01, 0.02, 0.05, 0.1],\n",
    "           # 'max_depth': [3, 4, 5]}"
   ]
  },
  {
   "cell_type": "code",
   "execution_count": 254,
   "id": "64a245ce",
   "metadata": {},
   "outputs": [],
   "source": [
    "#grid = GridSearchCV(xgb,param_grid = parameters,scoring = 'accuracy',cv=10,n_jobs = -1)"
   ]
  },
  {
   "cell_type": "code",
   "execution_count": 255,
   "id": "0b7462c0",
   "metadata": {},
   "outputs": [],
   "source": [
    "#grid.fit(X_train, Y_train)"
   ]
  },
  {
   "cell_type": "code",
   "execution_count": 256,
   "id": "38bde7d7",
   "metadata": {},
   "outputs": [],
   "source": [
    "#grid.best_params_"
   ]
  },
  {
   "cell_type": "code",
   "execution_count": 257,
   "id": "4fcd939a",
   "metadata": {},
   "outputs": [],
   "source": [
    "#grid.best_estimator_"
   ]
  },
  {
   "cell_type": "code",
   "execution_count": 258,
   "id": "1ce7c7d8",
   "metadata": {},
   "outputs": [],
   "source": [
    "#grid.best_score_"
   ]
  },
  {
   "cell_type": "markdown",
   "id": "72a7c484",
   "metadata": {},
   "source": [
    "# Logistic Regression"
   ]
  },
  {
   "cell_type": "code",
   "execution_count": 259,
   "id": "f9121f0c",
   "metadata": {},
   "outputs": [],
   "source": [
    "LR=LogisticRegression()\n",
    "#define set of parameters that will be investigated by Grid Search\n",
    "param_grid = {'C': [0.001, 0.01, 0.1, 1, 10, 100, 1000]}"
   ]
  },
  {
   "cell_type": "code",
   "execution_count": 260,
   "id": "1f756f78",
   "metadata": {},
   "outputs": [],
   "source": [
    "grid = GridSearchCV(LR,param_grid,scoring = 'accuracy',cv=10,n_jobs = -1)"
   ]
  },
  {
   "cell_type": "code",
   "execution_count": 261,
   "id": "09d72c5d",
   "metadata": {},
   "outputs": [
    {
     "data": {
      "text/plain": [
       "GridSearchCV(cv=10, estimator=LogisticRegression(), n_jobs=-1,\n",
       "             param_grid={'C': [0.001, 0.01, 0.1, 1, 10, 100, 1000]},\n",
       "             scoring='accuracy')"
      ]
     },
     "execution_count": 261,
     "metadata": {},
     "output_type": "execute_result"
    }
   ],
   "source": [
    "grid.fit(X_train, Y_train)"
   ]
  },
  {
   "cell_type": "code",
   "execution_count": 262,
   "id": "fd6cfc8f",
   "metadata": {},
   "outputs": [
    {
     "data": {
      "text/plain": [
       "{'C': 0.1}"
      ]
     },
     "execution_count": 262,
     "metadata": {},
     "output_type": "execute_result"
    }
   ],
   "source": [
    "grid.best_params_"
   ]
  },
  {
   "cell_type": "code",
   "execution_count": 263,
   "id": "61d4a7a6",
   "metadata": {},
   "outputs": [
    {
     "data": {
      "text/plain": [
       "LogisticRegression(C=0.1)"
      ]
     },
     "execution_count": 263,
     "metadata": {},
     "output_type": "execute_result"
    }
   ],
   "source": [
    "grid.best_estimator_"
   ]
  },
  {
   "cell_type": "code",
   "execution_count": 264,
   "id": "d3c8ad78",
   "metadata": {},
   "outputs": [
    {
     "data": {
      "text/plain": [
       "0.7107274357433758"
      ]
     },
     "execution_count": 264,
     "metadata": {},
     "output_type": "execute_result"
    }
   ],
   "source": [
    "grid.best_score_"
   ]
  },
  {
   "cell_type": "code",
   "execution_count": null,
   "id": "4685c482",
   "metadata": {},
   "outputs": [],
   "source": []
  },
  {
   "cell_type": "markdown",
   "id": "21f18e50",
   "metadata": {},
   "source": [
    "# KNN"
   ]
  },
  {
   "cell_type": "code",
   "execution_count": 276,
   "id": "1b455798",
   "metadata": {},
   "outputs": [
    {
     "data": {
      "text/plain": [
       "GridSearchCV(cv=10, estimator=KNeighborsClassifier(), n_jobs=-1,\n",
       "             param_grid={'leaf_size': [1, 6, 11, 16, 21, 26, 31, 36, 41, 46],\n",
       "                         'n_neighbors': [6, 8, 10, 12, 14, 16, 18, 20]},\n",
       "             scoring='accuracy')"
      ]
     },
     "execution_count": 276,
     "metadata": {},
     "output_type": "execute_result"
    }
   ],
   "source": [
    "knn=KNeighborsClassifier()\n",
    "#define set of parameters that will be investigated by Grid Search\n",
    "param_grid = {'n_neighbors':[6,8,10,12,14,16,18,20],\n",
    "         'leaf_size':list(range(1,50,5))}\n",
    "grid = GridSearchCV(knn,param_grid,scoring = 'accuracy',cv=10,n_jobs = -1)\n",
    "grid.fit(X_train,Y_train)"
   ]
  },
  {
   "cell_type": "code",
   "execution_count": 277,
   "id": "31ba5bf5",
   "metadata": {},
   "outputs": [
    {
     "data": {
      "text/plain": [
       "{'leaf_size': 16, 'n_neighbors': 20}"
      ]
     },
     "execution_count": 277,
     "metadata": {},
     "output_type": "execute_result"
    }
   ],
   "source": [
    "grid.best_params_"
   ]
  },
  {
   "cell_type": "code",
   "execution_count": 278,
   "id": "b3cbd064",
   "metadata": {},
   "outputs": [
    {
     "data": {
      "text/plain": [
       "KNeighborsClassifier(leaf_size=16, n_neighbors=20)"
      ]
     },
     "execution_count": 278,
     "metadata": {},
     "output_type": "execute_result"
    }
   ],
   "source": [
    "grid.best_estimator_"
   ]
  },
  {
   "cell_type": "code",
   "execution_count": 279,
   "id": "fc5c64ef",
   "metadata": {},
   "outputs": [
    {
     "data": {
      "text/plain": [
       "0.7155997784507003"
      ]
     },
     "execution_count": 279,
     "metadata": {},
     "output_type": "execute_result"
    }
   ],
   "source": [
    "grid.best_score_"
   ]
  },
  {
   "cell_type": "code",
   "execution_count": null,
   "id": "82c38322",
   "metadata": {},
   "outputs": [],
   "source": []
  },
  {
   "cell_type": "markdown",
   "id": "35ef3657",
   "metadata": {},
   "source": [
    "# Naive Bayes"
   ]
  },
  {
   "cell_type": "code",
   "execution_count": 269,
   "id": "306f5f16",
   "metadata": {},
   "outputs": [
    {
     "name": "stdout",
     "output_type": "stream",
     "text": [
      "Fitting 10 folds for each of 100 candidates, totalling 1000 fits\n"
     ]
    },
    {
     "data": {
      "text/plain": [
       "GridSearchCV(cv=10, estimator=GaussianNB(),\n",
       "             param_grid={'var_smoothing': array([1.00000000e+00, 8.11130831e-01, 6.57933225e-01, 5.33669923e-01,\n",
       "       4.32876128e-01, 3.51119173e-01, 2.84803587e-01, 2.31012970e-01,\n",
       "       1.87381742e-01, 1.51991108e-01, 1.23284674e-01, 1.00000000e-01,\n",
       "       8.11130831e-02, 6.57933225e-02, 5.33669923e-02, 4.32876128e-02,\n",
       "       3.51119173e-02, 2.84803587e-02, 2.3...\n",
       "       1.23284674e-07, 1.00000000e-07, 8.11130831e-08, 6.57933225e-08,\n",
       "       5.33669923e-08, 4.32876128e-08, 3.51119173e-08, 2.84803587e-08,\n",
       "       2.31012970e-08, 1.87381742e-08, 1.51991108e-08, 1.23284674e-08,\n",
       "       1.00000000e-08, 8.11130831e-09, 6.57933225e-09, 5.33669923e-09,\n",
       "       4.32876128e-09, 3.51119173e-09, 2.84803587e-09, 2.31012970e-09,\n",
       "       1.87381742e-09, 1.51991108e-09, 1.23284674e-09, 1.00000000e-09])},\n",
       "             scoring='accuracy', verbose=1)"
      ]
     },
     "execution_count": 269,
     "metadata": {},
     "output_type": "execute_result"
    }
   ],
   "source": [
    "nb=GaussianNB()\n",
    "#define set of parameters that will be investigated by Grid Search\n",
    "params_NB = {'var_smoothing': np.logspace(0,-9, num=100)}\n",
    "\n",
    "grid = GridSearchCV(nb,param_grid=params_NB, cv=10,verbose=1, scoring='accuracy')\n",
    "grid.fit(X_train, Y_train)"
   ]
  },
  {
   "cell_type": "code",
   "execution_count": 270,
   "id": "acabcf27",
   "metadata": {},
   "outputs": [
    {
     "data": {
      "text/plain": [
       "0.7046868834288317"
      ]
     },
     "execution_count": 270,
     "metadata": {},
     "output_type": "execute_result"
    }
   ],
   "source": [
    "grid.best_estimator_\n",
    "grid.best_score_"
   ]
  },
  {
   "cell_type": "markdown",
   "id": "fd96a06e",
   "metadata": {},
   "source": [
    "# Random Forest "
   ]
  },
  {
   "cell_type": "code",
   "execution_count": 271,
   "id": "ceb772d8",
   "metadata": {},
   "outputs": [
    {
     "data": {
      "text/plain": [
       "GridSearchCV(cv=10, estimator=RandomForestClassifier(),\n",
       "             param_grid={'max_depth': [2, 4, 6, 8],\n",
       "                         'min_samples_leaf': [1, 2, 4],\n",
       "                         'n_estimators': [10, 50, 100]},\n",
       "             scoring='accuracy')"
      ]
     },
     "execution_count": 271,
     "metadata": {},
     "output_type": "execute_result"
    }
   ],
   "source": [
    "# Define the set of hyperparameters\n",
    "param_grid = {'n_estimators': [10, 50, 100],'max_depth': [2, 4, 6, 8],'min_samples_leaf': [1, 2, 4]}\n",
    "\n",
    "rf_clf = RandomForestClassifier()\n",
    "\n",
    "\n",
    "grid = GridSearchCV(rf_clf, param_grid, cv=10, scoring='accuracy')\n",
    "\n",
    "\n",
    "grid.fit(X_train, Y_train)"
   ]
  },
  {
   "cell_type": "code",
   "execution_count": 272,
   "id": "49b54c5b",
   "metadata": {},
   "outputs": [
    {
     "data": {
      "text/plain": [
       "0.7251626315740392"
      ]
     },
     "execution_count": 272,
     "metadata": {},
     "output_type": "execute_result"
    }
   ],
   "source": [
    "grid.best_estimator_\n",
    "grid.best_score_"
   ]
  },
  {
   "cell_type": "markdown",
   "id": "e3d2c485",
   "metadata": {},
   "source": [
    "# Decision Tree"
   ]
  },
  {
   "cell_type": "code",
   "execution_count": 273,
   "id": "9e0d86ea",
   "metadata": {},
   "outputs": [
    {
     "data": {
      "text/plain": [
       "GridSearchCV(cv=10, estimator=DecisionTreeClassifier(),\n",
       "             param_grid={'max_depth': [2, 4, 6, 8],\n",
       "                         'max_leaf_nodes': [2, 4, 6, 8]},\n",
       "             scoring='accuracy')"
      ]
     },
     "execution_count": 273,
     "metadata": {},
     "output_type": "execute_result"
    }
   ],
   "source": [
    "# Define the set of hyperparameters \n",
    "param_grid = {'max_depth': [2, 4, 6, 8], 'max_leaf_nodes': [2, 4, 6, 8]}\n",
    "\n",
    "\n",
    "dt_clf = DecisionTreeClassifier()\n",
    "\n",
    "\n",
    "grid = GridSearchCV(dt_clf, param_grid, cv=10, scoring='accuracy')\n",
    "\n",
    "\n",
    "grid.fit(X_train, Y_train)\n"
   ]
  },
  {
   "cell_type": "code",
   "execution_count": 274,
   "id": "2211fc28",
   "metadata": {},
   "outputs": [
    {
     "data": {
      "text/plain": [
       "0.7111653519809544"
      ]
     },
     "execution_count": 274,
     "metadata": {},
     "output_type": "execute_result"
    }
   ],
   "source": [
    "grid.best_estimator_\n",
    "grid.best_score_"
   ]
  },
  {
   "cell_type": "code",
   "execution_count": null,
   "id": "e31c71bd",
   "metadata": {},
   "outputs": [],
   "source": []
  }
 ],
 "metadata": {
  "kernelspec": {
   "display_name": "Python 3 (ipykernel)",
   "language": "python",
   "name": "python3"
  },
  "language_info": {
   "codemirror_mode": {
    "name": "ipython",
    "version": 3
   },
   "file_extension": ".py",
   "mimetype": "text/x-python",
   "name": "python",
   "nbconvert_exporter": "python",
   "pygments_lexer": "ipython3",
   "version": "3.9.12"
  }
 },
 "nbformat": 4,
 "nbformat_minor": 5
}
